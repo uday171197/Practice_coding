{
 "cells": [
  {
   "cell_type": "code",
   "execution_count": 16,
   "metadata": {},
   "outputs": [],
   "source": [
    "import numbers\n",
    "class Mod:\n",
    "    def __init__(self,value,modulus):\n",
    "        if not isinstance(value,numbers.Real):\n",
    "            raise ValueError('Value must be Real Number')\n",
    "        \n",
    "        if not isinstance(modulus,numbers.Real):\n",
    "            raise ValueError('Modulus must be Real Number')\n",
    "        \n",
    "        if modulus < 0:\n",
    "            raise ValueError('Modulus must be Positive Number')\n",
    "        \n",
    "        self.value = value\n",
    "        self.modulus = modulus\n",
    "        self._residue = self.value % self.modulus\n",
    "        \n",
    "    def __mod__(self):\n",
    "        self.residue = self.value % self.modulus\n",
    "        return self.residue\n",
    "\n",
    "    @property\n",
    "    def residue(self):\n",
    "        return self._residue\n",
    "    \n",
    "    def __eq__(self,other):\n",
    "        \n",
    "        if isinstance(other,Mod):\n",
    "            return self.residue == other.residue\n",
    "        if isinstance(other,numbers.Real):\n",
    "            residue = other % self.modulus\n",
    "            return self.residue ==  residue\n",
    "        raise ValueError('The value must be Mod objetc or an Real Number')\n",
    "                \n",
    "    def __hash__(self) -> int:\n",
    "        return hash(self.residue)\n"
   ]
  },
  {
   "cell_type": "code",
   "execution_count": 9,
   "metadata": {},
   "outputs": [],
   "source": [
    "m = Mod(2,3)\n",
    "m1 = Mod(8,3)"
   ]
  },
  {
   "cell_type": "code",
   "execution_count": 10,
   "metadata": {},
   "outputs": [
    {
     "data": {
      "text/plain": [
       "False"
      ]
     },
     "execution_count": 10,
     "metadata": {},
     "output_type": "execute_result"
    }
   ],
   "source": [
    "m == 13"
   ]
  },
  {
   "cell_type": "code",
   "execution_count": 12,
   "metadata": {},
   "outputs": [
    {
     "data": {
      "text/plain": [
       "True"
      ]
     },
     "execution_count": 12,
     "metadata": {},
     "output_type": "execute_result"
    }
   ],
   "source": [
    "m1 == m"
   ]
  },
  {
   "cell_type": "code",
   "execution_count": 14,
   "metadata": {},
   "outputs": [
    {
     "data": {
      "text/plain": [
       "{<__main__.Map at 0x7fb22ef832e0>: 2}"
      ]
     },
     "execution_count": 14,
     "metadata": {},
     "output_type": "execute_result"
    }
   ],
   "source": [
    "d = {m:2}\n",
    "d"
   ]
  },
  {
   "cell_type": "code",
   "execution_count": 146,
   "metadata": {},
   "outputs": [],
   "source": [
    "import numbers\n",
    "from functools import total_ordering\n",
    "\n",
    "# @total_ordering\n",
    "class Mod:\n",
    "    def __init__(self,value,modulus):\n",
    "        if not isinstance(value,numbers.Real):\n",
    "            raise TypeError('Value must be Real Number')\n",
    "        \n",
    "        if not isinstance(modulus,numbers.Real):\n",
    "            raise TypeError('Modulus must be Real Number')\n",
    "        \n",
    "        if modulus < 0:\n",
    "            raise ValueError('Modulus must be Positive Number')\n",
    "        \n",
    "\n",
    "        self._modulus = modulus\n",
    "        self._value = value % self._modulus\n",
    "        \n",
    "    def __mod__(self):\n",
    "        self.residue = self.value % self.modulus\n",
    "        return self.residue\n",
    "\n",
    "    @property\n",
    "    def value(self):\n",
    "        print('__value__ calling......................')\n",
    "        return self._value\n",
    "    \n",
    "    @property\n",
    "    def modulus(self):\n",
    "        print('__modulus__ calling......................')\n",
    "        return self._modulus\n",
    "    \n",
    "    def __repr__(self) -> str:\n",
    "        return f\"Mod(value = {self.value},modulus = {self.modulus})\"\n",
    "    \n",
    "    def __eq__(self,other):\n",
    "        print('__eq__ calling......................')\n",
    "        if isinstance(other,Mod):\n",
    "            if self.modulus != other.modulus:\n",
    "                return NotImplemented\n",
    "            else:\n",
    "                return self.value == other.value\n",
    "        elif isinstance(other,numbers.Real):\n",
    "            return self.value ==  other % self.modulus\n",
    "        else:\n",
    "            return NotImplemented\n",
    "                \n",
    "    def __hash__(self) -> int:\n",
    "        return hash((self.value,self.modulus))\n",
    "    \n",
    "    def __int__(self):\n",
    "        return self.value\n",
    "    \n",
    "    def __neg__(self):\n",
    "        return Mod(-self.value,self.modulus)\n",
    "    \n",
    "    def __add__(self,other):\n",
    "        print('__add__ calling......................')\n",
    "        if isinstance(other,Mod):\n",
    "            if self.modulus != other.modulus:\n",
    "                return NotImplemented\n",
    "            else:\n",
    "                return Mod(self.value + other.value,self.modulus)\n",
    "        elif isinstance(other,numbers.Real):\n",
    "            return Mod(self.value + other,self.modulus)\n",
    "        else:\n",
    "            return NotImplemented\n",
    "    \n",
    "    def __sub__(self,other):\n",
    "        print('__sub__ calling......................')\n",
    "        \n",
    "        if isinstance(other,Mod):\n",
    "            if self.modulus != other.modulus:\n",
    "                return NotImplemented\n",
    "            else:\n",
    "                return Mod(self.value + other.value,self.modulus)\n",
    "        elif isinstance(other,numbers.Real):\n",
    "            return Mod(self.value + other,self.modulus)\n",
    "        else:\n",
    "            return NotImplemented\n",
    "    \n",
    "    def __mul__(self,other):\n",
    "        print('__mul__ calling......................')\n",
    "        if isinstance(other,Mod):\n",
    "            if self.modulus != other.modulus:\n",
    "                return NotImplemented\n",
    "            else:\n",
    "                return Mod(self.value * other.value,self.modulus)\n",
    "        elif isinstance(other,numbers.Real):\n",
    "            return Mod(self.value * other,self.modulus)\n",
    "        else:\n",
    "            return NotImplemented\n",
    "    \n",
    "    def __rmul__(self,other):\n",
    "        print('__rmul__ calling......................')\n",
    "        if isinstance(other,Mod):\n",
    "            if self.modulus != other.modulus:\n",
    "                return NotImplemented\n",
    "            else:\n",
    "                return Mod(self.value * other.value,self.modulus)\n",
    "        elif isinstance(other,numbers.Real):\n",
    "            return Mod(self.value * (other % self.modulus),self.modulus)\n",
    "        else:\n",
    "            return NotImplemented\n",
    "        \n",
    "    def __pow__(self,other):\n",
    "        print('__rmul__ calling......................')\n",
    "        if isinstance(other,Mod):\n",
    "            if self.modulus != other.modulus:\n",
    "                return NotImplemented\n",
    "            else:\n",
    "                return Mod(self.value ** other.value,self.modulus)\n",
    "        elif isinstance(other,numbers.Real):\n",
    "            return Mod(self.value ** (other % self.modulus) ,self.modulus)\n",
    "        else:\n",
    "            return NotImplemented\n",
    "        \n",
    "    def __iadd__(self,other):\n",
    "        print('__iadd__ calling......................')\n",
    "        if isinstance(other,Mod):\n",
    "            if self.modulus != other.modulus:\n",
    "                return NotImplemented\n",
    "            else:\n",
    "                self.value = (self.value + other.value) % self.modulus\n",
    "                return self\n",
    "        elif isinstance(other,numbers.Real):\n",
    "            self.value = (self.value + other) % self.modulus\n",
    "            return self\n",
    "        else:\n",
    "            return NotImplemented\n",
    "        \n",
    "    def __isub__(self,other):\n",
    "        print('__isub__ calling......................')\n",
    "        if isinstance(other,Mod):\n",
    "            if self.modulus != other.modulus:\n",
    "                return NotImplemented\n",
    "            else:\n",
    "                self.value = (self.value - other.value) % self.modulus\n",
    "                return self\n",
    "        elif isinstance(other,numbers.Real):\n",
    "            self.value = (self.value - other) % self.modulus\n",
    "            return self\n",
    "        else:\n",
    "            return NotImplemented\n",
    "        \n",
    "    def __imul__(self,other):\n",
    "        print('__imul__ calling......................')\n",
    "        if isinstance(other,Mod):\n",
    "            if self.modulus != other.modulus:\n",
    "                return NotImplemented\n",
    "            else:\n",
    "                self.value = (self.value * other.value) % self.modulus\n",
    "                return self\n",
    "        elif isinstance(other,numbers.Real):\n",
    "            self.value = (self.value * other) % self.modulus\n",
    "            return self\n",
    "        else:\n",
    "            return NotImplemented\n",
    "        \n",
    "    def __ipow__(self,other):\n",
    "        print('__ipow__ calling......................')\n",
    "        if isinstance(other,Mod):\n",
    "            if self.modulus != other.modulus:\n",
    "                return NotImplemented\n",
    "            else:\n",
    "                self.value = (self.value ** other.value) % self.modulus\n",
    "                return self\n",
    "        elif isinstance(other,numbers.Real):\n",
    "            self.value = (self.value ** (other % self.modulus)) % self.modulus\n",
    "            return self\n",
    "        else:\n",
    "            return NotImplemented\n",
    "        \n",
    "    def __lt__(self,other):\n",
    "        print('__lt__ calling......................')\n",
    "        if isinstance(other,Mod) and self.modulus != other.modulus:\n",
    "            return self.value < other.value\n",
    "        elif isinstance(other,numbers.Real):\n",
    "            return self.value < other\n",
    "        else:\n",
    "            return NotImplemented\n",
    "        \n",
    "    def __gt__(self,other):\n",
    "        print('__gt__ calling......................')\n",
    "        if isinstance(other,Mod) and self.modulus != other.modulus:\n",
    "            return self.value > other.value\n",
    "        elif isinstance(other,numbers.Real):\n",
    "            return self.value > other\n",
    "        else:\n",
    "            return NotImplemented\n",
    "        \n",
    "    def __gte__(self,other):\n",
    "        print('__gte__ calling......................')\n",
    "        if isinstance(other,Mod) and self.modulus != other.modulus:\n",
    "            return self.value > other.value or self.value == other.value\n",
    "        elif isinstance(other,numbers.Real):\n",
    "            return self.value > other or self.value == other\n",
    "        else:\n",
    "            return NotImplemented\n",
    "        \n",
    "    def __lte__(self,other):\n",
    "        print('__lte__ calling......................')\n",
    "        if isinstance(other,Mod) and self.modulus != other.modulus:\n",
    "            return self.value < other.value or self.value == other.value\n",
    "        elif isinstance(other,numbers.Real):\n",
    "            return self.value < other or self.value == other\n",
    "        else:\n",
    "            return NotImplemented\n"
   ]
  },
  {
   "cell_type": "code",
   "execution_count": 147,
   "metadata": {},
   "outputs": [
    {
     "name": "stdout",
     "output_type": "stream",
     "text": [
      "__value__ calling......................\n",
      "__modulus__ calling......................\n",
      "__value__ calling......................\n",
      "__modulus__ calling......................\n"
     ]
    },
    {
     "data": {
      "text/plain": [
       "(Mod(value = 2,modulus = 3), Mod(value = 1,modulus = 3))"
      ]
     },
     "execution_count": 147,
     "metadata": {},
     "output_type": "execute_result"
    }
   ],
   "source": [
    "m = Mod(2,3)\n",
    "m1 = Mod(7,3)\n",
    "m,m1"
   ]
  },
  {
   "cell_type": "code",
   "execution_count": 148,
   "metadata": {},
   "outputs": [
    {
     "name": "stdout",
     "output_type": "stream",
     "text": [
      "__value__ calling......................\n"
     ]
    },
    {
     "data": {
      "text/plain": [
       "1"
      ]
     },
     "execution_count": 148,
     "metadata": {},
     "output_type": "execute_result"
    }
   ],
   "source": [
    "int(m1)"
   ]
  },
  {
   "cell_type": "code",
   "execution_count": 149,
   "metadata": {},
   "outputs": [
    {
     "name": "stdout",
     "output_type": "stream",
     "text": [
      "__add__ calling......................\n",
      "__modulus__ calling......................\n",
      "__modulus__ calling......................\n",
      "__value__ calling......................\n",
      "__value__ calling......................\n",
      "__modulus__ calling......................\n",
      "__value__ calling......................\n",
      "__modulus__ calling......................\n"
     ]
    },
    {
     "data": {
      "text/plain": [
       "Mod(value = 0,modulus = 3)"
      ]
     },
     "execution_count": 149,
     "metadata": {},
     "output_type": "execute_result"
    }
   ],
   "source": [
    "m+m1"
   ]
  },
  {
   "cell_type": "code",
   "execution_count": 150,
   "metadata": {},
   "outputs": [
    {
     "name": "stdout",
     "output_type": "stream",
     "text": [
      "__add__ calling......................\n",
      "__value__ calling......................\n",
      "__modulus__ calling......................\n",
      "__value__ calling......................\n",
      "__modulus__ calling......................\n"
     ]
    },
    {
     "data": {
      "text/plain": [
       "Mod(value = 0,modulus = 3)"
      ]
     },
     "execution_count": 150,
     "metadata": {},
     "output_type": "execute_result"
    }
   ],
   "source": [
    "m + 10"
   ]
  },
  {
   "cell_type": "code",
   "execution_count": 151,
   "metadata": {},
   "outputs": [
    {
     "name": "stdout",
     "output_type": "stream",
     "text": [
      "__mul__ calling......................\n",
      "__modulus__ calling......................\n",
      "__modulus__ calling......................\n",
      "__value__ calling......................\n",
      "__value__ calling......................\n",
      "__modulus__ calling......................\n",
      "__value__ calling......................\n",
      "__modulus__ calling......................\n"
     ]
    },
    {
     "data": {
      "text/plain": [
       "Mod(value = 2,modulus = 3)"
      ]
     },
     "execution_count": 151,
     "metadata": {},
     "output_type": "execute_result"
    }
   ],
   "source": [
    "m1*m"
   ]
  },
  {
   "cell_type": "code",
   "execution_count": 155,
   "metadata": {},
   "outputs": [
    {
     "name": "stdout",
     "output_type": "stream",
     "text": [
      "__add__ calling......................\n",
      "__modulus__ calling......................\n",
      "__modulus__ calling......................\n"
     ]
    },
    {
     "ename": "TypeError",
     "evalue": "unsupported operand type(s) for +: 'Mod' and 'Mod'",
     "output_type": "error",
     "traceback": [
      "\u001b[0;31m---------------------------------------------------------------------------\u001b[0m",
      "\u001b[0;31mTypeError\u001b[0m                                 Traceback (most recent call last)",
      "\u001b[0;32m/tmp/ipykernel_303717/540043463.py\u001b[0m in \u001b[0;36m<module>\u001b[0;34m\u001b[0m\n\u001b[0;32m----> 1\u001b[0;31m \u001b[0mm1\u001b[0m\u001b[0;34m+\u001b[0m\u001b[0mMod\u001b[0m\u001b[0;34m(\u001b[0m\u001b[0;36m3\u001b[0m\u001b[0;34m,\u001b[0m\u001b[0;36m9\u001b[0m\u001b[0;34m)\u001b[0m\u001b[0;34m\u001b[0m\u001b[0;34m\u001b[0m\u001b[0m\n\u001b[0m",
      "\u001b[0;31mTypeError\u001b[0m: unsupported operand type(s) for +: 'Mod' and 'Mod'"
     ]
    }
   ],
   "source": [
    "m1+Mod(3,9)"
   ]
  },
  {
   "cell_type": "code",
   "execution_count": 154,
   "metadata": {},
   "outputs": [
    {
     "name": "stdout",
     "output_type": "stream",
     "text": [
      "__iadd__ calling......................\n",
      "__value__ calling......................\n",
      "__modulus__ calling......................\n"
     ]
    },
    {
     "ename": "AttributeError",
     "evalue": "can't set attribute",
     "output_type": "error",
     "traceback": [
      "\u001b[0;31m---------------------------------------------------------------------------\u001b[0m",
      "\u001b[0;31mAttributeError\u001b[0m                            Traceback (most recent call last)",
      "\u001b[0;32m/tmp/ipykernel_303717/3846154510.py\u001b[0m in \u001b[0;36m<module>\u001b[0;34m\u001b[0m\n\u001b[0;32m----> 1\u001b[0;31m \u001b[0mm\u001b[0m \u001b[0;34m+=\u001b[0m\u001b[0;36m10\u001b[0m\u001b[0;34m\u001b[0m\u001b[0;34m\u001b[0m\u001b[0m\n\u001b[0m",
      "\u001b[0;32m/tmp/ipykernel_303717/1766691704.py\u001b[0m in \u001b[0;36m__iadd__\u001b[0;34m(self, other)\u001b[0m\n\u001b[1;32m    126\u001b[0m                 \u001b[0;32mreturn\u001b[0m \u001b[0mself\u001b[0m\u001b[0;34m\u001b[0m\u001b[0;34m\u001b[0m\u001b[0m\n\u001b[1;32m    127\u001b[0m         \u001b[0;32melif\u001b[0m \u001b[0misinstance\u001b[0m\u001b[0;34m(\u001b[0m\u001b[0mother\u001b[0m\u001b[0;34m,\u001b[0m\u001b[0mnumbers\u001b[0m\u001b[0;34m.\u001b[0m\u001b[0mReal\u001b[0m\u001b[0;34m)\u001b[0m\u001b[0;34m:\u001b[0m\u001b[0;34m\u001b[0m\u001b[0;34m\u001b[0m\u001b[0m\n\u001b[0;32m--> 128\u001b[0;31m             \u001b[0mself\u001b[0m\u001b[0;34m.\u001b[0m\u001b[0mvalue\u001b[0m \u001b[0;34m=\u001b[0m \u001b[0;34m(\u001b[0m\u001b[0mself\u001b[0m\u001b[0;34m.\u001b[0m\u001b[0mvalue\u001b[0m \u001b[0;34m+\u001b[0m \u001b[0mother\u001b[0m\u001b[0;34m)\u001b[0m \u001b[0;34m%\u001b[0m \u001b[0mself\u001b[0m\u001b[0;34m.\u001b[0m\u001b[0mmodulus\u001b[0m\u001b[0;34m\u001b[0m\u001b[0;34m\u001b[0m\u001b[0m\n\u001b[0m\u001b[1;32m    129\u001b[0m             \u001b[0;32mreturn\u001b[0m \u001b[0mself\u001b[0m\u001b[0;34m\u001b[0m\u001b[0;34m\u001b[0m\u001b[0m\n\u001b[1;32m    130\u001b[0m         \u001b[0;32melse\u001b[0m\u001b[0;34m:\u001b[0m\u001b[0;34m\u001b[0m\u001b[0;34m\u001b[0m\u001b[0m\n",
      "\u001b[0;31mAttributeError\u001b[0m: can't set attribute"
     ]
    }
   ],
   "source": [
    "m +=10"
   ]
  },
  {
   "cell_type": "code",
   "execution_count": 208,
   "metadata": {},
   "outputs": [],
   "source": [
    "import numbers\n",
    "from functools import total_ordering\n",
    "\n",
    "@total_ordering\n",
    "class Mod:\n",
    "    def __init__(self,value,modulus):\n",
    "        if not isinstance(value,numbers.Real):\n",
    "            raise TypeError('Value must be Real Number')\n",
    "        \n",
    "        if not isinstance(modulus,numbers.Real):\n",
    "            raise TypeError('Modulus must be Real Number')\n",
    "        \n",
    "        if modulus < 0:\n",
    "            raise ValueError('Modulus must be Positive Number')\n",
    "        \n",
    "        self._modulus = modulus\n",
    "        self._value = value % self._modulus\n",
    "        \n",
    "    def __mod__(self):\n",
    "        self.residue = self.value % self.modulus\n",
    "        return self.residue\n",
    "\n",
    "    @property\n",
    "    def value(self):\n",
    "        # print('__value__ calling......................')\n",
    "        return self._value\n",
    "    \n",
    "    @value.setter\n",
    "    def value(self,value):\n",
    "        # print('__value__ calling......................')\n",
    "        self._value = value\n",
    "    \n",
    "    @property\n",
    "    def modulus(self):\n",
    "        # print('__modulus__ calling......................')\n",
    "        return self._modulus\n",
    "    \n",
    "    def __repr__(self) -> str:\n",
    "        return f\"Mod(value = {self.value},modulus = {self.modulus})\"\n",
    "    \n",
    "    def value_check(self,other):\n",
    "        if isinstance(other,int):\n",
    "            return other % self.modulus\n",
    "        elif isinstance(other,Mod) and self.modulus == other.modulus:\n",
    "            return other.value\n",
    "        else:\n",
    "            raise TypeError('Incompetebale input')\n",
    "        \n",
    "    def __eq__(self,other):\n",
    "        print('__eq__ calling......................')\n",
    "        return self.value_check(other) == self.value\n",
    "                \n",
    "    def __hash__(self) -> int:\n",
    "        return hash((self.value,self.modulus))\n",
    "    \n",
    "    def __int__(self):\n",
    "        return self.value\n",
    "    \n",
    "    def __neg__(self):\n",
    "        return Mod(-self.value,self.modulus)\n",
    "    \n",
    "    \n",
    "    \n",
    "    def __add__(self,other):\n",
    "        print('__add__ calling......................')\n",
    "        return Mod(self.value + self.value_check(other),self.modulus)\n",
    "        \n",
    "    \n",
    "    def __sub__(self,other):\n",
    "        print('__sub__ calling......................')\n",
    "        \n",
    "        return Mod(self.value - self.value_check(other),self.modulus)\n",
    "    \n",
    "    def __mul__(self,other):\n",
    "        print('__mul__ calling......................')\n",
    "        return Mod(self.value * self.value_check(other),self.modulus)\n",
    "    \n",
    "    def __rmul__(self,other):\n",
    "        print('__rmul__ calling......................')\n",
    "        return Mod(self.value * self.value_check(other),self.modulus)\n",
    "        \n",
    "    def __pow__(self,other):\n",
    "        print('__rmul__ calling......................')\n",
    "        return Mod(self.value ** self.value_check(other),self.modulus)\n",
    "        \n",
    "    def __iadd__(self,other):\n",
    "        print('__iadd__ calling......................')\n",
    "        self.value = ((self.value + self.value_check(other)) % self.modulus)\n",
    "        return self\n",
    "        \n",
    "    def __isub__(self,other):\n",
    "        print('__isub__ calling......................')\n",
    "        self.value = ((self.value - self.value_check(other)) % self.modulus)\n",
    "        return self\n",
    "        \n",
    "    def __imul__(self,other):\n",
    "        print('__imul__ calling......................')\n",
    "        self.value = ((self.value * self.value_check(other)) % self.modulus)\n",
    "        return self\n",
    "        \n",
    "    def __ipow__(self,other):\n",
    "        print('__ipow__ calling......................')\n",
    "        self.value = ((self.value ** self.value_check(other)) % self.modulus)\n",
    "        return self\n",
    "        \n",
    "    def __lt__(self,other):\n",
    "        print('__lt__ calling......................')\n",
    "        return self.value < self.value_check(other)\n",
    "        \n",
    "    def __gt__(self,other):\n",
    "        print('__gt__ calling......................')\n",
    "        return self.value > self.value_check(other)\n",
    "        \n",
    "    def __gte__(self,other):\n",
    "        print('__gte__ calling......................')\n",
    "        return self.value > self.value_check(other) or self.value == self.value_check(other)\n",
    "        \n",
    "    def __lte__(self,other):\n",
    "        print('__lte__ calling......................')\n",
    "        return self.value < self.value_check(other) or self.value == self.value_check(other)\n"
   ]
  },
  {
   "cell_type": "code",
   "execution_count": 209,
   "metadata": {},
   "outputs": [],
   "source": [
    "m = Mod(2,3)\n",
    "\n",
    "m1 = Mod(7,3)"
   ]
  },
  {
   "cell_type": "code",
   "execution_count": 210,
   "metadata": {},
   "outputs": [
    {
     "data": {
      "text/plain": [
       "__main__.Mod"
      ]
     },
     "execution_count": 210,
     "metadata": {},
     "output_type": "execute_result"
    }
   ],
   "source": [
    "type(m)"
   ]
  },
  {
   "cell_type": "code",
   "execution_count": 211,
   "metadata": {},
   "outputs": [
    {
     "name": "stdout",
     "output_type": "stream",
     "text": [
      "__add__ calling......................\n"
     ]
    },
    {
     "data": {
      "text/plain": [
       "Mod(value = 0,modulus = 3)"
      ]
     },
     "execution_count": 211,
     "metadata": {},
     "output_type": "execute_result"
    }
   ],
   "source": [
    "m+m1"
   ]
  },
  {
   "cell_type": "code",
   "execution_count": 212,
   "metadata": {},
   "outputs": [
    {
     "name": "stdout",
     "output_type": "stream",
     "text": [
      "__iadd__ calling......................\n",
      "Mod(value = 1,modulus = 3)\n"
     ]
    }
   ],
   "source": [
    "m+=5\n",
    "print(m)"
   ]
  },
  {
   "cell_type": "code",
   "execution_count": 216,
   "metadata": {},
   "outputs": [
    {
     "name": "stdout",
     "output_type": "stream",
     "text": [
      "__lt__ calling......................\n"
     ]
    },
    {
     "data": {
      "text/plain": [
       "True"
      ]
     },
     "execution_count": 216,
     "metadata": {},
     "output_type": "execute_result"
    }
   ],
   "source": [
    "m < 5"
   ]
  },
  {
   "cell_type": "code",
   "execution_count": 215,
   "metadata": {},
   "outputs": [
    {
     "name": "stdout",
     "output_type": "stream",
     "text": [
      "__gt__ calling......................\n"
     ]
    },
    {
     "data": {
      "text/plain": [
       "True"
      ]
     },
     "execution_count": 215,
     "metadata": {},
     "output_type": "execute_result"
    }
   ],
   "source": [
    "m > 0"
   ]
  },
  {
   "cell_type": "code",
   "execution_count": 217,
   "metadata": {},
   "outputs": [],
   "source": [
    "import operator"
   ]
  },
  {
   "cell_type": "code",
   "execution_count": 218,
   "metadata": {},
   "outputs": [
    {
     "data": {
      "text/plain": [
       "30"
      ]
     },
     "execution_count": 218,
     "metadata": {},
     "output_type": "execute_result"
    }
   ],
   "source": [
    "operator.add(10,20)"
   ]
  },
  {
   "cell_type": "code",
   "execution_count": 219,
   "metadata": {},
   "outputs": [],
   "source": []
  },
  {
   "cell_type": "code",
   "execution_count": 220,
   "metadata": {},
   "outputs": [],
   "source": [
    "import numbers\n",
    "from functools import total_ordering\n",
    "\n",
    "@total_ordering\n",
    "class Mod:\n",
    "    def __init__(self,value,modulus):\n",
    "        if not isinstance(value,numbers.Real):\n",
    "            raise TypeError('Value must be Real Number')\n",
    "        \n",
    "        if not isinstance(modulus,numbers.Real):\n",
    "            raise TypeError('Modulus must be Real Number')\n",
    "        \n",
    "        if modulus < 0:\n",
    "            raise ValueError('Modulus must be Positive Number')\n",
    "        \n",
    "        self._modulus = modulus\n",
    "        self._value = value % self._modulus\n",
    "        \n",
    "    def __mod__(self):\n",
    "        self.residue = self.value % self.modulus\n",
    "        return self.residue\n",
    "\n",
    "    @property\n",
    "    def value(self):\n",
    "        # print('__value__ calling......................')\n",
    "        return self._value\n",
    "    \n",
    "    @value.setter\n",
    "    def value(self,value):\n",
    "        # print('__value__ calling......................')\n",
    "        self._value = value\n",
    "    \n",
    "    @property\n",
    "    def modulus(self):\n",
    "        # print('__modulus__ calling......................')\n",
    "        return self._modulus\n",
    "    \n",
    "    def _perform_operatotion(self,other,operator,is_inpalce = False):\n",
    "        other_value = self.value_check(other)\n",
    "        new_value = operator(self.value,other_value)\n",
    "        if is_inpalce:\n",
    "            self.value = new_value % self.modulus\n",
    "            return self\n",
    "        else:\n",
    "            return Mod(new_value,self.modulus)\n",
    "    \n",
    "    def __repr__(self) -> str:\n",
    "        return f\"Mod(value = {self.value},modulus = {self.modulus})\"\n",
    "    \n",
    "    def value_check(self,other):\n",
    "        if isinstance(other,int):\n",
    "            return other % self.modulus\n",
    "        elif isinstance(other,Mod) and self.modulus == other.modulus:\n",
    "            return other.value\n",
    "        else:\n",
    "            raise TypeError('Incompetebale input')\n",
    "        \n",
    "    def __eq__(self,other):\n",
    "        print('__eq__ calling......................')\n",
    "        return self.value_check(other) == self.value\n",
    "                \n",
    "    def __hash__(self) -> int:\n",
    "        return hash((self.value,self.modulus))\n",
    "    \n",
    "    def __int__(self):\n",
    "        return self.value\n",
    "    \n",
    "    def __neg__(self):\n",
    "        return Mod(-self.value,self.modulus)\n",
    "    \n",
    "    \n",
    "    \n",
    "    def __add__(self,other):\n",
    "        print('__add__ calling......................')\n",
    "        return self._perform_operatotion(other,operator.add)\n",
    "        \n",
    "    \n",
    "    def __sub__(self,other):\n",
    "        print('__sub__ calling......................')\n",
    "        \n",
    "        return self._perform_operatotion(other,operator.sub)\n",
    "    \n",
    "    def __mul__(self,other):\n",
    "        print('__mul__ calling......................')\n",
    "        return self._perform_operatotion(other,operator.mul)\n",
    "    \n",
    "    def __rmul__(self,other):\n",
    "        print('__rmul__ calling......................')\n",
    "        return self._perform_operatotion(other,operator.mul)\n",
    "        \n",
    "    def __pow__(self,other):\n",
    "        print('__rmul__ calling......................')\n",
    "        return self._perform_operatotion(other,operator.pow)\n",
    "        \n",
    "    def __iadd__(self,other):\n",
    "        print('__iadd__ calling......................')\n",
    "        return self._perform_operatotion(other,operator.add,is_inpalce=True)\n",
    "        \n",
    "    def __isub__(self,other):\n",
    "        print('__isub__ calling......................')\n",
    "        return self._perform_operatotion(other,operator.sub,is_inpalce=True)\n",
    "        \n",
    "    def __imul__(self,other):\n",
    "        print('__imul__ calling......................')\n",
    "        return self._perform_operatotion(other,operator.mul,is_inpalce=True)\n",
    "        \n",
    "    def __ipow__(self,other):\n",
    "        print('__ipow__ calling......................')\n",
    "        return self._perform_operatotion(other,operator.pow,is_inpalce=True)\n",
    "        \n",
    "    def __lt__(self,other):\n",
    "        print('__lt__ calling......................')\n",
    "        return self.value < self.value_check(other)\n",
    "        \n",
    "    def __gt__(self,other):\n",
    "        print('__gt__ calling......................')\n",
    "        return self.value > self.value_check(other)\n",
    "        \n",
    "    def __gte__(self,other):\n",
    "        print('__gte__ calling......................')\n",
    "        return self.value > self.value_check(other) or self.value == self.value_check(other)\n",
    "        \n",
    "    def __lte__(self,other):\n",
    "        print('__lte__ calling......................')\n",
    "        return self.value < self.value_check(other) or self.value == self.value_check(other)\n"
   ]
  },
  {
   "cell_type": "code",
   "execution_count": 221,
   "metadata": {},
   "outputs": [],
   "source": [
    "m = Mod(2,3)\n",
    "\n",
    "m1 = Mod(7,3)"
   ]
  },
  {
   "cell_type": "code",
   "execution_count": 222,
   "metadata": {},
   "outputs": [
    {
     "name": "stdout",
     "output_type": "stream",
     "text": [
      "__add__ calling......................\n"
     ]
    },
    {
     "data": {
      "text/plain": [
       "Mod(value = 0,modulus = 3)"
      ]
     },
     "execution_count": 222,
     "metadata": {},
     "output_type": "execute_result"
    }
   ],
   "source": [
    "m+m1"
   ]
  },
  {
   "cell_type": "code",
   "execution_count": 224,
   "metadata": {},
   "outputs": [
    {
     "name": "stdout",
     "output_type": "stream",
     "text": [
      "__iadd__ calling......................\n",
      "Mod(value = 2,modulus = 3)\n"
     ]
    }
   ],
   "source": [
    "m+=2\n",
    "print(m)"
   ]
  },
  {
   "cell_type": "code",
   "execution_count": null,
   "metadata": {},
   "outputs": [],
   "source": []
  }
 ],
 "metadata": {
  "interpreter": {
   "hash": "31f2aee4e71d21fbe5cf8b01ff0e069b9275f58929596ceb00d14d90e3e16cd6"
  },
  "kernelspec": {
   "display_name": "Python 3.8.10 64-bit",
   "name": "python3"
  },
  "language_info": {
   "codemirror_mode": {
    "name": "ipython",
    "version": 3
   },
   "file_extension": ".py",
   "mimetype": "text/x-python",
   "name": "python",
   "nbconvert_exporter": "python",
   "pygments_lexer": "ipython3",
   "version": "3.8.10"
  }
 },
 "nbformat": 4,
 "nbformat_minor": 2
}
