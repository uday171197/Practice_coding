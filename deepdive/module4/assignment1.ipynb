{
 "cells": [
  {
   "cell_type": "code",
   "execution_count": 149,
   "metadata": {},
   "outputs": [],
   "source": [
    "from datetime import datetime,timedelta\n",
    "import numbers\n",
    "\n",
    "\n",
    "class TimeZone:\n",
    "    def __init__(self,name,offset_hour,offset_minutes) -> None:\n",
    "        if isinstance(name,int) and len(str(name).strip()) <= 0:\n",
    "            raise ValueError('The timezone name should not be empty and int')\n",
    "\n",
    "        self._name = str(name).strip()\n",
    "\n",
    "        if not isinstance(offset_minutes,numbers.Integral):\n",
    "            raise ValueError('The offset minutes should be int')\n",
    "\n",
    "        if not isinstance(offset_hour,numbers.Integral):\n",
    "            raise ValueError('The offset hour should be int')\n",
    "\n",
    "        if offset_minutes > 59 and offset_minutes < -59:\n",
    "            raise ValueError('The offset minutes should be in between -59 to 59')\n",
    "\n",
    "        offset = timedelta(hours=offset_hour,minutes=offset_minutes)\n",
    "        if offset < timedelta(hours=-12,minutes=0) or offset > timedelta(hours=14,minutes=0):\n",
    "            raise ValueError('offset must be in between -12:00 and +14:00')\n",
    "\n",
    "        self._offset_hour = offset_hour\n",
    "        self._offset_minutes = offset_minutes\n",
    "        self._offset = offset\n",
    "\n",
    "\n",
    "    @property\n",
    "    def name(self):\n",
    "        return self._name\n",
    "\n",
    "    @name.setter\n",
    "    def name(self,value):\n",
    "        if isinstance(value,str) and not value:\n",
    "            self.name = value\n",
    "        else:\n",
    "            raise ValueError('The timezone name should not be empty and int')\n",
    "\n",
    "    @property\n",
    "    def offset_hour(self):\n",
    "        return self._offset_hour\n",
    "\n",
    "    @offset_hour.setter\n",
    "    def offset_hour(self,value):\n",
    "        if isinstance(value,numbers.Integral):\n",
    "            self._offset_hour = value\n",
    "            offset = timedelta(hours=self.offset_hour,minutes=self.offset_minutes)\n",
    "            if offset < timedelta(hours=-12,minutes=0) or offset > timedelta(hours=14,minutes=0):\n",
    "                raise ValueError('offset must be in between -12:00 and +14:00')\n",
    "            self._offset = offset\n",
    "        else:\n",
    "            raise ValueError('The timezone name should not be empty and int')\n",
    "\n",
    "    @property\n",
    "    def offset_minutes(self):\n",
    "        return self._offset_minutes\n",
    "\n",
    "    @offset_minutes.setter\n",
    "    def offset_minutes(self,value):\n",
    "        if value > 59 and value < -59:\n",
    "            raise ValueError('The offset minutes should be in between -59 to 59')\n",
    "        elif not isinstance(value,numbers.Integral):\n",
    "            raise ValueError('The timezone name should not be empty and int')\n",
    "        else:\n",
    "            self._offset_minutes = value\n",
    "            offset = timedelta(hours=self.offset_hour,minutes=self.offset_minutes)\n",
    "            if offset < timedelta(hours=-12,minutes=0) or offset > timedelta(hours=14,minutes=0):\n",
    "                raise ValueError('offset must be in between -12:00 and +14:00')\n",
    "            self._offset = offset\n",
    "    \n",
    "    @property\n",
    "    def offset(self):\n",
    "        return self._offset\n",
    "\n",
    "    def __eq__(self,value):\n",
    "        if not isinstance(value,TimeZone):\n",
    "            raise ValueError('Value must be TimeZone Object')\n",
    "        if self._offset_hour == value._offset_hour and self.offset_minutes == value.offset_minutes:\n",
    "            return 'Obejects are Equal'\n",
    "        else:\n",
    "            return 'Obejects are not Equal'\n",
    "\n",
    "\n",
    "\n",
    "\n",
    "    \n"
   ]
  },
  {
   "cell_type": "code",
   "execution_count": 142,
   "metadata": {},
   "outputs": [
    {
     "name": "stdout",
     "output_type": "stream",
     "text": [
      "2022-01-03 18:14:28.923101\n"
     ]
    }
   ],
   "source": [
    "from datetime import datetime\n",
    "\n",
    "dt = datetime.utcnow()\n",
    "print(dt)"
   ]
  },
  {
   "cell_type": "code",
   "execution_count": 5,
   "metadata": {},
   "outputs": [],
   "source": [
    "tz1 = TimeZone('ABC',-5,-10)"
   ]
  },
  {
   "cell_type": "code",
   "execution_count": 6,
   "metadata": {},
   "outputs": [
    {
     "name": "stdout",
     "output_type": "stream",
     "text": [
      "2022-01-03 05:12:43.819570\n"
     ]
    }
   ],
   "source": [
    "print(dt + tz1.offset)"
   ]
  },
  {
   "cell_type": "code",
   "execution_count": null,
   "metadata": {},
   "outputs": [],
   "source": []
  },
  {
   "cell_type": "code",
   "execution_count": 7,
   "metadata": {},
   "outputs": [],
   "source": [
    "import numbers\n",
    "import itertools \n",
    "class Account:\n",
    "    monthly_interest_rate = 5\n",
    "    transation_counter = itertools.count(100)\n",
    "    def __init__(self,account_no,first_name,last_name,balance=0) -> None:\n",
    "        if not isinstance(account_no,numbers.Integral):\n",
    "            raise AttributeError('Account No must be integer.')\n",
    "        elif account_no < 0:\n",
    "            raise AttributeError('Account No must be +ve integer.')\n",
    "\n",
    "        if len(str(first_name).strip()) > 0 and isinstance(first_name,numbers.Integral) :\n",
    "            raise AttributeError('First Name must be str type and not empty str.')\n",
    "\n",
    "        if len(str(last_name).strip()) > 0 and isinstance(last_name,numbers.Integral) :\n",
    "            raise AttributeError('Last Name must be str type and not empty str.')  \n",
    "\n",
    "        if not isinstance(balance,numbers.Integral) :\n",
    "            raise AttributeError('Account Balance must be Integer.')  \n",
    "            \n",
    "        self.account_no = account_no\n",
    "        self._first_name = first_name\n",
    "        self._last_name = last_name\n",
    "        self._full_name = f\"{first_name} {last_name}\"\n",
    "        self._balance = balance\n",
    "        self._monthly_interest_rate = Account.monthly_interest_rate\n",
    "\n",
    "    def generate_transaction_id(self):\n",
    "        return Account.transation_counter.next()\n",
    "\n",
    "    @property\n",
    "    def first_name(self):\n",
    "        return self._first_name\n",
    "\n",
    "    @first_name.setter\n",
    "    def first_name(self,value):\n",
    "        if value:\n",
    "            raise AttributeError('First Name should not be None value ')\n",
    "        elif isinstance(value,int):\n",
    "            raise AttributeError('First Name should be string value ')\n",
    "        else:\n",
    "            self.first_name = value\n",
    "            self.full_name = f\"{self.first_name} {self.last_name}\"\n",
    "\n",
    "    @property\n",
    "    def last_name(self):\n",
    "        return self._first_name\n",
    "\n",
    "    @last_name.setter\n",
    "    def last_name(self,value):\n",
    "        if value:\n",
    "            raise AttributeError('Name should not be None value ')\n",
    "        elif isinstance(value,int):\n",
    "            raise AttributeError('Name should be string value ')\n",
    "        else:\n",
    "            self.last_name = value\n",
    "            self.full_name = f\"{self.first_name} {self.last_name}\"\n",
    "    \n",
    "    @property\n",
    "    def full_name(self):\n",
    "        return f\"{self.first_name} {self.last_name}\"\n",
    "\n",
    "    @property\n",
    "    def balance(self):\n",
    "        return self._balance\n",
    "    \n",
    "    @balance.setter\n",
    "    def balance(self,value):\n",
    "        if isinstance(value,int) and value >=0 :\n",
    "            self.balance = value\n",
    "        else:\n",
    "            raise ValueError('Balance should be greather then 0 and should be integer')\n",
    "    \n",
    "    # @property\n",
    "    # def monthly_interest_rate(self):\n",
    "    #     return Account.monthly_interest_rate\n",
    "    \n",
    "    # @monthly_interest_rate.setter\n",
    "    # def monthly_interest_rate(self,new_interest_rate):\n",
    "    #     raise ValueError('You can not set new interest rate')\n",
    "\n",
    "\n",
    "\n",
    "\n",
    "    "
   ]
  },
  {
   "cell_type": "code",
   "execution_count": 8,
   "metadata": {},
   "outputs": [],
   "source": [
    "\n",
    "ac = Account(1234567890,'Uday','Gupta',0)"
   ]
  },
  {
   "cell_type": "code",
   "execution_count": 9,
   "metadata": {},
   "outputs": [],
   "source": [
    "import numbers\n",
    "import itertools \n",
    "class Account:\n",
    "    _interest_rate = 0.5 # percent\n",
    "    transation_counter = itertools.count(100)\n",
    "    def __init__(self,account_no,first_name,last_name,timezone = None,balance=0) -> None:\n",
    "        if not isinstance(account_no,numbers.Integral):\n",
    "            raise AttributeError('Account No must be integer.')\n",
    "        elif account_no < 0:\n",
    "            raise AttributeError('Account No must be +ve integer.') \n",
    "\n",
    "        self._account_no = account_no\n",
    "        self.first_name = first_name\n",
    "        self.last_name = last_name\n",
    "        self._full_name = f\"{first_name} {last_name}\"\n",
    "        if timezone == None:\n",
    "            timezone = TimeZone('UTC',0,0)\n",
    "        self.timezone = timezone\n",
    "        self._balance = float(balance)\n",
    "\n",
    "    def generate_transaction_id(self):\n",
    "        return Account.transation_counter.next()\n",
    "\n",
    "    @property\n",
    "    def account_no(self):\n",
    "        return self._account_no\n",
    "\n",
    "    @account_no.setter\n",
    "    def account_no(self,value):\n",
    "        raise ValueError('You can not set or change Account No.')\n",
    "\n",
    "    @property\n",
    "    def first_name(self):\n",
    "        return self._first_name\n",
    "\n",
    "    @first_name.setter\n",
    "    def first_name(self,value):\n",
    "            self.validate_and_set_value('_first_name',value,'First Name')\n",
    "\n",
    "    @property\n",
    "    def last_name(self):\n",
    "        return self._last_name\n",
    "\n",
    "    def validate_and_set_value(self,attr_name,value,attribute_title):\n",
    "        if len(str(value))==0:\n",
    "            raise ValueError(f'{attribute_title} should not be None value ')\n",
    "        elif isinstance(value,int):\n",
    "            raise ValueError(f'{attribute_title} should be string value ')\n",
    "        setattr(self,attr_name,value.strip())\n",
    "\n",
    "    @last_name.setter\n",
    "    def last_name(self,value):\n",
    "        self.validate_and_set_value('_last_name',value,'Last Name')\n",
    "\n",
    "    @property\n",
    "    def full_name(self):\n",
    "        return f\"{self.first_name} {self.last_name}\"\n",
    "\n",
    "    @property\n",
    "    def timezone(self):\n",
    "        return self._timezone\n",
    "\n",
    "    @timezone.setter\n",
    "    def timezone(self,value):\n",
    "        if not isinstance(value,TimeZone):\n",
    "            raise ValueError('The value must be TimeZone instance')\n",
    "        self._timezone = value\n",
    "\n",
    "    @property\n",
    "    def balance(self):\n",
    "        return self._balance\n",
    "    \n",
    "    @classmethod\n",
    "    def get_interest_rate(cls):\n",
    "        return cls._interest_rate\n",
    "\n",
    "    @classmethod\n",
    "    def set_interest_rate(cls,value):\n",
    "        if not isinstance(value,numbers.Real):\n",
    "            raise ValueError('The Interest Rate must be real no.')\n",
    "\n",
    "        if value < 0:\n",
    "            raise ValueError('The Interest Rate must be positive')\n",
    "\n",
    "        cls._interest_rate = value\n",
    "    # @balance.setter\n",
    "    # def balance(self,value):\n",
    "    #     if isinstance(value,int) and value >=0 :\n",
    "    #         self.balance = value\n",
    "    #     else:\n",
    "    #         raise ValueError('Balance should be greather then 0 and should be integer')\n",
    "    \n",
    "    # @property\n",
    "    # def monthly_interest_rate(self):\n",
    "    #     return Account.monthly_interest_rate\n",
    "    \n",
    "    # @monthly_interest_rate.setter\n",
    "    # def monthly_interest_rate(self,new_interest_rate):\n",
    "    #     raise ValueError('You can not set new interest rate')\n",
    "\n",
    "\n",
    "\n",
    "\n",
    "    "
   ]
  },
  {
   "cell_type": "code",
   "execution_count": 10,
   "metadata": {},
   "outputs": [],
   "source": [
    "\n",
    "\n",
    "ac = Account(1234567890,'Uday','Gupta',TimeZone('ABC',0,0),100)"
   ]
  },
  {
   "cell_type": "code",
   "execution_count": 11,
   "metadata": {},
   "outputs": [
    {
     "data": {
      "text/plain": [
       "0.5"
      ]
     },
     "execution_count": 11,
     "metadata": {},
     "output_type": "execute_result"
    }
   ],
   "source": [
    "ac._interest_rate"
   ]
  },
  {
   "cell_type": "code",
   "execution_count": 12,
   "metadata": {},
   "outputs": [
    {
     "data": {
      "text/plain": [
       "0.5"
      ]
     },
     "execution_count": 12,
     "metadata": {},
     "output_type": "execute_result"
    }
   ],
   "source": [
    "ac.get_interest_rate()"
   ]
  },
  {
   "cell_type": "code",
   "execution_count": 13,
   "metadata": {},
   "outputs": [
    {
     "ename": "ValueError",
     "evalue": "The Interest Rate must be positive",
     "output_type": "error",
     "traceback": [
      "\u001b[1;31m---------------------------------------------------------------------------\u001b[0m",
      "\u001b[1;31mValueError\u001b[0m                                Traceback (most recent call last)",
      "\u001b[1;32m~\\AppData\\Local\\Temp/ipykernel_12828/3108206907.py\u001b[0m in \u001b[0;36m<module>\u001b[1;34m\u001b[0m\n\u001b[1;32m----> 1\u001b[1;33m \u001b[0mac\u001b[0m\u001b[1;33m.\u001b[0m\u001b[0mset_interest_rate\u001b[0m\u001b[1;33m(\u001b[0m\u001b[1;33m-\u001b[0m\u001b[1;36m10\u001b[0m\u001b[1;33m)\u001b[0m\u001b[1;33m\u001b[0m\u001b[1;33m\u001b[0m\u001b[0m\n\u001b[0m",
      "\u001b[1;32m~\\AppData\\Local\\Temp/ipykernel_12828/2625007298.py\u001b[0m in \u001b[0;36mset_interest_rate\u001b[1;34m(cls, value)\u001b[0m\n\u001b[0;32m     81\u001b[0m \u001b[1;33m\u001b[0m\u001b[0m\n\u001b[0;32m     82\u001b[0m         \u001b[1;32mif\u001b[0m \u001b[0mvalue\u001b[0m \u001b[1;33m<\u001b[0m \u001b[1;36m0\u001b[0m\u001b[1;33m:\u001b[0m\u001b[1;33m\u001b[0m\u001b[1;33m\u001b[0m\u001b[0m\n\u001b[1;32m---> 83\u001b[1;33m             \u001b[1;32mraise\u001b[0m \u001b[0mValueError\u001b[0m\u001b[1;33m(\u001b[0m\u001b[1;34m'The Interest Rate must be positive'\u001b[0m\u001b[1;33m)\u001b[0m\u001b[1;33m\u001b[0m\u001b[1;33m\u001b[0m\u001b[0m\n\u001b[0m\u001b[0;32m     84\u001b[0m \u001b[1;33m\u001b[0m\u001b[0m\n\u001b[0;32m     85\u001b[0m         \u001b[0mcls\u001b[0m\u001b[1;33m.\u001b[0m\u001b[0m_interest_rate\u001b[0m \u001b[1;33m=\u001b[0m \u001b[0mvalue\u001b[0m\u001b[1;33m\u001b[0m\u001b[1;33m\u001b[0m\u001b[0m\n",
      "\u001b[1;31mValueError\u001b[0m: The Interest Rate must be positive"
     ]
    }
   ],
   "source": [
    "ac.set_interest_rate(-10)"
   ]
  },
  {
   "cell_type": "code",
   "execution_count": 14,
   "metadata": {},
   "outputs": [],
   "source": [
    "import numbers\n",
    "import itertools \n",
    "class Account:\n",
    "    _interest_rate = 0.5 # percent\n",
    "    transation_counter = itertools.count(100)\n",
    "    _transaction_code = {\n",
    "        \"deposite\":'D',\n",
    "        \"interest\":'I',\n",
    "        \"withdraw\":\"W\",\n",
    "        'rejected':\"R\"\n",
    "    }\n",
    "    def __init__(self,account_no,first_name,last_name,timezone = None,balance=0) -> None:\n",
    "        if not isinstance(account_no,numbers.Integral):\n",
    "            raise AttributeError('Account No must be integer.')\n",
    "        elif account_no < 0:\n",
    "            raise AttributeError('Account No must be +ve integer.') \n",
    "\n",
    "        self._account_no = account_no\n",
    "        self.first_name = first_name\n",
    "        self.last_name = last_name\n",
    "        self._full_name = f\"{first_name} {last_name}\"\n",
    "        if timezone == None:\n",
    "            timezone = TimeZone('UTC',0,0)\n",
    "        self.timezone = timezone\n",
    "        self._balance = float(balance)\n",
    "\n",
    "    def generate_transaction_id(self):\n",
    "        return Account.transation_counter.next()\n",
    "\n",
    "    @property\n",
    "    def account_no(self):\n",
    "        return self._account_no\n",
    "\n",
    "    @account_no.setter\n",
    "    def account_no(self,value):\n",
    "        raise ValueError('You can not set or change Account No.')\n",
    "\n",
    "    @property\n",
    "    def first_name(self):\n",
    "        return self._first_name\n",
    "\n",
    "    @first_name.setter\n",
    "    def first_name(self,value):\n",
    "            self.validate_and_set_value('_first_name',value,'First Name')\n",
    "\n",
    "    @property\n",
    "    def last_name(self):\n",
    "        return self._last_name\n",
    "\n",
    "    def validate_and_set_value(self,attr_name,value,attribute_title):\n",
    "        if len(str(value))==0:\n",
    "            raise ValueError(f'{attribute_title} should not be None value ')\n",
    "        elif isinstance(value,int):\n",
    "            raise ValueError(f'{attribute_title} should be string value ')\n",
    "        setattr(self,attr_name,value.strip())\n",
    "\n",
    "    @last_name.setter\n",
    "    def last_name(self,value):\n",
    "        self.validate_and_set_value('_last_name',value,'Last Name')\n",
    "\n",
    "    @property\n",
    "    def full_name(self):\n",
    "        return f\"{self.first_name} {self.last_name}\"\n",
    "\n",
    "    @property\n",
    "    def timezone(self):\n",
    "        return self._timezone\n",
    "\n",
    "    @timezone.setter\n",
    "    def timezone(self,value):\n",
    "        if not isinstance(value,TimeZone):\n",
    "            raise ValueError('The value must be TimeZone instance')\n",
    "        self._timezone = value\n",
    "\n",
    "    @property\n",
    "    def balance(self):\n",
    "        return self._balance\n",
    "    \n",
    "    @classmethod\n",
    "    def get_interest_rate(cls):\n",
    "        return cls._interest_rate\n",
    "\n",
    "    @classmethod\n",
    "    def set_interest_rate(cls,value):\n",
    "        if not isinstance(value,numbers.Real):\n",
    "            raise ValueError('The Interest Rate must be real no.')\n",
    "\n",
    "        if value < 0:\n",
    "            raise ValueError('The Interest Rate must be positive')\n",
    "\n",
    "        cls._interest_rate = value\n",
    "    \n",
    "    @staticmethod\n",
    "    def generate_conformation_code(transaction_code,account_no):\n",
    "        dt_str = datetime.utcnow().strftime('%Y%m%d%H%M%S')\n",
    "        return f\"{transaction_code}-{account_no}-{dt_str}-{next(Account.transation_counter)}\" \n",
    "\n",
    "    def make_transaction(self):\n",
    "        return self.generate_conformation_code('Dummy',self.account_no)\n",
    "    # @balance.setter\n",
    "    # def balance(self,value):\n",
    "    #     if isinstance(value,int) and value >=0 :\n",
    "    #         self.balance = value\n",
    "    #     else:\n",
    "    #         raise ValueError('Balance should be greather then 0 and should be integer')\n",
    "    \n",
    "    # @property\n",
    "    # def monthly_interest_rate(self):\n",
    "    #     return Account.monthly_interest_rate\n",
    "    \n",
    "    # @monthly_interest_rate.setter\n",
    "    # def monthly_interest_rate(self,new_interest_rate):\n",
    "    #     raise ValueError('You can not set new interest rate')\n",
    "\n",
    "\n",
    "\n",
    "\n",
    "    "
   ]
  },
  {
   "cell_type": "code",
   "execution_count": 15,
   "metadata": {},
   "outputs": [],
   "source": [
    "ac = Account(123456,'ABC','2434')"
   ]
  },
  {
   "cell_type": "code",
   "execution_count": 16,
   "metadata": {},
   "outputs": [
    {
     "data": {
      "text/plain": [
       "'Dummy-123456-20220103102251-100'"
      ]
     },
     "execution_count": 16,
     "metadata": {},
     "output_type": "execute_result"
    }
   ],
   "source": [
    "ac.make_transaction()"
   ]
  },
  {
   "cell_type": "code",
   "execution_count": 17,
   "metadata": {},
   "outputs": [
    {
     "data": {
      "text/plain": [
       "'Dummy-123456-20220103102252-101'"
      ]
     },
     "execution_count": 17,
     "metadata": {},
     "output_type": "execute_result"
    }
   ],
   "source": [
    "ac1 = Account(123456,'ABC','2434')\n",
    "ac1.make_transaction()"
   ]
  },
  {
   "cell_type": "code",
   "execution_count": 192,
   "metadata": {},
   "outputs": [],
   "source": [
    "import numbers\n",
    "import itertools \n",
    "from collections import namedtuple\n",
    "class Account:\n",
    "    _interest_rate = 0.5 # percent\n",
    "    transation_counter = itertools.count(100)\n",
    "    _transaction_code = {\n",
    "        \"deposite\":'D',\n",
    "        \"interest\":'I',\n",
    "        \"withdraw\":\"W\",\n",
    "        'rejected':\"R\"\n",
    "    }\n",
    "    def __init__(self,account_no,first_name,last_name,timezone = None,balance=0) -> None:\n",
    "        self._account_no = account_no\n",
    "        self.first_name = first_name\n",
    "        self.last_name = last_name\n",
    "        self._full_name = f\"{first_name} {last_name}\"\n",
    "        if timezone == None:\n",
    "            timezone = TimeZone('UTC',0,0)\n",
    "        self.timezone = timezone\n",
    "        self._balance = Account.validate_value(float(balance),0)\n",
    "\n",
    "    def generate_transaction_id(self):\n",
    "        return Account.transation_counter.next()\n",
    "\n",
    "    @property\n",
    "    def account_no(self):\n",
    "        return self._account_no\n",
    "\n",
    "    @account_no.setter\n",
    "    def account_no(self,value):\n",
    "        raise ValueError('You can not set or change Account No.')\n",
    "\n",
    "    @property\n",
    "    def first_name(self):\n",
    "        return self._first_name\n",
    "\n",
    "    @first_name.setter\n",
    "    def first_name(self,value):\n",
    "            self.validate_and_set_value('_first_name',value,'First Name')\n",
    "\n",
    "    @property\n",
    "    def last_name(self):\n",
    "        return self._last_name\n",
    "\n",
    "    def validate_and_set_value(self,attr_name,value,attribute_title):\n",
    "        if len(str(value))==0:\n",
    "            raise ValueError(f'{attribute_title} should not be None value ')\n",
    "        elif isinstance(value,int):\n",
    "            raise ValueError(f'{attribute_title} should be string value ')\n",
    "        setattr(self,attr_name,value.strip())\n",
    "\n",
    "    @last_name.setter\n",
    "    def last_name(self,value):\n",
    "        self.validate_and_set_value('_last_name',value,'Last Name')\n",
    "\n",
    "    @property\n",
    "    def full_name(self):\n",
    "        return f\"{self.first_name} {self.last_name}\"\n",
    "\n",
    "    @property\n",
    "    def timezone(self):\n",
    "        return self._timezone\n",
    "\n",
    "    @timezone.setter\n",
    "    def timezone(self,value):\n",
    "        if not isinstance(value,TimeZone):\n",
    "            raise ValueError('The value must be TimeZone instance')\n",
    "        self._timezone = value\n",
    "\n",
    "    @property\n",
    "    def balance(self):\n",
    "        return self._balance\n",
    "    \n",
    "    @classmethod\n",
    "    def get_interest_rate(cls):\n",
    "        return cls._interest_rate\n",
    "\n",
    "    @classmethod\n",
    "    def set_interest_rate(cls,value):\n",
    "        if not isinstance(value,numbers.Real):\n",
    "            raise ValueError('The Interest Rate must be real no.')\n",
    "\n",
    "        if value < 0:\n",
    "            raise ValueError('The Interest Rate must be positive')\n",
    "\n",
    "        cls._interest_rate = value\n",
    "    \n",
    "    @staticmethod\n",
    "    def generate_conformation_code(transaction_code,account_no):\n",
    "        dt_str = datetime.utcnow().strftime('%Y%m%d%H%M%S')\n",
    "        return f\"{transaction_code}-{account_no}-{dt_str}-{next(Account.transation_counter)}\" \n",
    "\n",
    "    def make_transaction(self):\n",
    "        return self.generate_conformation_code('Dummy',self.account_no)\n",
    "    \n",
    "    \n",
    "    @staticmethod\n",
    "    def parse_conformation_code(conformation_code,prefered_timezone = None):\n",
    "        parsed_conformation_code = conformation_code.split('-')\n",
    "        if len(parsed_conformation_code) != 4:\n",
    "            raise ValueError('Invalid conformation_code')\n",
    "        transaction_code,account_no,row_datetime,transaction_id = parsed_conformation_code \n",
    "        try:\n",
    "            time_utc = datetime.strptime(row_datetime,'%Y%m%d%H%M%S')\n",
    "        except ValueError as ex:\n",
    "            raise ValueError('Invalid transaction datetime') from ex\n",
    "\n",
    "        if not prefered_timezone:\n",
    "            prefered_timezone = TimeZone('UTC',0,0)\n",
    "\n",
    "        if not isinstance(prefered_timezone,TimeZone):\n",
    "            raise ValueError('Invalid prefered timezone')\n",
    "        print('time_utc----------->',time_utc)\n",
    "        dt_prefered = time_utc + prefered_timezone.offset\n",
    "        dt_prefered_dtr = f\"{datetime.strftime(dt_prefered,'%Y-%m-%d,%H:%M:%S')} ({prefered_timezone.name})\"\n",
    "        Confirmation = namedtuple('Confirmation','account_number transaction_code transaction_id utc_time time')\n",
    "\n",
    "        return Confirmation(account_no,transaction_code,transaction_id,time_utc.isoformat(),dt_prefered_dtr)\n",
    "\n",
    "\n",
    "    "
   ]
  },
  {
   "cell_type": "code",
   "execution_count": 193,
   "metadata": {},
   "outputs": [
    {
     "ename": "AttributeError",
     "evalue": "type object 'Account' has no attribute 'validate_value'",
     "output_type": "error",
     "traceback": [
      "\u001b[1;31m---------------------------------------------------------------------------\u001b[0m",
      "\u001b[1;31mAttributeError\u001b[0m                            Traceback (most recent call last)",
      "\u001b[1;32m~\\AppData\\Local\\Temp/ipykernel_12828/410637496.py\u001b[0m in \u001b[0;36m<module>\u001b[1;34m\u001b[0m\n\u001b[1;32m----> 1\u001b[1;33m \u001b[0ma\u001b[0m  \u001b[1;33m=\u001b[0m \u001b[0mAccount\u001b[0m\u001b[1;33m(\u001b[0m\u001b[1;36m100\u001b[0m\u001b[1;33m,\u001b[0m\u001b[1;34m'A'\u001b[0m\u001b[1;33m,\u001b[0m\u001b[1;34m'B'\u001b[0m\u001b[1;33m)\u001b[0m\u001b[1;33m\u001b[0m\u001b[1;33m\u001b[0m\u001b[0m\n\u001b[0m\u001b[0;32m      2\u001b[0m \u001b[0mcomf_code\u001b[0m \u001b[1;33m=\u001b[0m \u001b[0ma\u001b[0m\u001b[1;33m.\u001b[0m\u001b[0mmake_transaction\u001b[0m\u001b[1;33m(\u001b[0m\u001b[1;33m)\u001b[0m\u001b[1;33m\u001b[0m\u001b[1;33m\u001b[0m\u001b[0m\n\u001b[0;32m      3\u001b[0m \u001b[0mprint\u001b[0m\u001b[1;33m(\u001b[0m\u001b[0mcomf_code\u001b[0m\u001b[1;33m)\u001b[0m\u001b[1;33m\u001b[0m\u001b[1;33m\u001b[0m\u001b[0m\n",
      "\u001b[1;32m~\\AppData\\Local\\Temp/ipykernel_12828/3249581941.py\u001b[0m in \u001b[0;36m__init__\u001b[1;34m(self, account_no, first_name, last_name, timezone, balance)\u001b[0m\n\u001b[0;32m     19\u001b[0m             \u001b[0mtimezone\u001b[0m \u001b[1;33m=\u001b[0m \u001b[0mTimeZone\u001b[0m\u001b[1;33m(\u001b[0m\u001b[1;34m'UTC'\u001b[0m\u001b[1;33m,\u001b[0m\u001b[1;36m0\u001b[0m\u001b[1;33m,\u001b[0m\u001b[1;36m0\u001b[0m\u001b[1;33m)\u001b[0m\u001b[1;33m\u001b[0m\u001b[1;33m\u001b[0m\u001b[0m\n\u001b[0;32m     20\u001b[0m         \u001b[0mself\u001b[0m\u001b[1;33m.\u001b[0m\u001b[0mtimezone\u001b[0m \u001b[1;33m=\u001b[0m \u001b[0mtimezone\u001b[0m\u001b[1;33m\u001b[0m\u001b[1;33m\u001b[0m\u001b[0m\n\u001b[1;32m---> 21\u001b[1;33m         \u001b[0mself\u001b[0m\u001b[1;33m.\u001b[0m\u001b[0m_balance\u001b[0m \u001b[1;33m=\u001b[0m \u001b[0mAccount\u001b[0m\u001b[1;33m.\u001b[0m\u001b[0mvalidate_value\u001b[0m\u001b[1;33m(\u001b[0m\u001b[0mfloat\u001b[0m\u001b[1;33m(\u001b[0m\u001b[0mbalance\u001b[0m\u001b[1;33m)\u001b[0m\u001b[1;33m,\u001b[0m\u001b[1;36m0\u001b[0m\u001b[1;33m)\u001b[0m\u001b[1;33m\u001b[0m\u001b[1;33m\u001b[0m\u001b[0m\n\u001b[0m\u001b[0;32m     22\u001b[0m \u001b[1;33m\u001b[0m\u001b[0m\n\u001b[0;32m     23\u001b[0m     \u001b[1;32mdef\u001b[0m \u001b[0mgenerate_transaction_id\u001b[0m\u001b[1;33m(\u001b[0m\u001b[0mself\u001b[0m\u001b[1;33m)\u001b[0m\u001b[1;33m:\u001b[0m\u001b[1;33m\u001b[0m\u001b[1;33m\u001b[0m\u001b[0m\n",
      "\u001b[1;31mAttributeError\u001b[0m: type object 'Account' has no attribute 'validate_value'"
     ]
    }
   ],
   "source": [
    "a  = Account(100,'A','B')\n",
    "comf_code = a.make_transaction()\n",
    "print(comf_code)"
   ]
  },
  {
   "cell_type": "code",
   "execution_count": 45,
   "metadata": {},
   "outputs": [
    {
     "name": "stdout",
     "output_type": "stream",
     "text": [
      "time_utc-----------> 2022-01-03 10:31:06\n"
     ]
    },
    {
     "data": {
      "text/plain": [
       "Confirmation(account_number='100', transaction_code='Dummy', transaction_id='100', utc_time='2022-01-03T10:31:06', time='2022-01-03,11:32:06 (ABC)')"
      ]
     },
     "execution_count": 45,
     "metadata": {},
     "output_type": "execute_result"
    }
   ],
   "source": [
    "Account.parse_conformation_code(comf_code,TimeZone('ABC',1,1))\n"
   ]
  },
  {
   "cell_type": "code",
   "execution_count": 50,
   "metadata": {},
   "outputs": [
    {
     "name": "stdout",
     "output_type": "stream",
     "text": [
      "time_utc-----------> 2022-01-03 10:31:06\n"
     ]
    }
   ],
   "source": [
    "try:    \n",
    "    Account.parse_conformation_code('Dummy-100-20220103103106-100',TimeZone('ABC',1,1))\n",
    "except Exception as ex:\n",
    "    print(ex)\n",
    "    print(ex.__cause__)\n"
   ]
  },
  {
   "cell_type": "code",
   "execution_count": 202,
   "metadata": {},
   "outputs": [],
   "source": [
    "import numbers\n",
    "import itertools \n",
    "from collections import namedtuple\n",
    "class Account:\n",
    "    _interest_rate = 0.5 # percent\n",
    "    transation_counter = itertools.count(100)\n",
    "    _transaction_code = {\n",
    "        \"deposite\":'D',\n",
    "        \"interest\":'I',\n",
    "        \"withdraw\":\"W\",\n",
    "        'rejected':\"X\"\n",
    "    }\n",
    "    def __init__(self,account_no,first_name,last_name,timezone = None,balance=0) -> None:\n",
    "        self._account_no = account_no\n",
    "        self.first_name = first_name\n",
    "        self.last_name = last_name\n",
    "        self._full_name = f\"{first_name} {last_name}\"\n",
    "        if timezone == None:\n",
    "            timezone = TimeZone('UTC',0,0)\n",
    "        self._timezone = timezone\n",
    "        self._balance = Account.validate_value(float(balance),0)\n",
    "\n",
    "    def generate_transaction_id(self):\n",
    "        return Account.transation_counter.next()\n",
    "\n",
    "    @property\n",
    "    def account_no(self):\n",
    "        return self._account_no\n",
    "\n",
    "    @account_no.setter\n",
    "    def account_no(self,value):\n",
    "        raise ValueError('You can not set or change Account No.')\n",
    "\n",
    "    @property\n",
    "    def first_name(self):\n",
    "        return self._first_name\n",
    "\n",
    "    @first_name.setter\n",
    "    def first_name(self,value):\n",
    "            self.validate_and_set_value('_first_name',value,'First Name')\n",
    "\n",
    "    @property\n",
    "    def last_name(self):\n",
    "        return self._last_name\n",
    "\n",
    "    def validate_and_set_value(self,attr_name,value,attribute_title):\n",
    "        if len(str(value))==0:\n",
    "            raise ValueError(f'{attribute_title} should not be None value ')\n",
    "        elif isinstance(value,int):\n",
    "            raise ValueError(f'{attribute_title} should be string value ')\n",
    "        setattr(self,attr_name,value.strip())\n",
    "\n",
    "    @staticmethod\n",
    "    def validate_value(value,min_value = 0):\n",
    "        if  not isinstance(value,numbers.Real):\n",
    "            raise ValueError('Value must be real No.')\n",
    "        if  value < 0:\n",
    "            raise ValueError(f'Value must be greater then {min_value}')\n",
    "        return value\n",
    "\n",
    "    @last_name.setter\n",
    "    def last_name(self,value):\n",
    "        self.validate_and_set_value('_last_name',value,'Last Name')\n",
    "\n",
    "    @property\n",
    "    def full_name(self):\n",
    "        return f\"{self.first_name} {self.last_name}\"\n",
    "\n",
    "    @property\n",
    "    def timezone(self):\n",
    "        return self._timezone\n",
    "\n",
    "    @timezone.setter\n",
    "    def timezone(self,value):\n",
    "        if not isinstance(value,TimeZone):\n",
    "            raise ValueError('The value must be TimeZone instance')\n",
    "        self._timezone = value\n",
    "\n",
    "    @property\n",
    "    def balance(self):\n",
    "        return self._balance\n",
    "    \n",
    "    @classmethod\n",
    "    def get_interest_rate(cls):\n",
    "        return cls._interest_rate\n",
    "\n",
    "    @classmethod\n",
    "    def set_interest_rate(cls,value):\n",
    "        if not isinstance(value,numbers.Real):\n",
    "            raise ValueError('The Interest Rate must be real no.')\n",
    "\n",
    "        if value < 0:\n",
    "            raise ValueError('The Interest Rate must be positive')\n",
    "\n",
    "        cls._interest_rate = value\n",
    "    \n",
    "    @staticmethod\n",
    "    def generate_conformation_code(transaction_code,account_no):\n",
    "        dt_str = datetime.utcnow().strftime('%Y%m%d%H%M%S')\n",
    "        return f\"{transaction_code}-{account_no}-{dt_str}-{next(Account.transation_counter)}\" \n",
    "\n",
    "    def make_transaction(self):\n",
    "        return self.generate_conformation_code('Dummy',self.account_no)\n",
    "    \n",
    "    \n",
    "    @staticmethod\n",
    "    def parse_conformation_code(conformation_code,prefered_timezone = None):\n",
    "        parsed_conformation_code = conformation_code.split('-')\n",
    "        if len(parsed_conformation_code) != 4:\n",
    "            raise ValueError('Invalid conformation code')\n",
    "        transaction_code,account_no,row_datetime,transaction_id = parsed_conformation_code \n",
    "        try:\n",
    "            time_utc = datetime.strptime(row_datetime,'%Y%m%d%H%M%S')\n",
    "        except ValueError as ex:\n",
    "            raise ValueError('Invalid transaction datetime') from ex\n",
    "\n",
    "        if not prefered_timezone:\n",
    "            prefered_timezone = TimeZone('UTC',0,0)\n",
    "\n",
    "        if not isinstance(prefered_timezone,TimeZone):\n",
    "            raise ValueError('Invalid prefered timezone')\n",
    "        # print('time_utc----------->',time_utc)\n",
    "        dt_prefered = time_utc + prefered_timezone.offset\n",
    "        dt_prefered_dtr = f\"{datetime.strftime(dt_prefered,'%Y-%m-%d,%H:%M:%S')} ({prefered_timezone.name})\"\n",
    "        Confirmation = namedtuple('Confirmation','account_number transaction_code transaction_id utc_time time')\n",
    "\n",
    "        return Confirmation(account_no,transaction_code,transaction_id,time_utc.isoformat(),dt_prefered_dtr)\n",
    "    \n",
    "    def deposite(self,value):\n",
    "        if  not isinstance(value,numbers.Real):\n",
    "            raise ValueError('Deposite value must be real No.')\n",
    "        if  value < 0:\n",
    "            raise ValueError('Deposite value must be Positive')\n",
    "        \n",
    "        transaction_code = Account._transaction_code['deposite']\n",
    "        confirmation_code = Account.generate_conformation_code(transaction_code,self.account_no)\n",
    "        self._balance += value\n",
    "        return confirmation_code\n",
    "\n",
    "    def withdraw(self,value):\n",
    "        if value and not isinstance(value,numbers.Real) and value < 0:\n",
    "            raise ValueError('deposite value must be real No.')\n",
    "\n",
    "        if value > self.balance :\n",
    "            transaction_code = Account._transaction_code['rejected']\n",
    "            confirmation_code = Account.generate_conformation_code(transaction_code,self.account_no)\n",
    "        \n",
    "        else:\n",
    "            transaction_code = Account._transaction_code['withdraw']\n",
    "            confirmation_code = Account.generate_conformation_code(transaction_code,self.account_no)\n",
    "            self._balance -= value\n",
    "        \n",
    "        return confirmation_code    \n",
    "    \n",
    "    def pay_interest(self):\n",
    "        interest = (self.balance * self.get_interest_rate())/100\n",
    "        confirmation_code = Account.generate_conformation_code(Account._transaction_code['interest'],self.account_no)\n",
    "        self._balance += interest\n",
    "        return confirmation_code\n",
    "\n",
    "    "
   ]
  },
  {
   "cell_type": "code",
   "execution_count": 203,
   "metadata": {},
   "outputs": [],
   "source": [
    "a1 = Account(1234567890,'Uday','Gupta',balance=10000000000)"
   ]
  },
  {
   "cell_type": "code",
   "execution_count": 196,
   "metadata": {},
   "outputs": [
    {
     "data": {
      "text/plain": [
       "10000000000.0"
      ]
     },
     "execution_count": 196,
     "metadata": {},
     "output_type": "execute_result"
    }
   ],
   "source": [
    "a1.balance"
   ]
  },
  {
   "cell_type": "code",
   "execution_count": 197,
   "metadata": {},
   "outputs": [
    {
     "data": {
      "text/plain": [
       "'I-1234567890-20220103183308-100'"
      ]
     },
     "execution_count": 197,
     "metadata": {},
     "output_type": "execute_result"
    }
   ],
   "source": [
    "a1.pay_interest()"
   ]
  },
  {
   "cell_type": "code",
   "execution_count": 198,
   "metadata": {},
   "outputs": [
    {
     "data": {
      "text/plain": [
       "10050000000.0"
      ]
     },
     "execution_count": 198,
     "metadata": {},
     "output_type": "execute_result"
    }
   ],
   "source": [
    "a1.balance"
   ]
  },
  {
   "cell_type": "code",
   "execution_count": 76,
   "metadata": {},
   "outputs": [
    {
     "data": {
      "text/plain": [
       "('D-1234567890-20220103105946-101', 10050050000.0)"
      ]
     },
     "execution_count": 76,
     "metadata": {},
     "output_type": "execute_result"
    }
   ],
   "source": [
    "a1.deposite(50000), a1.balance"
   ]
  },
  {
   "cell_type": "code",
   "execution_count": 77,
   "metadata": {},
   "outputs": [
    {
     "data": {
      "text/plain": [
       "('W-1234567890-20220103105948-102', 10050000000.0)"
      ]
     },
     "execution_count": 77,
     "metadata": {},
     "output_type": "execute_result"
    }
   ],
   "source": [
    "a1.withdraw(50000), a1.balance"
   ]
  },
  {
   "cell_type": "code",
   "execution_count": 78,
   "metadata": {},
   "outputs": [
    {
     "data": {
      "text/plain": [
       "('W-1234567890-20220103105949-103', 10049950000.0)"
      ]
     },
     "execution_count": 78,
     "metadata": {},
     "output_type": "execute_result"
    }
   ],
   "source": [
    "a1.withdraw(50000), a1.balance"
   ]
  },
  {
   "cell_type": "code",
   "execution_count": 79,
   "metadata": {},
   "outputs": [
    {
     "data": {
      "text/plain": [
       "('R-1234567890-20220103110001-104', 10049950000.0)"
      ]
     },
     "execution_count": 79,
     "metadata": {},
     "output_type": "execute_result"
    }
   ],
   "source": [
    "a1.withdraw(50000000000000000000000), a1.balance"
   ]
  },
  {
   "cell_type": "code",
   "execution_count": 83,
   "metadata": {},
   "outputs": [
    {
     "name": "stdout",
     "output_type": "stream",
     "text": [
      "Deposite value must be real No.\n"
     ]
    }
   ],
   "source": [
    "try:\n",
    "    a1.parse_conformation_code(a1.deposite('-1000'))\n",
    "except Exception as ex:\n",
    "    print(ex)\n"
   ]
  },
  {
   "cell_type": "markdown",
   "metadata": {},
   "source": [
    "## Test Case"
   ]
  },
  {
   "cell_type": "code",
   "execution_count": 84,
   "metadata": {},
   "outputs": [],
   "source": [
    "import unittest"
   ]
  },
  {
   "cell_type": "code",
   "execution_count": 103,
   "metadata": {},
   "outputs": [],
   "source": [
    "def run_tests(test_class):\n",
    "    suits = unittest.TestLoader().loadTestsFromTestCase(test_class)\n",
    "    runner = unittest.TextTestRunner(verbosity=2)\n",
    "    runner.run(suits)"
   ]
  },
  {
   "cell_type": "code",
   "execution_count": 122,
   "metadata": {},
   "outputs": [],
   "source": [
    "class TestAccount(unittest.TestCase):\n",
    "    def setUp(self):\n",
    "        print('running setup1 ...................')\n",
    "        self.x = 100\n",
    "    def Tearsetup(self):\n",
    "        print('running tear............')\n",
    "       \n",
    "\n",
    "    def test1(self):\n",
    "        self.x = 200\n",
    "        self.assertEqual(self.x,200)\n",
    "\n",
    "    def test2(self):\n",
    "        self.assertEqual(self.x,100)\n",
    "        "
   ]
  },
  {
   "cell_type": "code",
   "execution_count": 123,
   "metadata": {},
   "outputs": [
    {
     "name": "stderr",
     "output_type": "stream",
     "text": [
      "test1 (__main__.TestAccount) ... ok\n",
      "test2 (__main__.TestAccount) ... "
     ]
    },
    {
     "name": "stdout",
     "output_type": "stream",
     "text": [
      "running setup1 ...................\n",
      "running setup1 ...................\n"
     ]
    },
    {
     "name": "stderr",
     "output_type": "stream",
     "text": [
      "ok\n",
      "\n",
      "----------------------------------------------------------------------\n",
      "Ran 2 tests in 0.004s\n",
      "\n",
      "OK\n"
     ]
    }
   ],
   "source": [
    "run_tests(TestAccount)"
   ]
  },
  {
   "cell_type": "code",
   "execution_count": 216,
   "metadata": {},
   "outputs": [],
   "source": [
    "class TestAccount(unittest.TestCase):\n",
    "    def test_create_timezone(self):\n",
    "        tz = TimeZone('UTC',-1,-30)\n",
    "        self.assertEqual('UTC',tz.name)\n",
    "        self.assertEqual(TimeZone('UTC',-1,-30),tz)\n",
    "\n",
    "    def test_equal_timezone(self):\n",
    "        tz1 = TimeZone('UTC',-1,-30)\n",
    "        tz2 = TimeZone('ABC',-1,-30)\n",
    "        self.assertEqual(tz1, tz2)\n",
    "\n",
    "    def test_not_equal_timezone(self):\n",
    "        tz = TimeZone('UTC',-1,-30)\n",
    "        test_timezone = [\n",
    "            TimeZone('UTC',-1,-30),\n",
    "            TimeZone('ABC',-1,-30),\n",
    "            TimeZone('ABC',-6,-40),\n",
    "        ]\n",
    "\n",
    "        for i,test_time in enumerate(test_timezone):\n",
    "            with self.subTest(test_name = f\"Test #{i}\"):\n",
    "                self.assertEqual(test_time,tz)\n",
    "\n",
    "    def test_create_account(self):\n",
    "        account_no = 1234567890\n",
    "        first_name = 'FIRST'\n",
    "        last_name = 'LAST'\n",
    "        balance = 100.0\n",
    "        timezone = TimeZone('MU',1,20)\n",
    "\n",
    "        a = Account(account_no,first_name,last_name,balance = balance)\n",
    "\n",
    "        self.assertEqual(a.account_no,account_no)\n",
    "        self.assertEqual(a.first_name,first_name)\n",
    "        self.assertEqual(a.last_name,last_name)\n",
    "        self.assertEqual(a.balance,balance)\n",
    "        # self.assertEqual(a.timezone,timezone)\n",
    "    def test_blank_first_name(self):\n",
    "        account_no = 1234567890\n",
    "        first_name = ''\n",
    "        last_name = 'LAST'\n",
    "        \n",
    "        with self.assertRaises(ValueError):\n",
    "            a = Account(account_no,first_name,last_name)\n",
    "\n",
    "    def test_create_negative_balance(self):\n",
    "        account_no = 1234567890\n",
    "        first_name = 'FIRST'\n",
    "        last_name = 'LAST'\n",
    "        balance = -100.0\n",
    "\n",
    "        with self.assertRaises(ValueError):\n",
    "            a = Account(account_no,first_name,last_name,balance = balance)\n",
    "\n",
    "    def test_create_withdraw_balance(self):\n",
    "        account_no = 1234567890\n",
    "        first_name = 'FIRST'\n",
    "        last_name = 'LAST'\n",
    "        balance = 100.0\n",
    "        withdraw_amount = 10\n",
    "        a = Account(account_no,first_name,last_name,balance = balance)\n",
    "        a.withdraw(withdraw_amount)\n",
    "        self.assertEqual(a.balance,balance - withdraw_amount)\n",
    "\n",
    "    def test_deposite_balance(self):\n",
    "        account_no = 1234567890\n",
    "        first_name = 'FIRST'\n",
    "        last_name = 'LAST'\n",
    "        balance = 100.0\n",
    "        amount = 10\n",
    "        a = Account(account_no,first_name,last_name,balance = balance)\n",
    "        a.deposite(amount)\n",
    "        self.assertEqual(a.balance,balance + amount)\n",
    "\n",
    "    def test_deposite_negative_balance(self):\n",
    "        account_no = 1234567890\n",
    "        first_name = 'FIRST'\n",
    "        last_name = 'LAST'\n",
    "        balance = 100.0\n",
    "        amount = -10\n",
    "        with self.assertRaises(ValueError):\n",
    "            a = Account(account_no,first_name,last_name,balance = balance)\n",
    "            a.deposite(amount)\n",
    "            self.assertEqual(a.balance,balance + amount)\n",
    "\n",
    "    def test_withdraw_negative_balance(self):\n",
    "        account_no = 1234567890\n",
    "        first_name = 'FIRST'\n",
    "        last_name = 'LAST'\n",
    "        balance = 100.0\n",
    "        amount = -10\n",
    "        with self.assertRaises(ValueError):\n",
    "            a = Account(account_no,first_name,last_name,balance = balance)\n",
    "            a.withdraw(amount)\n",
    "            # self.assertEqual(a.balance,balance - amount)\n",
    "\n",
    "    def test_withdraw_maximum_balance(self):\n",
    "        account_no = 1234567890\n",
    "        first_name = 'FIRST'\n",
    "        last_name = 'LAST'\n",
    "        balance = 100.0\n",
    "        amount = 10000\n",
    "        with self.assertRaises(ValueError):\n",
    "            a = Account(account_no,first_name,last_name,balance = balance)\n",
    "            a.withdraw(amount)\n",
    "            self.assertEqual(a.balance,balance - amount)\n",
    "            \n",
    "    "
   ]
  },
  {
   "cell_type": "code",
   "execution_count": 217,
   "metadata": {},
   "outputs": [
    {
     "name": "stderr",
     "output_type": "stream",
     "text": [
      "test_blank_first_name (__main__.TestAccount) ... ok\n",
      "test_create_account (__main__.TestAccount) ... ok\n",
      "test_create_negative_balance (__main__.TestAccount) ... ok\n",
      "test_create_timezone (__main__.TestAccount) ... ok\n",
      "test_create_withdraw_balance (__main__.TestAccount) ... ok\n",
      "test_deposite_balance (__main__.TestAccount) ... ok\n",
      "test_deposite_negative_balance (__main__.TestAccount) ... ok\n",
      "test_equal_timezone (__main__.TestAccount) ... ok\n",
      "test_not_equal_timezone (__main__.TestAccount) ... ok\n",
      "test_withdraw_maximum_balance (__main__.TestAccount) ... FAIL\n",
      "test_withdraw_negative_balance (__main__.TestAccount) ... FAIL\n",
      "\n",
      "======================================================================\n",
      "FAIL: test_withdraw_maximum_balance (__main__.TestAccount)\n",
      "----------------------------------------------------------------------\n",
      "Traceback (most recent call last):\n",
      "  File \"C:\\Users\\udayg\\AppData\\Local\\Temp/ipykernel_12828/4253357491.py\", line 106, in test_withdraw_maximum_balance\n",
      "    self.assertEqual(a.balance,balance - amount)\n",
      "AssertionError: 100.0 != -9900.0\n",
      "\n",
      "======================================================================\n",
      "FAIL: test_withdraw_negative_balance (__main__.TestAccount)\n",
      "----------------------------------------------------------------------\n",
      "Traceback (most recent call last):\n",
      "  File \"C:\\Users\\udayg\\AppData\\Local\\Temp/ipykernel_12828/4253357491.py\", line 94, in test_withdraw_negative_balance\n",
      "    a.withdraw(amount)\n",
      "AssertionError: ValueError not raised\n",
      "\n",
      "----------------------------------------------------------------------\n",
      "Ran 11 tests in 0.014s\n",
      "\n",
      "FAILED (failures=2)\n"
     ]
    }
   ],
   "source": [
    "run_tests(TestAccount)"
   ]
  },
  {
   "cell_type": "code",
   "execution_count": null,
   "metadata": {},
   "outputs": [],
   "source": []
  },
  {
   "cell_type": "code",
   "execution_count": null,
   "metadata": {},
   "outputs": [],
   "source": []
  }
 ],
 "metadata": {
  "interpreter": {
   "hash": "31f2aee4e71d21fbe5cf8b01ff0e069b9275f58929596ceb00d14d90e3e16cd6"
  },
  "kernelspec": {
   "display_name": "Python 3.8.10 64-bit",
   "name": "python3"
  },
  "language_info": {
   "codemirror_mode": {
    "name": "ipython",
    "version": 3
   },
   "file_extension": ".py",
   "mimetype": "text/x-python",
   "name": "python",
   "nbconvert_exporter": "python",
   "pygments_lexer": "ipython3",
   "version": "3.8.12"
  }
 },
 "nbformat": 4,
 "nbformat_minor": 2
}
