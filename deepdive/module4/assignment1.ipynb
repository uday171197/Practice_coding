{
 "cells": [
  {
   "cell_type": "code",
   "execution_count": null,
   "metadata": {},
   "outputs": [],
   "source": [
    "from datetime import datetime,timedelta\n",
    "import numbers\n",
    "\n",
    "\n",
    "class TimeZone:\n",
    "    def __init__(self,name,offset_hour,offset_minutes) -> None:\n",
    "        if isinstance(name,int) and len(str(name).strip()) <= 0:\n",
    "            raise ValueError('The timezone name should not be empty and int')\n",
    "\n",
    "        self._name = str(name).strip()\n",
    "\n",
    "        if not isinstance(offset_minutes,numbers.Integral):\n",
    "            raise ValueError('The offset minutes should be int')\n",
    "\n",
    "        if not isinstance(offset_hour,numbers.Integral):\n",
    "            raise ValueError('The offset hour should be int')\n",
    "\n",
    "        if offset_minutes > 59 and offset_minutes < -59:\n",
    "            raise ValueError('The offset minutes should be in between -59 to 59')\n",
    "        \n",
    "        \n",
    "        self._offset_hour = offset_hour\n",
    "        self._offset_minutes = offset_minutes\n",
    "\n",
    "    @property\n",
    "    def name(self):\n",
    "        return self._name\n",
    "\n",
    "    @name.setter\n",
    "    def name(self,value):\n",
    "        if isinstance(value,str) and not value:\n",
    "            self.name = value\n",
    "        else:\n",
    "            raise ValueError('The timezone name should not be empty and int')\n",
    "\n",
    "    \n"
   ]
  },
  {
   "cell_type": "code",
   "execution_count": 29,
   "metadata": {},
   "outputs": [],
   "source": [
    "class Account:\n",
    "    monthly_interest_rate = 5\n",
    "    def __init__(self,account_no,first_name,last_name,balance=0) -> None:\n",
    "        self.account_no = account_no\n",
    "        self._first_name = first_name\n",
    "        self._last_name = last_name\n",
    "        self._full_name = f\"{first_name} {last_name}\"\n",
    "        self._balance = balance\n",
    "        self._monthly_interest_rate = Account.monthly_interest_rate\n",
    "\n",
    "    @property\n",
    "    def first_name(self):\n",
    "        return self._first_name\n",
    "\n",
    "    @first_name.setter\n",
    "    def first_name(self,value):\n",
    "        if value:\n",
    "            raise AttributeError('First Name should not be None value ')\n",
    "        elif isinstance(value,int):\n",
    "            raise AttributeError('First Name should be string value ')\n",
    "        else:\n",
    "            self.first_name = value\n",
    "            self.full_name = f\"{self.first_name} {self.last_name}\"\n",
    "\n",
    "    @property\n",
    "    def last_name(self):\n",
    "        return self._first_name\n",
    "\n",
    "    @last_name.setter\n",
    "    def last_name(self,value):\n",
    "        if value:\n",
    "            raise AttributeError('Name should not be None value ')\n",
    "        elif isinstance(value,int):\n",
    "            raise AttributeError('Name should be string value ')\n",
    "        else:\n",
    "            self.last_name = value\n",
    "            self.full_name = f\"{self.first_name} {self.last_name}\"\n",
    "    \n",
    "    @property\n",
    "    def full_name(self):\n",
    "        return f\"{self.first_name} {self.last_name}\"\n",
    "\n",
    "    @property\n",
    "    def balance(self):\n",
    "        return self._balance\n",
    "    \n",
    "    @balance.setter\n",
    "    def balance(self,value):\n",
    "        if isinstance(value,int) and value >=0 :\n",
    "            self.balance = value\n",
    "        else:\n",
    "            raise ValueError('Balance should be greather then 0 and should be integer')\n",
    "    \n",
    "    # @property\n",
    "    # def monthly_interest_rate(self):\n",
    "    #     return Account.monthly_interest_rate\n",
    "    \n",
    "    # @monthly_interest_rate.setter\n",
    "    # def monthly_interest_rate(self,new_interest_rate):\n",
    "    #     raise ValueError('You can not set new interest rate')\n",
    "\n",
    "\n",
    "\n",
    "\n",
    "    "
   ]
  },
  {
   "cell_type": "code",
   "execution_count": 30,
   "metadata": {},
   "outputs": [],
   "source": [
    "ac = Account(1234567890,'Uday','Gupta',0)"
   ]
  },
  {
   "cell_type": "code",
   "execution_count": 31,
   "metadata": {},
   "outputs": [
    {
     "data": {
      "text/plain": [
       "{'account_no': 1234567890,\n",
       " '_first_name': 'Uday',\n",
       " '_last_name': 'Gupta',\n",
       " '_full_name': 'Uday Gupta',\n",
       " '_balance': 0,\n",
       " '_monthly_interest_rate': 5}"
      ]
     },
     "execution_count": 31,
     "metadata": {},
     "output_type": "execute_result"
    }
   ],
   "source": [
    "ac.__dict__"
   ]
  },
  {
   "cell_type": "code",
   "execution_count": 32,
   "metadata": {},
   "outputs": [
    {
     "data": {
      "text/plain": [
       "5"
      ]
     },
     "execution_count": 32,
     "metadata": {},
     "output_type": "execute_result"
    }
   ],
   "source": [
    "\n",
    "ac.monthly_interest_rate"
   ]
  },
  {
   "cell_type": "code",
   "execution_count": 33,
   "metadata": {},
   "outputs": [
    {
     "data": {
      "text/plain": [
       "5"
      ]
     },
     "execution_count": 33,
     "metadata": {},
     "output_type": "execute_result"
    }
   ],
   "source": [
    "Account.monthly_interest_rate"
   ]
  },
  {
   "cell_type": "code",
   "execution_count": 34,
   "metadata": {},
   "outputs": [
    {
     "data": {
      "text/plain": [
       "5"
      ]
     },
     "execution_count": 34,
     "metadata": {},
     "output_type": "execute_result"
    }
   ],
   "source": [
    "ac.monthly_interest_rate"
   ]
  },
  {
   "cell_type": "code",
   "execution_count": null,
   "metadata": {},
   "outputs": [],
   "source": []
  }
 ],
 "metadata": {
  "interpreter": {
   "hash": "31f2aee4e71d21fbe5cf8b01ff0e069b9275f58929596ceb00d14d90e3e16cd6"
  },
  "kernelspec": {
   "display_name": "Python 3.8.10 64-bit",
   "name": "python3"
  },
  "language_info": {
   "codemirror_mode": {
    "name": "ipython",
    "version": 3
   },
   "file_extension": ".py",
   "mimetype": "text/x-python",
   "name": "python",
   "nbconvert_exporter": "python",
   "pygments_lexer": "ipython3",
   "version": "3.8.12"
  }
 },
 "nbformat": 4,
 "nbformat_minor": 2
}
