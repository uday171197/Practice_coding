{
 "cells": [
  {
   "cell_type": "markdown",
   "metadata": {},
   "source": [
    "## __repr__ and __str__"
   ]
  },
  {
   "cell_type": "code",
   "execution_count": 2,
   "metadata": {},
   "outputs": [],
   "source": [
    "class Person:\n",
    "    def __init__(self,name) -> None:\n",
    "        self.name = name\n",
    "        \n",
    "    def __repr__(self) -> str:\n",
    "        print('__repr__ calling')\n",
    "        return f\"Person(name = {self.name})\"\n",
    "    \n",
    "    "
   ]
  },
  {
   "cell_type": "code",
   "execution_count": 3,
   "metadata": {},
   "outputs": [],
   "source": [
    "p = Person('Uday')"
   ]
  },
  {
   "cell_type": "code",
   "execution_count": 4,
   "metadata": {},
   "outputs": [
    {
     "name": "stdout",
     "output_type": "stream",
     "text": [
      "__repr__ calling\n"
     ]
    },
    {
     "data": {
      "text/plain": [
       "Person(name = Uday)"
      ]
     },
     "execution_count": 4,
     "metadata": {},
     "output_type": "execute_result"
    }
   ],
   "source": [
    "p"
   ]
  },
  {
   "cell_type": "code",
   "execution_count": 5,
   "metadata": {},
   "outputs": [
    {
     "name": "stdout",
     "output_type": "stream",
     "text": [
      "__repr__ calling\n",
      "Person(name = Uday)\n"
     ]
    }
   ],
   "source": [
    "print(p)"
   ]
  },
  {
   "cell_type": "code",
   "execution_count": 6,
   "metadata": {},
   "outputs": [
    {
     "name": "stdout",
     "output_type": "stream",
     "text": [
      "__repr__ calling\n"
     ]
    },
    {
     "data": {
      "text/plain": [
       "'Person(name = Uday)'"
      ]
     },
     "execution_count": 6,
     "metadata": {},
     "output_type": "execute_result"
    }
   ],
   "source": [
    "str(p)"
   ]
  },
  {
   "cell_type": "code",
   "execution_count": 7,
   "metadata": {},
   "outputs": [
    {
     "name": "stdout",
     "output_type": "stream",
     "text": [
      "__repr__ calling\n"
     ]
    },
    {
     "data": {
      "text/plain": [
       "'Person(name = Uday)'"
      ]
     },
     "execution_count": 7,
     "metadata": {},
     "output_type": "execute_result"
    }
   ],
   "source": [
    "repr(p)"
   ]
  },
  {
   "cell_type": "code",
   "execution_count": 8,
   "metadata": {},
   "outputs": [],
   "source": [
    "class Person:\n",
    "    def __init__(self,name) -> None:\n",
    "        self.name = name\n",
    "        \n",
    "    def __repr__(self) -> str:\n",
    "        print('__repr__ calling')\n",
    "        return f\"Person(name = {self.name})\"\n",
    "    \n",
    "    def __str__(self) -> str:\n",
    "        print('__str__ calling')\n",
    "        return f\"Person(name = {self.name})\""
   ]
  },
  {
   "cell_type": "code",
   "execution_count": 9,
   "metadata": {},
   "outputs": [],
   "source": [
    "p = Person('Chhaya')"
   ]
  },
  {
   "cell_type": "code",
   "execution_count": 10,
   "metadata": {},
   "outputs": [
    {
     "name": "stdout",
     "output_type": "stream",
     "text": [
      "__repr__ calling\n"
     ]
    },
    {
     "data": {
      "text/plain": [
       "Person(name = Chhaya)"
      ]
     },
     "execution_count": 10,
     "metadata": {},
     "output_type": "execute_result"
    }
   ],
   "source": [
    "p"
   ]
  },
  {
   "cell_type": "code",
   "execution_count": 11,
   "metadata": {},
   "outputs": [
    {
     "name": "stdout",
     "output_type": "stream",
     "text": [
      "__repr__ calling\n"
     ]
    },
    {
     "data": {
      "text/plain": [
       "'Person(name = Chhaya)'"
      ]
     },
     "execution_count": 11,
     "metadata": {},
     "output_type": "execute_result"
    }
   ],
   "source": [
    "repr(p)"
   ]
  },
  {
   "cell_type": "code",
   "execution_count": 12,
   "metadata": {},
   "outputs": [
    {
     "name": "stdout",
     "output_type": "stream",
     "text": [
      "__str__ calling\n",
      "Person(name = Chhaya)\n"
     ]
    }
   ],
   "source": [
    "print(p)"
   ]
  },
  {
   "cell_type": "code",
   "execution_count": 13,
   "metadata": {},
   "outputs": [
    {
     "name": "stdout",
     "output_type": "stream",
     "text": [
      "__str__ calling\n"
     ]
    },
    {
     "data": {
      "text/plain": [
       "'Person(name = Chhaya)'"
      ]
     },
     "execution_count": 13,
     "metadata": {},
     "output_type": "execute_result"
    }
   ],
   "source": [
    "str(p)"
   ]
  },
  {
   "cell_type": "code",
   "execution_count": 14,
   "metadata": {},
   "outputs": [],
   "source": [
    "class Person:\n",
    "    def __init__(self,name) -> None:\n",
    "        self.name = name\n",
    "        \n",
    "    \n",
    "    def __str__(self) -> str:\n",
    "        print('__str__ calling')\n",
    "        return f\"Person(name = {self.name})\""
   ]
  },
  {
   "cell_type": "code",
   "execution_count": 15,
   "metadata": {},
   "outputs": [],
   "source": [
    "p = Person('Suraj')"
   ]
  },
  {
   "cell_type": "code",
   "execution_count": 16,
   "metadata": {},
   "outputs": [
    {
     "data": {
      "text/plain": [
       "<__main__.Person at 0x7f1e342a54f0>"
      ]
     },
     "execution_count": 16,
     "metadata": {},
     "output_type": "execute_result"
    }
   ],
   "source": [
    "p"
   ]
  },
  {
   "cell_type": "code",
   "execution_count": 17,
   "metadata": {},
   "outputs": [
    {
     "data": {
      "text/plain": [
       "'<__main__.Person object at 0x7f1e342a54f0>'"
      ]
     },
     "execution_count": 17,
     "metadata": {},
     "output_type": "execute_result"
    }
   ],
   "source": [
    "repr(p)"
   ]
  },
  {
   "cell_type": "code",
   "execution_count": 18,
   "metadata": {},
   "outputs": [
    {
     "name": "stdout",
     "output_type": "stream",
     "text": [
      "__str__ calling\n"
     ]
    },
    {
     "data": {
      "text/plain": [
       "'Person(name = Suraj)'"
      ]
     },
     "execution_count": 18,
     "metadata": {},
     "output_type": "execute_result"
    }
   ],
   "source": [
    "str(p)"
   ]
  },
  {
   "cell_type": "code",
   "execution_count": 19,
   "metadata": {},
   "outputs": [
    {
     "name": "stdout",
     "output_type": "stream",
     "text": [
      "__str__ calling\n",
      "Person(name = Suraj)\n"
     ]
    }
   ],
   "source": [
    "print(p)"
   ]
  },
  {
   "cell_type": "code",
   "execution_count": 20,
   "metadata": {},
   "outputs": [
    {
     "name": "stdout",
     "output_type": "stream",
     "text": [
      "__str__ calling\n"
     ]
    },
    {
     "data": {
      "text/plain": [
       "'Person(name = Suraj)'"
      ]
     },
     "execution_count": 20,
     "metadata": {},
     "output_type": "execute_result"
    }
   ],
   "source": [
    "f\"{p}\""
   ]
  },
  {
   "cell_type": "code",
   "execution_count": 21,
   "metadata": {},
   "outputs": [
    {
     "name": "stdout",
     "output_type": "stream",
     "text": [
      "__str__ calling\n"
     ]
    },
    {
     "data": {
      "text/plain": [
       "'Person(name = Suraj)'"
      ]
     },
     "execution_count": 21,
     "metadata": {},
     "output_type": "execute_result"
    }
   ],
   "source": [
    "\"{}\".format(p)"
   ]
  },
  {
   "cell_type": "markdown",
   "metadata": {},
   "source": [
    "## Arithmatic Operation"
   ]
  },
  {
   "cell_type": "code",
   "execution_count": 17,
   "metadata": {},
   "outputs": [],
   "source": [
    "import numbers\n",
    "\n",
    "class Vector:\n",
    "    def __init__(self,*components) -> None:\n",
    "        if len(components) <= 0:\n",
    "            raise ValueError('can not create empty vectors')\n",
    "        for component  in components:\n",
    "            if not isinstance(component,numbers.Real):\n",
    "                raise ValueError('Value must be real  no')\n",
    "        self._components = components\n",
    "        \n",
    "    def __repr__(self) -> str:\n",
    "        return f'Vector{self._components}'\n",
    "    \n",
    "    def __len__(self):\n",
    "        return len(self._components)\n",
    "    \n",
    "    def __add__(self,other):\n",
    "        if not isinstance(other,Vector):\n",
    "            raise ValueError('The value must be Vector object')\n",
    "        vector_sum = [x+y for x,y in zip(self._components,other._components)]\n",
    "        return vector_sum\n",
    "        \n",
    "    "
   ]
  },
  {
   "cell_type": "code",
   "execution_count": 18,
   "metadata": {},
   "outputs": [],
   "source": [
    "v1  = Vector(1,3)\n",
    "v2 = Vector(3,4)\n"
   ]
  },
  {
   "cell_type": "code",
   "execution_count": 19,
   "metadata": {},
   "outputs": [
    {
     "data": {
      "text/plain": [
       "[4, 7]"
      ]
     },
     "execution_count": 19,
     "metadata": {},
     "output_type": "execute_result"
    }
   ],
   "source": [
    "v1+v2"
   ]
  },
  {
   "cell_type": "code",
   "execution_count": 27,
   "metadata": {},
   "outputs": [],
   "source": [
    "import numbers\n",
    "\n",
    "class Vector:\n",
    "    def __init__(self,*components) -> None:\n",
    "        if len(components) <= 0:\n",
    "            raise ValueError('can not create empty vectors')\n",
    "        for component  in components:\n",
    "            if not isinstance(component,numbers.Real):\n",
    "                raise ValueError('Value must be real  no')\n",
    "        self._components = components\n",
    "        \n",
    "    def __repr__(self) -> str:\n",
    "        return f'Vector{self._components}'\n",
    "    \n",
    "    def __len__(self):\n",
    "        return len(self._components)\n",
    "    \n",
    "    def validate_value(self,value):\n",
    "        return isinstance(value,Vector) and len(value._components) == len(self._components)\n",
    "    \n",
    "    def __add__(self,other):\n",
    "        print('__add__ calling.............')\n",
    "        if not self.validate_value(other):\n",
    "            return NotImplemented\n",
    "        vector_sum = [x+y for x,y in zip(self._components,other._components)]\n",
    "        return vector_sum\n",
    "    \n",
    "    def __sub__(self,other):\n",
    "        print('__sub__ calling.............')\n",
    "        if not self.validate_value(other):\n",
    "            return NotImplemented\n",
    "        vector_sub= [x-y for x,y in zip(self._components,other._components)]\n",
    "        return vector_sub\n",
    "    \n",
    "    def __mul__(self,other):\n",
    "        print('__mul__ calling.............')\n",
    "        if  isinstance(other,numbers.Real):\n",
    "            vector_mul = self._components * other\n",
    "        elif isinstance(other,Vector):\n",
    "            vector_mul = [x*y for x,y in zip(self._components,other._components)]\n",
    "        else:\n",
    "            return NotImplemented\n",
    "        return vector_mul\n",
    "        \n",
    "    "
   ]
  },
  {
   "cell_type": "code",
   "execution_count": 28,
   "metadata": {},
   "outputs": [],
   "source": [
    "v1  = Vector(1,3)\n",
    "v2 = Vector(3,4)"
   ]
  },
  {
   "cell_type": "code",
   "execution_count": 30,
   "metadata": {},
   "outputs": [
    {
     "name": "stdout",
     "output_type": "stream",
     "text": [
      "__sub__ calling.............\n"
     ]
    },
    {
     "data": {
      "text/plain": [
       "[-2, -1]"
      ]
     },
     "execution_count": 30,
     "metadata": {},
     "output_type": "execute_result"
    }
   ],
   "source": [
    "v1-v2"
   ]
  },
  {
   "cell_type": "code",
   "execution_count": 31,
   "metadata": {},
   "outputs": [
    {
     "name": "stdout",
     "output_type": "stream",
     "text": [
      "__mul__ calling.............\n"
     ]
    },
    {
     "data": {
      "text/plain": [
       "[3, 12]"
      ]
     },
     "execution_count": 31,
     "metadata": {},
     "output_type": "execute_result"
    }
   ],
   "source": [
    "v1*v2"
   ]
  },
  {
   "cell_type": "code",
   "execution_count": 32,
   "metadata": {},
   "outputs": [
    {
     "name": "stdout",
     "output_type": "stream",
     "text": [
      "__mul__ calling.............\n"
     ]
    },
    {
     "data": {
      "text/plain": [
       "[3, 12]"
      ]
     },
     "execution_count": 32,
     "metadata": {},
     "output_type": "execute_result"
    }
   ],
   "source": [
    "v2* v1"
   ]
  },
  {
   "cell_type": "code",
   "execution_count": 35,
   "metadata": {},
   "outputs": [
    {
     "name": "stdout",
     "output_type": "stream",
     "text": [
      "__mul__ calling.............\n"
     ]
    },
    {
     "data": {
      "text/plain": [
       "(1, 3, 1, 3)"
      ]
     },
     "execution_count": 35,
     "metadata": {},
     "output_type": "execute_result"
    }
   ],
   "source": [
    "v1*2"
   ]
  },
  {
   "cell_type": "code",
   "execution_count": 36,
   "metadata": {},
   "outputs": [
    {
     "ename": "TypeError",
     "evalue": "unsupported operand type(s) for *: 'int' and 'Vector'",
     "output_type": "error",
     "traceback": [
      "\u001b[0;31m---------------------------------------------------------------------------\u001b[0m",
      "\u001b[0;31mTypeError\u001b[0m                                 Traceback (most recent call last)",
      "\u001b[0;32m/tmp/ipykernel_30871/2418098150.py\u001b[0m in \u001b[0;36m<module>\u001b[0;34m\u001b[0m\n\u001b[0;32m----> 1\u001b[0;31m \u001b[0;36m2\u001b[0m\u001b[0;34m*\u001b[0m\u001b[0mv1\u001b[0m\u001b[0;34m\u001b[0m\u001b[0;34m\u001b[0m\u001b[0m\n\u001b[0m",
      "\u001b[0;31mTypeError\u001b[0m: unsupported operand type(s) for *: 'int' and 'Vector'"
     ]
    }
   ],
   "source": [
    "2*v1"
   ]
  },
  {
   "cell_type": "code",
   "execution_count": 37,
   "metadata": {},
   "outputs": [],
   "source": [
    "import numbers\n",
    "\n",
    "class Vector:\n",
    "    def __init__(self,*components) -> None:\n",
    "        if len(components) <= 0:\n",
    "            raise ValueError('can not create empty vectors')\n",
    "        for component  in components:\n",
    "            if not isinstance(component,numbers.Real):\n",
    "                raise ValueError('Value must be real  no')\n",
    "        self._components = components\n",
    "        \n",
    "    def __repr__(self) -> str:\n",
    "        return f'Vector{self._components}'\n",
    "    \n",
    "    def __len__(self):\n",
    "        return len(self._components)\n",
    "    \n",
    "    def validate_value(self,value):\n",
    "        return isinstance(value,Vector) and len(value._components) == len(self._components)\n",
    "    \n",
    "    def __add__(self,other):\n",
    "        print('__add__ calling.............')\n",
    "        if not self.validate_value(other):\n",
    "            return NotImplemented\n",
    "        vector_sum = [x+y for x,y in zip(self._components,other._components)]\n",
    "        return vector_sum\n",
    "    \n",
    "    def __sub__(self,other):\n",
    "        print('__sub__ calling.............')\n",
    "        if not self.validate_value(other):\n",
    "            return NotImplemented\n",
    "        vector_sub= [x-y for x,y in zip(self._components,other._components)]\n",
    "        return vector_sub\n",
    "    \n",
    "    def __mul__(self,other):\n",
    "        print('__mul__ calling.............')\n",
    "        if  isinstance(other,numbers.Real):\n",
    "            vector_mul = self._components * other\n",
    "        elif isinstance(other,Vector):\n",
    "            vector_mul = [x*y for x,y in zip(self._components,other._components)]\n",
    "        else:\n",
    "            return NotImplemented\n",
    "        return vector_mul\n",
    "    \n",
    "    def __rmul__(self,other):\n",
    "        print('__mul__ calling.............')\n",
    "        if  isinstance(other,numbers.Real):\n",
    "            vector_mul = self._components * other\n",
    "        elif isinstance(other,Vector):\n",
    "            vector_mul = [x*y for x,y in zip(self._components,other._components)]\n",
    "        else:\n",
    "            return NotImplemented\n",
    "        return vector_mul\n",
    "        \n",
    "    "
   ]
  },
  {
   "cell_type": "code",
   "execution_count": 38,
   "metadata": {},
   "outputs": [],
   "source": [
    "v1  = Vector(1,3)\n",
    "v2 = Vector(3,4)"
   ]
  },
  {
   "cell_type": "code",
   "execution_count": 39,
   "metadata": {},
   "outputs": [
    {
     "name": "stdout",
     "output_type": "stream",
     "text": [
      "__mul__ calling.............\n"
     ]
    },
    {
     "data": {
      "text/plain": [
       "(1, 3, 1, 3)"
      ]
     },
     "execution_count": 39,
     "metadata": {},
     "output_type": "execute_result"
    }
   ],
   "source": [
    "2*v1"
   ]
  },
  {
   "cell_type": "code",
   "execution_count": 54,
   "metadata": {},
   "outputs": [],
   "source": [
    "import numbers\n",
    "\n",
    "class Vector:\n",
    "    def __init__(self,*components) -> None:\n",
    "        if len(components) <= 0:\n",
    "            raise ValueError('can not create empty vectors')\n",
    "        for component  in components:\n",
    "            if not isinstance(component,numbers.Real):\n",
    "                raise ValueError('Value must be real  no')\n",
    "        self._components = components\n",
    "        \n",
    "    def __repr__(self) -> str:\n",
    "        return f'Vector{self._components}'\n",
    "    \n",
    "    def __len__(self):\n",
    "        return len(self._components)\n",
    "    \n",
    "    def validate_value(self,value):\n",
    "        return isinstance(value,Vector) and len(value._components) == len(self._components)\n",
    "    \n",
    "    def __add__(self,other):\n",
    "        print('__add__ calling.............')\n",
    "        if not self.validate_value(other):\n",
    "            return NotImplemented\n",
    "        vector_sum = [x+y for x,y in zip(self._components,other._components)]\n",
    "        return vector_sum\n",
    "    \n",
    "    def __sub__(self,other):\n",
    "        print('__sub__ calling.............')\n",
    "        if not self.validate_value(other):\n",
    "            return NotImplemented\n",
    "        vector_sub= [x-y for x,y in zip(self._components,other._components)]\n",
    "        return vector_sub\n",
    "    \n",
    "    def __mul__(self,other):\n",
    "        print('__mul__ calling.............')\n",
    "        if  isinstance(other,numbers.Real):\n",
    "            vector_mul = self._components * other\n",
    "        elif isinstance(other,Vector):\n",
    "            vector_mul = [x*y for x,y in zip(self._components,other._components)]\n",
    "        else:\n",
    "            return NotImplemented\n",
    "        return vector_mul\n",
    "    \n",
    "    def __rmul__(self,other):\n",
    "        print('__mul__ calling.............')\n",
    "        if  isinstance(other,numbers.Real):\n",
    "            vector_mul = self._components * other\n",
    "        elif isinstance(other,Vector):\n",
    "            vector_mul = [x*y for x,y in zip(self._components,other._components)]\n",
    "        else:\n",
    "            return NotImplemented\n",
    "        return vector_mul\n",
    "        \n",
    "    def __iadd__(self,other):\n",
    "        if not self.validate_value(other):\n",
    "            return NotImplemented\n",
    "        self._components = tuple([x+y for x,y in zip(self._components,other._components)])\n",
    "        return self"
   ]
  },
  {
   "cell_type": "code",
   "execution_count": 55,
   "metadata": {},
   "outputs": [
    {
     "data": {
      "text/plain": [
       "140328130928064"
      ]
     },
     "execution_count": 55,
     "metadata": {},
     "output_type": "execute_result"
    }
   ],
   "source": [
    "v1  = Vector(1,3)\n",
    "v2 = Vector(3,4)\n",
    "id(v1)"
   ]
  },
  {
   "cell_type": "code",
   "execution_count": 56,
   "metadata": {},
   "outputs": [
    {
     "name": "stdout",
     "output_type": "stream",
     "text": [
      "140328130928064 Vector(4, 7)\n"
     ]
    }
   ],
   "source": [
    "v1+=v2 \n",
    "\n",
    "print(id(v1),v1)"
   ]
  },
  {
   "cell_type": "code",
   "execution_count": 75,
   "metadata": {},
   "outputs": [],
   "source": [
    "import numbers\n",
    "\n",
    "class Vector:\n",
    "    def __init__(self,x,y) -> None:\n",
    "        self.x = x\n",
    "        self.y = y\n",
    "        \n",
    "    def __repr__(self) -> str:\n",
    "        return f'Vector(x = {self.x}, y={self.y})'\n",
    "\n",
    "    \n",
    "    def validate_value(self,value):\n",
    "        return isinstance(value,Vector)\n",
    "    \n",
    "    \n",
    "    def __abs__(self):\n",
    "        return self.x ** 2 +self.y ** 2\n",
    "    \n",
    "    def __lt__(self,other):\n",
    "        if not self.validate_value(other):\n",
    "            return NotImplemented\n",
    "        return abs(self) < abs(other)\n",
    "    \n",
    "    def __eq__(self,other):\n",
    "        if not self.validate_value(other):\n",
    "            return NotImplemented\n",
    "        return self.x == other.x and self.y == other.y\n",
    "    \n",
    "    def __lte__(self,other):\n",
    "        if not self.validate_value(other):\n",
    "            return NotImplemented\n",
    "        return self < other or self == other\n",
    "    "
   ]
  },
  {
   "cell_type": "code",
   "execution_count": 76,
   "metadata": {},
   "outputs": [],
   "source": [
    "v1  = Vector(1,3)\n",
    "v2 = Vector(3,4)"
   ]
  },
  {
   "cell_type": "code",
   "execution_count": 77,
   "metadata": {},
   "outputs": [
    {
     "data": {
      "text/plain": [
       "True"
      ]
     },
     "execution_count": 77,
     "metadata": {},
     "output_type": "execute_result"
    }
   ],
   "source": [
    "v1<v2"
   ]
  },
  {
   "cell_type": "code",
   "execution_count": 78,
   "metadata": {},
   "outputs": [
    {
     "data": {
      "text/plain": [
       "False"
      ]
     },
     "execution_count": 78,
     "metadata": {},
     "output_type": "execute_result"
    }
   ],
   "source": [
    "v1==v2"
   ]
  },
  {
   "cell_type": "code",
   "execution_count": 79,
   "metadata": {},
   "outputs": [
    {
     "ename": "TypeError",
     "evalue": "'>=' not supported between instances of 'Vector' and 'Vector'",
     "output_type": "error",
     "traceback": [
      "\u001b[0;31m---------------------------------------------------------------------------\u001b[0m",
      "\u001b[0;31mTypeError\u001b[0m                                 Traceback (most recent call last)",
      "\u001b[0;32m/tmp/ipykernel_30871/778306333.py\u001b[0m in \u001b[0;36m<module>\u001b[0;34m\u001b[0m\n\u001b[0;32m----> 1\u001b[0;31m \u001b[0mv1\u001b[0m\u001b[0;34m>=\u001b[0m\u001b[0mv2\u001b[0m\u001b[0;34m\u001b[0m\u001b[0;34m\u001b[0m\u001b[0m\n\u001b[0m",
      "\u001b[0;31mTypeError\u001b[0m: '>=' not supported between instances of 'Vector' and 'Vector'"
     ]
    }
   ],
   "source": []
  },
  {
   "cell_type": "code",
   "execution_count": 80,
   "metadata": {},
   "outputs": [],
   "source": [
    "import numbers\n",
    "class Number:\n",
    "    def __init__(self,x) -> None:\n",
    "        self.x = x\n",
    "        \n",
    "    def __repr__(self) -> str:\n",
    "        return f'Number({self.x})'\n",
    "    \n",
    "    def __eq__(self,value):\n",
    "        if isinstance(value,Number):\n",
    "            return self.x == value.x\n",
    "        if isinstance(value,numbers.Real):\n",
    "            return self.x == value\n",
    "        return NotImplemented\n",
    "    \n",
    "    def __lt__(self,value):\n",
    "        if isinstance(value,Number):\n",
    "            return self.x < value.x\n",
    "        if isinstance(value,numbers.Real):\n",
    "            return self.x < value\n",
    "        return NotImplemented\n",
    "    \n",
    "    def __gt__(self,value):\n",
    "        if isinstance(value,Number):\n",
    "            return self.x > value.x\n",
    "        if isinstance(value,numbers.Real):\n",
    "            return self.x > value\n",
    "        return NotImplemented\n",
    "    \n",
    "    def __gte__(self,value):\n",
    "        if isinstance(value,Number):\n",
    "            return self > value or self == value\n",
    "        if isinstance(value,numbers.Real):\n",
    "            return self.x > value or self.x > value\n",
    "        return NotImplemented\n",
    "    \n",
    "    \n",
    "    "
   ]
  },
  {
   "cell_type": "code",
   "execution_count": 85,
   "metadata": {},
   "outputs": [],
   "source": [
    "n1 = Number(10)\n",
    "n2 = Number(11)"
   ]
  },
  {
   "cell_type": "code",
   "execution_count": 86,
   "metadata": {},
   "outputs": [
    {
     "data": {
      "text/plain": [
       "False"
      ]
     },
     "execution_count": 86,
     "metadata": {},
     "output_type": "execute_result"
    }
   ],
   "source": [
    "n1 ==n2"
   ]
  },
  {
   "cell_type": "code",
   "execution_count": 87,
   "metadata": {},
   "outputs": [
    {
     "data": {
      "text/plain": [
       "True"
      ]
     },
     "execution_count": 87,
     "metadata": {},
     "output_type": "execute_result"
    }
   ],
   "source": [
    "n1<n2"
   ]
  },
  {
   "cell_type": "code",
   "execution_count": 88,
   "metadata": {},
   "outputs": [
    {
     "data": {
      "text/plain": [
       "False"
      ]
     },
     "execution_count": 88,
     "metadata": {},
     "output_type": "execute_result"
    }
   ],
   "source": [
    "n1>n2"
   ]
  },
  {
   "cell_type": "markdown",
   "metadata": {},
   "source": [
    "## Call"
   ]
  },
  {
   "cell_type": "code",
   "execution_count": 6,
   "metadata": {},
   "outputs": [],
   "source": [
    "class Person:\n",
    "    def __call__(self):\n",
    "        print('__call__calling..............')"
   ]
  },
  {
   "cell_type": "code",
   "execution_count": 7,
   "metadata": {},
   "outputs": [],
   "source": [
    "p = Person()"
   ]
  },
  {
   "cell_type": "code",
   "execution_count": 8,
   "metadata": {},
   "outputs": [
    {
     "name": "stdout",
     "output_type": "stream",
     "text": [
      "__call__calling..............\n"
     ]
    }
   ],
   "source": [
    "p()"
   ]
  },
  {
   "cell_type": "code",
   "execution_count": 9,
   "metadata": {},
   "outputs": [
    {
     "data": {
      "text/plain": [
       "__main__.Person"
      ]
     },
     "execution_count": 9,
     "metadata": {},
     "output_type": "execute_result"
    }
   ],
   "source": [
    "type(p)"
   ]
  },
  {
   "cell_type": "code",
   "execution_count": 10,
   "metadata": {},
   "outputs": [],
   "source": [
    "from functools import partial\n",
    "\n"
   ]
  },
  {
   "cell_type": "code",
   "execution_count": 17,
   "metadata": {},
   "outputs": [],
   "source": [
    "f = lambda x,y,z : print(x,y,z)\n",
    "partial_f = partial(f,10,20)"
   ]
  },
  {
   "cell_type": "code",
   "execution_count": 12,
   "metadata": {},
   "outputs": [
    {
     "name": "stdout",
     "output_type": "stream",
     "text": [
      "10 20 30\n"
     ]
    }
   ],
   "source": [
    "partial_f(30)"
   ]
  },
  {
   "cell_type": "code",
   "execution_count": 13,
   "metadata": {},
   "outputs": [
    {
     "data": {
      "text/plain": [
       "functools.partial"
      ]
     },
     "execution_count": 13,
     "metadata": {},
     "output_type": "execute_result"
    }
   ],
   "source": [
    "type(partial_f)"
   ]
  },
  {
   "cell_type": "code",
   "execution_count": 28,
   "metadata": {},
   "outputs": [],
   "source": [
    "class Partial:\n",
    "    def __init__(self,fun,*args) -> None:\n",
    "        self._fun = fun\n",
    "        self._args = args\n",
    "        \n",
    "    def __call__(self, *args):\n",
    "        return self._fun(*self._args,*args)"
   ]
  },
  {
   "cell_type": "code",
   "execution_count": 29,
   "metadata": {},
   "outputs": [],
   "source": [
    "def f(x,y,z):\n",
    "    print(x,y,z)\n",
    "    \n",
    "p1  =Partial(f,10,20)"
   ]
  },
  {
   "cell_type": "code",
   "execution_count": 30,
   "metadata": {},
   "outputs": [
    {
     "name": "stdout",
     "output_type": "stream",
     "text": [
      "10 20 20\n"
     ]
    }
   ],
   "source": [
    "p1(20)"
   ]
  },
  {
   "cell_type": "code",
   "execution_count": 44,
   "metadata": {},
   "outputs": [],
   "source": [
    "from time import perf_counter\n",
    "class Profiler:\n",
    "    def __init__(self,fn) -> None:\n",
    "        self.fn = fn\n",
    "        self.counter = 0\n",
    "        \n",
    "    def __call__(self, *args, **kwds):\n",
    "        self.counter +=1\n",
    "        start = perf_counter()\n",
    "        result = self.fn(*args, **kwds)\n",
    "        end = perf_counter()\n",
    "        diff = end-start\n",
    "        self._avg_time = diff/self.counter\n",
    "        return result\n",
    "    \n",
    "    @property\n",
    "    def avg_time(self):\n",
    "        return self._avg_time\n",
    "        "
   ]
  },
  {
   "cell_type": "code",
   "execution_count": 45,
   "metadata": {},
   "outputs": [],
   "source": [
    "def fun(*args, **kwds):\n",
    "    print(*args, **kwds)\n",
    "    return args"
   ]
  },
  {
   "cell_type": "code",
   "execution_count": 46,
   "metadata": {},
   "outputs": [],
   "source": [
    "f = Profiler(fun)"
   ]
  },
  {
   "cell_type": "code",
   "execution_count": 47,
   "metadata": {},
   "outputs": [
    {
     "name": "stdout",
     "output_type": "stream",
     "text": [
      "1 2 3\n"
     ]
    },
    {
     "data": {
      "text/plain": [
       "(1, 2, 3)"
      ]
     },
     "execution_count": 47,
     "metadata": {},
     "output_type": "execute_result"
    }
   ],
   "source": [
    "f(1,2,3)"
   ]
  },
  {
   "cell_type": "code",
   "execution_count": 48,
   "metadata": {},
   "outputs": [
    {
     "data": {
      "text/plain": [
       "1"
      ]
     },
     "execution_count": 48,
     "metadata": {},
     "output_type": "execute_result"
    }
   ],
   "source": [
    "f.counter"
   ]
  },
  {
   "cell_type": "code",
   "execution_count": 38,
   "metadata": {},
   "outputs": [
    {
     "data": {
      "text/plain": [
       "6.936999852769077e-05"
      ]
     },
     "execution_count": 38,
     "metadata": {},
     "output_type": "execute_result"
    }
   ],
   "source": [
    "f.avg_time"
   ]
  },
  {
   "cell_type": "markdown",
   "metadata": {},
   "source": [
    "## format"
   ]
  },
  {
   "cell_type": "code",
   "execution_count": 58,
   "metadata": {},
   "outputs": [],
   "source": [
    "class Person:\n",
    "    def __init__(self,name,dob) -> None:\n",
    "        self.name  = name\n",
    "        self.dob = dob\n",
    "        \n",
    "    def __repr__(self) -> str:\n",
    "        return f'Person(name : {self.name} , dob : {self.dob.isoformat()})'\n",
    "    \n",
    "    def __str__(self):\n",
    "        return f\"Person(name = {self.name})\"\n",
    "    \n",
    "    def __format__(self, __format_spec: str) -> str:\n",
    "        print('__format__ called.......')\n",
    "        dob = format(self.dob,__format_spec)\n",
    "        return f'Person(name : {self.name} , dob : {dob})'\n",
    "        \n",
    "        "
   ]
  },
  {
   "cell_type": "code",
   "execution_count": 59,
   "metadata": {},
   "outputs": [],
   "source": [
    "from datetime import date \n",
    "p = Person('uday',date(1997,11,11))"
   ]
  },
  {
   "cell_type": "code",
   "execution_count": 60,
   "metadata": {},
   "outputs": [
    {
     "data": {
      "text/plain": [
       "'uday'"
      ]
     },
     "execution_count": 60,
     "metadata": {},
     "output_type": "execute_result"
    }
   ],
   "source": [
    "p.name"
   ]
  },
  {
   "cell_type": "code",
   "execution_count": 61,
   "metadata": {},
   "outputs": [
    {
     "data": {
      "text/plain": [
       "datetime.date(1997, 11, 11)"
      ]
     },
     "execution_count": 61,
     "metadata": {},
     "output_type": "execute_result"
    }
   ],
   "source": [
    "p.dob"
   ]
  },
  {
   "cell_type": "code",
   "execution_count": 62,
   "metadata": {},
   "outputs": [
    {
     "data": {
      "text/plain": [
       "Person(name : uday , dob : 1997-11-11)"
      ]
     },
     "execution_count": 62,
     "metadata": {},
     "output_type": "execute_result"
    }
   ],
   "source": [
    "p"
   ]
  },
  {
   "cell_type": "code",
   "execution_count": 63,
   "metadata": {},
   "outputs": [
    {
     "data": {
      "text/plain": [
       "'1997-11-11'"
      ]
     },
     "execution_count": 63,
     "metadata": {},
     "output_type": "execute_result"
    }
   ],
   "source": [
    "format(p.dob)"
   ]
  },
  {
   "cell_type": "code",
   "execution_count": 64,
   "metadata": {},
   "outputs": [
    {
     "data": {
      "text/plain": [
       "'November 11, 1997'"
      ]
     },
     "execution_count": 64,
     "metadata": {},
     "output_type": "execute_result"
    }
   ],
   "source": [
    "format(p.dob,\"%B %d, %Y\")"
   ]
  },
  {
   "cell_type": "code",
   "execution_count": null,
   "metadata": {},
   "outputs": [],
   "source": []
  }
 ],
 "metadata": {
  "interpreter": {
   "hash": "31f2aee4e71d21fbe5cf8b01ff0e069b9275f58929596ceb00d14d90e3e16cd6"
  },
  "kernelspec": {
   "display_name": "Python 3.8.10 64-bit",
   "name": "python3"
  },
  "language_info": {
   "codemirror_mode": {
    "name": "ipython",
    "version": 3
   },
   "file_extension": ".py",
   "mimetype": "text/x-python",
   "name": "python",
   "nbconvert_exporter": "python",
   "pygments_lexer": "ipython3",
   "version": "3.8.10"
  }
 },
 "nbformat": 4,
 "nbformat_minor": 2
}
