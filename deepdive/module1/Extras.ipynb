{
 "cells": [
  {
   "cell_type": "markdown",
   "metadata": {},
   "source": [
    "## underscore use "
   ]
  },
  {
   "cell_type": "code",
   "execution_count": 1,
   "metadata": {},
   "outputs": [
    {
     "data": {
      "text/plain": [
       "1111000000"
      ]
     },
     "execution_count": 1,
     "metadata": {},
     "output_type": "execute_result"
    }
   ],
   "source": [
    "1_1_1_1000_00_0"
   ]
  },
  {
   "cell_type": "code",
   "execution_count": 2,
   "metadata": {},
   "outputs": [
    {
     "name": "stdout",
     "output_type": "stream",
     "text": [
      "10_000_000_000_000_000_000\n"
     ]
    }
   ],
   "source": [
    "print('{:_}'.format(10000000000000000000))"
   ]
  },
  {
   "cell_type": "code",
   "execution_count": 3,
   "metadata": {},
   "outputs": [
    {
     "data": {
      "text/plain": [
       "1048575"
      ]
     },
     "execution_count": 3,
     "metadata": {},
     "output_type": "execute_result"
    }
   ],
   "source": [
    "0X_f_f_ff_f"
   ]
  },
  {
   "cell_type": "code",
   "execution_count": 4,
   "metadata": {},
   "outputs": [
    {
     "data": {
      "text/plain": [
       "71"
      ]
     },
     "execution_count": 4,
     "metadata": {},
     "output_type": "execute_result"
    }
   ],
   "source": [
    "0B_1_0_0_0_1_1_1\n"
   ]
  },
  {
   "cell_type": "markdown",
   "metadata": {},
   "source": [
    "## f-string "
   ]
  },
  {
   "cell_type": "code",
   "execution_count": 5,
   "metadata": {},
   "outputs": [
    {
     "name": "stdout",
     "output_type": "stream",
     "text": [
      "hello python!\n"
     ]
    }
   ],
   "source": [
    "print('{} python!'.format('hello'))"
   ]
  },
  {
   "cell_type": "code",
   "execution_count": 6,
   "metadata": {},
   "outputs": [
    {
     "name": "stdout",
     "output_type": "stream",
     "text": [
      "10 python!\n"
     ]
    }
   ],
   "source": [
    "a = 10\n",
    "print('{} python!'.format(a))"
   ]
  },
  {
   "cell_type": "code",
   "execution_count": 8,
   "metadata": {},
   "outputs": [
    {
     "name": "stdout",
     "output_type": "stream",
     "text": [
      "10 python!\n"
     ]
    }
   ],
   "source": [
    "a = 10\n",
    "print('{a} python!'.format(a=a))"
   ]
  },
  {
   "cell_type": "code",
   "execution_count": 9,
   "metadata": {},
   "outputs": [
    {
     "name": "stdout",
     "output_type": "stream",
     "text": [
      "{a} python!\n"
     ]
    }
   ],
   "source": [
    "print('{a} python!')"
   ]
  },
  {
   "cell_type": "code",
   "execution_count": 1,
   "metadata": {},
   "outputs": [
    {
     "name": "stdout",
     "output_type": "stream",
     "text": [
      "110\n"
     ]
    }
   ],
   "source": [
    "a= 10\n",
    "b=100\n",
    "\n",
    "add = lambda a,b:a+b\n",
    "print(f'{add(a,b)}')"
   ]
  },
  {
   "cell_type": "code",
   "execution_count": 2,
   "metadata": {},
   "outputs": [
    {
     "name": "stdout",
     "output_type": "stream",
     "text": [
      "110\n"
     ]
    }
   ],
   "source": [
    "a= 10\n",
    "b=100\n",
    "\n",
    "print(f'{(lambda a,b:a+b)(a,b)}')"
   ]
  },
  {
   "cell_type": "markdown",
   "metadata": {},
   "source": [
    "## Random seeds"
   ]
  },
  {
   "cell_type": "code",
   "execution_count": 3,
   "metadata": {},
   "outputs": [],
   "source": [
    "import random"
   ]
  },
  {
   "cell_type": "code",
   "execution_count": 7,
   "metadata": {},
   "outputs": [
    {
     "name": "stdout",
     "output_type": "stream",
     "text": [
      "18 0.48355894437204316\n",
      "12 0.036227516146241756\n",
      "19 0.17313389707669802\n",
      "16 0.46254628625934346\n",
      "14 0.2051167906978314\n",
      "12 0.22857581528321846\n",
      "11 0.7448528859333731\n",
      "13 0.6601619809894834\n",
      "11 0.4018947347779387\n",
      "19 0.5312373413201402\n"
     ]
    }
   ],
   "source": [
    "for _ in range(10):\n",
    "    print(random.randint(10,20),random.random())"
   ]
  },
  {
   "cell_type": "code",
   "execution_count": 8,
   "metadata": {},
   "outputs": [
    {
     "name": "stdout",
     "output_type": "stream",
     "text": [
      "11 0.10215105696081017\n",
      "19 0.12661777920233575\n",
      "17 0.4841808807403808\n",
      "16 0.30494342013171805\n",
      "18 0.3782382693511228\n",
      "16 0.8408670475956512\n",
      "14 0.09325756203616098\n",
      "19 0.7568159122110754\n",
      "16 0.6139921089793272\n",
      "11 0.9362149962075518\n"
     ]
    }
   ],
   "source": [
    "for _ in range(10):\n",
    "    print(random.randint(10,20),random.random())"
   ]
  },
  {
   "cell_type": "code",
   "execution_count": 14,
   "metadata": {},
   "outputs": [
    {
     "name": "stdout",
     "output_type": "stream",
     "text": [
      "12 0.5692038748222122\n",
      "11 0.2550690257394217\n",
      "17 0.7609624449125756\n",
      "17 0.651592972722763\n",
      "13 0.0938595867742349\n",
      "10 0.8933170425576351\n",
      "16 0.43276706790505337\n",
      "10 0.6958328667684435\n",
      "14 0.7215400323407826\n",
      "13 0.5911534350013039\n"
     ]
    }
   ],
   "source": [
    "random.seed(1)\n",
    "for _ in range(10):\n",
    "    print(random.randint(10,20),random.random())"
   ]
  },
  {
   "cell_type": "code",
   "execution_count": 15,
   "metadata": {},
   "outputs": [
    {
     "name": "stdout",
     "output_type": "stream",
     "text": [
      "12 0.5692038748222122\n",
      "11 0.2550690257394217\n",
      "17 0.7609624449125756\n",
      "17 0.651592972722763\n",
      "13 0.0938595867742349\n",
      "10 0.8933170425576351\n",
      "16 0.43276706790505337\n",
      "10 0.6958328667684435\n",
      "14 0.7215400323407826\n",
      "13 0.5911534350013039\n"
     ]
    }
   ],
   "source": [
    "\n",
    "random.seed(1)\n",
    "for _ in range(10):\n",
    "    print(random.randint(10,20),random.random())"
   ]
  },
  {
   "cell_type": "code",
   "execution_count": 16,
   "metadata": {},
   "outputs": [
    {
     "name": "stdout",
     "output_type": "stream",
     "text": [
      "10 0.09158478740507359\n",
      "15 0.8354988781294496\n",
      "20 0.8538343854854736\n",
      "14 0.6059441656784624\n",
      "19 0.035734441736370415\n",
      "20 0.15838287025480557\n",
      "16 0.6384713381046937\n",
      "18 0.9493954730932436\n",
      "18 0.9357116851572259\n",
      "18 0.2682407416493281\n"
     ]
    }
   ],
   "source": [
    "random.seed(2)\n",
    "for _ in range(10):\n",
    "    print(random.randint(10,20),random.random())"
   ]
  },
  {
   "cell_type": "code",
   "execution_count": 20,
   "metadata": {},
   "outputs": [
    {
     "name": "stdout",
     "output_type": "stream",
     "text": [
      "10 0.09158478740507359\n",
      "15 0.8354988781294496\n",
      "20 0.8538343854854736\n",
      "14 0.6059441656784624\n",
      "19 0.035734441736370415\n",
      "20 0.15838287025480557\n",
      "16 0.6384713381046937\n",
      "18 0.9493954730932436\n",
      "18 0.9357116851572259\n",
      "18 0.2682407416493281\n"
     ]
    }
   ],
   "source": [
    "random.seed(2)\n",
    "for _ in range(10):\n",
    "    print(random.randint(10,20),random.random())"
   ]
  },
  {
   "cell_type": "code",
   "execution_count": 28,
   "metadata": {},
   "outputs": [
    {
     "data": {
      "text/plain": [
       "8"
      ]
     },
     "execution_count": 28,
     "metadata": {},
     "output_type": "execute_result"
    }
   ],
   "source": [
    "a = range(1,10)\n",
    "c=random.choice(a)\n",
    "c"
   ]
  },
  {
   "cell_type": "code",
   "execution_count": 29,
   "metadata": {},
   "outputs": [
    {
     "data": {
      "text/plain": [
       "[8, 7, 9, 7, 8]"
      ]
     },
     "execution_count": 29,
     "metadata": {},
     "output_type": "execute_result"
    }
   ],
   "source": [
    "a = range(1,10)\n",
    "c=random.choices(a,k=5)\n",
    "c"
   ]
  },
  {
   "cell_type": "markdown",
   "metadata": {},
   "source": [
    "## timeit "
   ]
  },
  {
   "cell_type": "code",
   "execution_count": 37,
   "metadata": {},
   "outputs": [],
   "source": [
    "from timeit import timeit"
   ]
  },
  {
   "cell_type": "code",
   "execution_count": 38,
   "metadata": {},
   "outputs": [],
   "source": [
    "import math"
   ]
  },
  {
   "cell_type": "code",
   "execution_count": 39,
   "metadata": {},
   "outputs": [
    {
     "data": {
      "text/plain": [
       "0.2149871980000171"
      ]
     },
     "execution_count": 39,
     "metadata": {},
     "output_type": "execute_result"
    }
   ],
   "source": [
    "timeit(stmt=\"import math\\nmath.sqrt(2)\")"
   ]
  },
  {
   "cell_type": "code",
   "execution_count": 40,
   "metadata": {},
   "outputs": [
    {
     "data": {
      "text/plain": [
       "0.1074619029986934"
      ]
     },
     "execution_count": 40,
     "metadata": {},
     "output_type": "execute_result"
    }
   ],
   "source": [
    "timeit(stmt=\"math.sqrt(2)\",setup='import math')"
   ]
  },
  {
   "cell_type": "code",
   "execution_count": 41,
   "metadata": {},
   "outputs": [
    {
     "data": {
      "text/plain": [
       "0.13744100899930345"
      ]
     },
     "execution_count": 41,
     "metadata": {},
     "output_type": "execute_result"
    }
   ],
   "source": [
    "timeit(stmt=\"math.sqrt(2)\",globals=globals())"
   ]
  },
  {
   "cell_type": "code",
   "execution_count": 42,
   "metadata": {},
   "outputs": [
    {
     "data": {
      "text/plain": [
       "{'__name__': '__main__',\n",
       " '__doc__': 'Automatically created module for IPython interactive environment',\n",
       " '__package__': None,\n",
       " '__loader__': None,\n",
       " '__spec__': None,\n",
       " '__builtin__': <module 'builtins' (built-in)>,\n",
       " '__builtins__': <module 'builtins' (built-in)>,\n",
       " '_ih': ['',\n",
       "  \"a= 10\\nb=100\\n\\nadd = lambda a,b:a+b\\nprint(f'{add(a,b)}')\",\n",
       "  \"a= 10\\nb=100\\n\\nprint(f'{(lambda a,b:a+b)(a,b)}')\",\n",
       "  'import random',\n",
       "  'random.randint(10,20)',\n",
       "  'print(random.randint(10,20),random.random())',\n",
       "  'for _ in range(1000):\\n    print(random.randint(10,20),random.random())',\n",
       "  'for _ in range(10):\\n    print(random.randint(10,20),random.random())',\n",
       "  'for _ in range(10):\\n    print(random.randint(10,20),random.random())',\n",
       "  'random.seed(1)',\n",
       "  'random.seed(1)\\nfor _ in range(10):\\n    print(random.randint(10,20),random.random())',\n",
       "  'random.seed(1)\\nfor _ in range(10):\\n    print(random.randint(10,20),random.random())',\n",
       "  'for _ in range(10):\\n    print(random.randint(10,20),random.random())',\n",
       "  'random.seed(1)\\nfor _ in range(10):\\n    print(random.randint(10,20),random.random())',\n",
       "  'random.seed(1)\\nfor _ in range(10):\\n    print(random.randint(10,20),random.random())',\n",
       "  'random.seed(1)\\nfor _ in range(10):\\n    print(random.randint(10,20),random.random())',\n",
       "  'random.seed(2)\\nfor _ in range(10):\\n    print(random.randint(10,20),random.random())',\n",
       "  'random.seed(2)\\nfor _ in range(10):\\n    print(random.randint(10,20),random.random())',\n",
       "  'random.seed(2)\\nfor _ in range(10):\\n    print(random.randint(10,20),random.random())',\n",
       "  'random.seed(2)\\nfor _ in range(10):\\n    print(random.randint(10,20),random.random())',\n",
       "  'random.seed(2)\\nfor _ in range(10):\\n    print(random.randint(10,20),random.random())',\n",
       "  'a = range(1,10)\\nc=random.choice(5)\\nc',\n",
       "  'a = range(1,10)\\nc=random.choice(a)\\nc',\n",
       "  'a = range(1,10)\\nc=random.choice(a)\\nc',\n",
       "  'a = range(1,10)\\nc=random.choice(a,k=5)\\nc',\n",
       "  'a = range(1,10)\\nc=random.choices(a,k=5)\\nc',\n",
       "  'a = range(1,10)\\nc=random.choices(a,k=5)\\nc',\n",
       "  'a = range(1,10)\\nc=random.choices(a,k=5)\\nc',\n",
       "  'a = range(1,10)\\nc=random.choice(a)\\nc',\n",
       "  'a = range(1,10)\\nc=random.choices(a,k=5)\\nc',\n",
       "  'weight = [1,2,1,4,2]',\n",
       "  'weight = [1,2,1,4,2]\\nrandom.choices(a,k=5,weights=weight)',\n",
       "  'weight = [1]\\nrandom.choices(a,k=5,weights=weight)',\n",
       "  'weight = [1,1,1]\\nrandom.choices(a,k=5,weights=weight)',\n",
       "  'weight = [1,1,1,1]\\nrandom.choices(a,k=5,weights=weight)',\n",
       "  'weight = [1,1,1,1,1]\\nrandom.choices(a,k=5,cum_weights=weight)',\n",
       "  'weight = [1,1,1,1,1]\\nrandom.choices(a,k=5,cum_weights=weight)',\n",
       "  'from timeit import timeit',\n",
       "  'import math',\n",
       "  'timeit(stmt=\"import math\\\\nmath.sqrt(2)\")',\n",
       "  'timeit(stmt=\"math.sqrt(2)\",setup=\\'import math\\')',\n",
       "  'timeit(stmt=\"math.sqrt(2)\",globals=globals())',\n",
       "  'globals()'],\n",
       " '_oh': {4: 11,\n",
       "  22: 1,\n",
       "  23: 1,\n",
       "  25: [4, 9, 9, 4, 8],\n",
       "  26: [2, 2, 3, 2, 2],\n",
       "  27: [5, 4, 5, 6, 9],\n",
       "  28: 8,\n",
       "  29: [8, 7, 9, 7, 8],\n",
       "  39: 0.2149871980000171,\n",
       "  40: 0.1074619029986934,\n",
       "  41: 0.13744100899930345},\n",
       " '_dh': ['/home/uday/Uday/pesonal/Practice_coding/deepdive/module1'],\n",
       " 'In': ['',\n",
       "  \"a= 10\\nb=100\\n\\nadd = lambda a,b:a+b\\nprint(f'{add(a,b)}')\",\n",
       "  \"a= 10\\nb=100\\n\\nprint(f'{(lambda a,b:a+b)(a,b)}')\",\n",
       "  'import random',\n",
       "  'random.randint(10,20)',\n",
       "  'print(random.randint(10,20),random.random())',\n",
       "  'for _ in range(1000):\\n    print(random.randint(10,20),random.random())',\n",
       "  'for _ in range(10):\\n    print(random.randint(10,20),random.random())',\n",
       "  'for _ in range(10):\\n    print(random.randint(10,20),random.random())',\n",
       "  'random.seed(1)',\n",
       "  'random.seed(1)\\nfor _ in range(10):\\n    print(random.randint(10,20),random.random())',\n",
       "  'random.seed(1)\\nfor _ in range(10):\\n    print(random.randint(10,20),random.random())',\n",
       "  'for _ in range(10):\\n    print(random.randint(10,20),random.random())',\n",
       "  'random.seed(1)\\nfor _ in range(10):\\n    print(random.randint(10,20),random.random())',\n",
       "  'random.seed(1)\\nfor _ in range(10):\\n    print(random.randint(10,20),random.random())',\n",
       "  'random.seed(1)\\nfor _ in range(10):\\n    print(random.randint(10,20),random.random())',\n",
       "  'random.seed(2)\\nfor _ in range(10):\\n    print(random.randint(10,20),random.random())',\n",
       "  'random.seed(2)\\nfor _ in range(10):\\n    print(random.randint(10,20),random.random())',\n",
       "  'random.seed(2)\\nfor _ in range(10):\\n    print(random.randint(10,20),random.random())',\n",
       "  'random.seed(2)\\nfor _ in range(10):\\n    print(random.randint(10,20),random.random())',\n",
       "  'random.seed(2)\\nfor _ in range(10):\\n    print(random.randint(10,20),random.random())',\n",
       "  'a = range(1,10)\\nc=random.choice(5)\\nc',\n",
       "  'a = range(1,10)\\nc=random.choice(a)\\nc',\n",
       "  'a = range(1,10)\\nc=random.choice(a)\\nc',\n",
       "  'a = range(1,10)\\nc=random.choice(a,k=5)\\nc',\n",
       "  'a = range(1,10)\\nc=random.choices(a,k=5)\\nc',\n",
       "  'a = range(1,10)\\nc=random.choices(a,k=5)\\nc',\n",
       "  'a = range(1,10)\\nc=random.choices(a,k=5)\\nc',\n",
       "  'a = range(1,10)\\nc=random.choice(a)\\nc',\n",
       "  'a = range(1,10)\\nc=random.choices(a,k=5)\\nc',\n",
       "  'weight = [1,2,1,4,2]',\n",
       "  'weight = [1,2,1,4,2]\\nrandom.choices(a,k=5,weights=weight)',\n",
       "  'weight = [1]\\nrandom.choices(a,k=5,weights=weight)',\n",
       "  'weight = [1,1,1]\\nrandom.choices(a,k=5,weights=weight)',\n",
       "  'weight = [1,1,1,1]\\nrandom.choices(a,k=5,weights=weight)',\n",
       "  'weight = [1,1,1,1,1]\\nrandom.choices(a,k=5,cum_weights=weight)',\n",
       "  'weight = [1,1,1,1,1]\\nrandom.choices(a,k=5,cum_weights=weight)',\n",
       "  'from timeit import timeit',\n",
       "  'import math',\n",
       "  'timeit(stmt=\"import math\\\\nmath.sqrt(2)\")',\n",
       "  'timeit(stmt=\"math.sqrt(2)\",setup=\\'import math\\')',\n",
       "  'timeit(stmt=\"math.sqrt(2)\",globals=globals())',\n",
       "  'globals()'],\n",
       " 'Out': {4: 11,\n",
       "  22: 1,\n",
       "  23: 1,\n",
       "  25: [4, 9, 9, 4, 8],\n",
       "  26: [2, 2, 3, 2, 2],\n",
       "  27: [5, 4, 5, 6, 9],\n",
       "  28: 8,\n",
       "  29: [8, 7, 9, 7, 8],\n",
       "  39: 0.2149871980000171,\n",
       "  40: 0.1074619029986934,\n",
       "  41: 0.13744100899930345},\n",
       " 'get_ipython': <bound method InteractiveShell.get_ipython of <ipykernel.zmqshell.ZMQInteractiveShell object at 0x7fbb23b9b3d0>>,\n",
       " 'exit': <IPython.core.autocall.ZMQExitAutocall at 0x7fbb20356190>,\n",
       " 'quit': <IPython.core.autocall.ZMQExitAutocall at 0x7fbb20356190>,\n",
       " '_': 9,\n",
       " '__': '',\n",
       " '___': '',\n",
       " 'os': <module 'os' from '/usr/lib/python3.8/os.py'>,\n",
       " 'sys': <module 'sys' (built-in)>,\n",
       " '_i': 'timeit(stmt=\"math.sqrt(2)\",globals=globals())',\n",
       " '_ii': 'timeit(stmt=\"math.sqrt(2)\",setup=\\'import math\\')',\n",
       " '_iii': 'timeit(stmt=\"import math\\\\nmath.sqrt(2)\")',\n",
       " '_i1': \"a= 10\\nb=100\\n\\nadd = lambda a,b:a+b\\nprint(f'{add(a,b)}')\",\n",
       " 'a': range(1, 10),\n",
       " 'b': 100,\n",
       " 'add': <function __main__.<lambda>(a, b)>,\n",
       " '_i2': \"a= 10\\nb=100\\n\\nprint(f'{(lambda a,b:a+b)(a,b)}')\",\n",
       " '_i3': 'import random',\n",
       " 'random': <module 'random' from '/usr/lib/python3.8/random.py'>,\n",
       " '_i4': 'random.randint(10,20)',\n",
       " '_4': 11,\n",
       " '_i5': 'print(random.randint(10,20),random.random())',\n",
       " '_i6': 'for _ in range(1000):\\n    print(random.randint(10,20),random.random())',\n",
       " '_i7': 'for _ in range(10):\\n    print(random.randint(10,20),random.random())',\n",
       " '_i8': 'for _ in range(10):\\n    print(random.randint(10,20),random.random())',\n",
       " '_i9': 'random.seed(1)',\n",
       " '_i10': 'random.seed(1)\\nfor _ in range(10):\\n    print(random.randint(10,20),random.random())',\n",
       " '_i11': 'random.seed(1)\\nfor _ in range(10):\\n    print(random.randint(10,20),random.random())',\n",
       " '_i12': 'for _ in range(10):\\n    print(random.randint(10,20),random.random())',\n",
       " '_i13': 'random.seed(1)\\nfor _ in range(10):\\n    print(random.randint(10,20),random.random())',\n",
       " '_i14': 'random.seed(1)\\nfor _ in range(10):\\n    print(random.randint(10,20),random.random())',\n",
       " '_i15': '\\nrandom.seed(1)\\nfor _ in range(10):\\n    print(random.randint(10,20),random.random())',\n",
       " '_i16': 'random.seed(2)\\nfor _ in range(10):\\n    print(random.randint(10,20),random.random())',\n",
       " '_i17': 'random.seed(2)\\nfor _ in range(10):\\n    print(random.randint(10,20),random.random())',\n",
       " '_i18': 'random.seed(2)\\nfor _ in range(10):\\n    print(random.randint(10,20),random.random())',\n",
       " '_i19': 'random.seed(2)\\nfor _ in range(10):\\n    print(random.randint(10,20),random.random())',\n",
       " '_i20': 'random.seed(2)\\nfor _ in range(10):\\n    print(random.randint(10,20),random.random())',\n",
       " '_i21': 'a = range(1,10)\\nc=random.choice(5)\\nc',\n",
       " '_i22': 'a = range(1,10)\\nc=random.choice(a)\\nc',\n",
       " 'c': [8, 7, 9, 7, 8],\n",
       " '_22': 1,\n",
       " '_i23': 'a = range(1,10)\\nc=random.choice(a)\\nc',\n",
       " '_23': 1,\n",
       " '_i24': 'a = range(1,10)\\nc=random.choice(a,k=5)\\nc',\n",
       " '_i25': 'a = range(1,10)\\nc=random.choices(a,k=5)\\nc',\n",
       " '_25': [4, 9, 9, 4, 8],\n",
       " '_i26': 'a = range(1,10)\\nc=random.choices(a,k=5)\\nc',\n",
       " '_26': [2, 2, 3, 2, 2],\n",
       " '_i27': 'a = range(1,10)\\nc=random.choices(a,k=5)\\nc',\n",
       " '_27': [5, 4, 5, 6, 9],\n",
       " '_i28': 'a = range(1,10)\\nc=random.choice(a)\\nc',\n",
       " '_28': 8,\n",
       " '_i29': 'a = range(1,10)\\nc=random.choices(a,k=5)\\nc',\n",
       " '_29': [8, 7, 9, 7, 8],\n",
       " '_i30': 'weight = [1,2,1,4,2]',\n",
       " 'weight': [1, 1, 1, 1, 1],\n",
       " '_i31': 'weight = [1,2,1,4,2]\\nrandom.choices(a,k=5,weights=weight)',\n",
       " '_i32': 'weight = [1]\\nrandom.choices(a,k=5,weights=weight)',\n",
       " '_i33': 'weight = [1,1,1]\\nrandom.choices(a,k=5,weights=weight)',\n",
       " '_i34': 'weight = [1,1,1,1]\\nrandom.choices(a,k=5,weights=weight)',\n",
       " '_i35': 'weight = [1,1,1,1,1]\\nrandom.choices(a,k=5,cum_weights=weight)',\n",
       " '_i36': 'weight = [1,1,1,1,1]\\nrandom.choices(a,k=5,cum_weights=weight)',\n",
       " '_i37': 'from timeit import timeit',\n",
       " 'timeit': <function timeit.timeit(stmt='pass', setup='pass', timer=<built-in function perf_counter>, number=1000000, globals=None)>,\n",
       " '_i38': 'import math',\n",
       " 'math': <module 'math' (built-in)>,\n",
       " '_i39': 'timeit(stmt=\"import math\\\\nmath.sqrt(2)\")',\n",
       " '_39': 0.2149871980000171,\n",
       " '_i40': 'timeit(stmt=\"math.sqrt(2)\",setup=\\'import math\\')',\n",
       " '_40': 0.1074619029986934,\n",
       " '_i41': 'timeit(stmt=\"math.sqrt(2)\",globals=globals())',\n",
       " '_41': 0.13744100899930345,\n",
       " '_i42': 'globals()'}"
      ]
     },
     "execution_count": 42,
     "metadata": {},
     "output_type": "execute_result"
    }
   ],
   "source": [
    "timeit(stmt=\"math.sqrt(2)\",globals=globals())"
   ]
  },
  {
   "cell_type": "code",
   "execution_count": null,
   "metadata": {},
   "outputs": [],
   "source": []
  },
  {
   "cell_type": "markdown",
   "metadata": {},
   "source": [
    "### custome adtatyope"
   ]
  },
  {
   "cell_type": "code",
   "execution_count": 7,
   "metadata": {},
   "outputs": [],
   "source": [
    "class CustomeType:\n",
    "    def __init__(self,name) -> None:\n",
    "        self.name= name\n",
    "    \n",
    "    def __repr__(self) -> str:\n",
    "        return f\"the custometype have {self.name}\"\n",
    "    \n",
    "    def __add__(self,other):\n",
    "        return CustomeType(self.name + other.name)\n",
    "    \n",
    "    def __iadd__(self,other):\n",
    "        if isinstance(other,CustomeType):\n",
    "            self.name+=other.name\n",
    "            return self\n",
    "        else:\n",
    "            return EOFError"
   ]
  },
  {
   "cell_type": "code",
   "execution_count": 14,
   "metadata": {},
   "outputs": [
    {
     "name": "stdout",
     "output_type": "stream",
     "text": [
      "139965608053680 139965608053056\n"
     ]
    }
   ],
   "source": [
    "c = CustomeType(\"uday\")\n",
    "c1 = CustomeType(\"gupta\")\n",
    "print(id(c),id(c1))"
   ]
  },
  {
   "cell_type": "code",
   "execution_count": 15,
   "metadata": {},
   "outputs": [
    {
     "name": "stdout",
     "output_type": "stream",
     "text": [
      "139965234762224\n"
     ]
    }
   ],
   "source": [
    "cr = c+c1\n",
    "print(id(cr))\n"
   ]
  },
  {
   "cell_type": "code",
   "execution_count": 16,
   "metadata": {},
   "outputs": [
    {
     "name": "stdout",
     "output_type": "stream",
     "text": [
      "139965608053680\n"
     ]
    }
   ],
   "source": [
    "c +=c1\n",
    "print(id(c))"
   ]
  },
  {
   "cell_type": "markdown",
   "metadata": {},
   "source": [
    "## List comprehension\n"
   ]
  },
  {
   "cell_type": "code",
   "execution_count": 19,
   "metadata": {},
   "outputs": [
    {
     "name": "stdout",
     "output_type": "stream",
     "text": [
      "[0, 1, 4, 9, 16, 25, 36, 49, 64, 81, 100, 121, 144, 169, 196, 225, 256, 289, 324, 361, 400, 441, 484, 529, 576, 625, 676, 729, 784, 841, 900, 961, 1024, 1089, 1156, 1225, 1296, 1369, 1444, 1521, 1600, 1681, 1764, 1849, 1936, 2025, 2116, 2209, 2304, 2401, 2500, 2601, 2704, 2809, 2916, 3025, 3136, 3249, 3364, 3481, 3600, 3721, 3844, 3969, 4096, 4225, 4356, 4489, 4624, 4761, 4900, 5041, 5184, 5329, 5476, 5625, 5776, 5929, 6084, 6241, 6400, 6561, 6724, 6889, 7056, 7225, 7396, 7569, 7744, 7921, 8100, 8281, 8464, 8649, 8836, 9025, 9216, 9409, 9604, 9801]\n"
     ]
    }
   ],
   "source": [
    "sqr = [i**2 for i in range(100)]\n",
    "print(sqr)"
   ]
  },
  {
   "cell_type": "code",
   "execution_count": 21,
   "metadata": {},
   "outputs": [
    {
     "name": "stdout",
     "output_type": "stream",
     "text": [
      "[0, 4, 16, 36, 64, 100, 144, 196, 256, 324, 400, 484, 576, 676, 784, 900, 1024, 1156, 1296, 1444, 1600, 1764, 1936, 2116, 2304, 2500, 2704, 2916, 3136, 3364, 3600, 3844, 4096, 4356, 4624, 4900, 5184, 5476, 5776, 6084, 6400, 6724, 7056, 7396, 7744, 8100, 8464, 8836, 9216, 9604]\n"
     ]
    }
   ],
   "source": [
    "even_sqr = [i**2 \n",
    "            for i in range(100)\n",
    "            if i%2==0]\n",
    "print(even_sqr)"
   ]
  },
  {
   "cell_type": "code",
   "execution_count": 23,
   "metadata": {},
   "outputs": [
    {
     "name": "stdout",
     "output_type": "stream",
     "text": [
      "[[1, 2, 3, 4, 5, 6, 7, 8, 9, 10], [2, 4, 6, 8, 10, 12, 14, 16, 18, 20], [3, 6, 9, 12, 15, 18, 21, 24, 27, 30], [4, 8, 12, 16, 20, 24, 28, 32, 36, 40], [5, 10, 15, 20, 25, 30, 35, 40, 45, 50], [6, 12, 18, 24, 30, 36, 42, 48, 54, 60], [7, 14, 21, 28, 35, 42, 49, 56, 63, 70], [8, 16, 24, 32, 40, 48, 56, 64, 72, 80], [9, 18, 27, 36, 45, 54, 63, 72, 81, 90]]\n"
     ]
    }
   ],
   "source": [
    "#print table in python\n",
    "table = [\n",
    "    [i * j for i in range(1,11)]\n",
    "    for j in range(1,10)\n",
    "]\n",
    "print(table)"
   ]
  },
  {
   "cell_type": "code",
   "execution_count": 24,
   "metadata": {},
   "outputs": [],
   "source": [
    "# pascal traingle\n",
    "from math import factorial\n",
    "def combo(n,k):\n",
    "    return factorial(n)//(factorial(n-k)*factorial(k))"
   ]
  },
  {
   "cell_type": "code",
   "execution_count": 25,
   "metadata": {},
   "outputs": [
    {
     "data": {
      "text/plain": [
       "[[1],\n",
       " [1, 1],\n",
       " [1, 2, 1],\n",
       " [1, 3, 3, 1],\n",
       " [1, 4, 6, 4, 1],\n",
       " [1, 5, 10, 10, 5, 1],\n",
       " [1, 6, 15, 20, 15, 6, 1],\n",
       " [1, 7, 21, 35, 35, 21, 7, 1],\n",
       " [1, 8, 28, 56, 70, 56, 28, 8, 1],\n",
       " [1, 9, 36, 84, 126, 126, 84, 36, 9, 1]]"
      ]
     },
     "execution_count": 25,
     "metadata": {},
     "output_type": "execute_result"
    }
   ],
   "source": [
    "pascle = [ [combo(n,k) for k in range(n+1)] for n in range(10)]\n",
    "pascle"
   ]
  },
  {
   "cell_type": "code",
   "execution_count": 26,
   "metadata": {},
   "outputs": [],
   "source": [
    "l1 = range(1,10)\n",
    "l2 = range(5,15)"
   ]
  },
  {
   "cell_type": "code",
   "execution_count": 27,
   "metadata": {},
   "outputs": [
    {
     "name": "stdout",
     "output_type": "stream",
     "text": [
      "[6, 7, 8, 9, 10, 11, 12, 13, 14, 15, 7, 8, 9, 10, 11, 12, 13, 14, 15, 16, 8, 9, 10, 11, 12, 13, 14, 15, 16, 17, 9, 10, 11, 12, 13, 14, 15, 16, 17, 18, 10, 11, 12, 13, 14, 15, 16, 17, 18, 19, 11, 12, 13, 14, 15, 16, 17, 18, 19, 20, 12, 13, 14, 15, 16, 17, 18, 19, 20, 21, 13, 14, 15, 16, 17, 18, 19, 20, 21, 22, 14, 15, 16, 17, 18, 19, 20, 21, 22, 23]\n"
     ]
    }
   ],
   "source": [
    "r  =[\n",
    "    i+j\n",
    "    for i in l1\n",
    "    for j in l2\n",
    "]\n",
    "print(r)"
   ]
  },
  {
   "cell_type": "code",
   "execution_count": 28,
   "metadata": {},
   "outputs": [
    {
     "name": "stdout",
     "output_type": "stream",
     "text": [
      "[6, 7, 8, 9, 10, 11, 12, 13, 14, 15, 7, 8, 9, 10, 11, 12, 13, 14, 15, 16, 8, 9, 10, 11, 12, 13, 14, 15, 16, 17, 9, 10, 11, 12, 13, 14, 15, 16, 17, 18, 11, 12, 13, 14, 15, 16, 17, 18, 19, 11, 13, 14, 15, 16, 17, 18, 19, 20, 12, 13, 15, 16, 17, 18, 19, 20, 21, 13, 14, 15, 17, 18, 19, 20, 21, 22, 14, 15, 16, 17, 19, 20, 21, 22, 23]\n"
     ]
    }
   ],
   "source": [
    "r  =[\n",
    "    i+j\n",
    "    for i in l1\n",
    "    for j in l2\n",
    "    if i!=j\n",
    "]\n",
    "print(r)"
   ]
  },
  {
   "cell_type": "code",
   "execution_count": null,
   "metadata": {},
   "outputs": [],
   "source": []
  }
 ],
 "metadata": {
  "interpreter": {
   "hash": "31f2aee4e71d21fbe5cf8b01ff0e069b9275f58929596ceb00d14d90e3e16cd6"
  },
  "kernelspec": {
   "display_name": "Python 3.8.10 64-bit",
   "name": "python3"
  },
  "language_info": {
   "codemirror_mode": {
    "name": "ipython",
    "version": 3
   },
   "file_extension": ".py",
   "mimetype": "text/x-python",
   "name": "python",
   "nbconvert_exporter": "python",
   "pygments_lexer": "ipython3",
   "version": "3.8.10"
  }
 },
 "nbformat": 4,
 "nbformat_minor": 2
}
