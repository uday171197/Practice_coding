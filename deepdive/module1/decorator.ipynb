{
 "cells": [
  {
   "cell_type": "markdown",
   "source": [],
   "metadata": {}
  },
  {
   "cell_type": "code",
   "execution_count": 14,
   "source": [
    "# application 1\n",
    "def timer(fn):\n",
    "    from time import perf_counter\n",
    "    def inner(*arg,**kwrg):\n",
    "        start = perf_counter()\n",
    "        result = fn(*arg,**kwrg)\n",
    "        end = perf_counter()\n",
    "        diff = end-start\n",
    "        print('execution time for function {}  is : {}s'.format(fn.__name__,str(diff)))\n",
    "        return result\n",
    "    return inner"
   ],
   "outputs": [],
   "metadata": {}
  },
  {
   "cell_type": "code",
   "execution_count": 15,
   "source": [
    "@timer\n",
    "def add():\n",
    "    return 3+6"
   ],
   "outputs": [],
   "metadata": {}
  },
  {
   "cell_type": "code",
   "execution_count": 16,
   "source": [
    "add()"
   ],
   "outputs": [
    {
     "output_type": "stream",
     "name": "stdout",
     "text": [
      "execution time for function add  is : 8.509960025548935e-07s\n"
     ]
    },
    {
     "output_type": "execute_result",
     "data": {
      "text/plain": [
       "9"
      ]
     },
     "metadata": {},
     "execution_count": 16
    }
   ],
   "metadata": {}
  },
  {
   "cell_type": "code",
   "execution_count": 17,
   "source": [
    "@timer\n",
    "def fabonaccy(n):\n",
    "    a = 1\n",
    "    b=1\n",
    "    for i in range(3,n+1):\n",
    "        a,b=b,a+b\n",
    "    return b\n",
    "    "
   ],
   "outputs": [],
   "metadata": {}
  },
  {
   "cell_type": "code",
   "execution_count": 18,
   "source": [
    "fabonaccy(1000)"
   ],
   "outputs": [
    {
     "output_type": "stream",
     "name": "stdout",
     "text": [
      "execution time for function fabonaccy  is : 0.00012351800251053646s\n"
     ]
    },
    {
     "output_type": "execute_result",
     "data": {
      "text/plain": [
       "43466557686937456435688527675040625802564660517371780402481729089536555417949051890403879840079255169295922593080322634775209689623239873322471161642996440906533187938298969649928516003704476137795166849228875"
      ]
     },
     "metadata": {},
     "execution_count": 18
    }
   ],
   "metadata": {}
  },
  {
   "cell_type": "code",
   "execution_count": 19,
   "source": [
    "\n",
    "def logger(fn):\n",
    "    count = 0\n",
    "    from functools import wraps\n",
    "    from datetime import datetime\n",
    "    \n",
    "    def inner(*arg,**kwrg):\n",
    "        print('{}  called : {} function'.format(datetime.now(),fn.__name__))\n",
    "        return fn(*arg,**kwrg)\n",
    "    return inner\n",
    "        "
   ],
   "outputs": [],
   "metadata": {}
  },
  {
   "cell_type": "code",
   "execution_count": 20,
   "source": [
    "@logger\n",
    "@timer\n",
    "def fact(n):\n",
    "    fact = 1\n",
    "    for i in range(1,n+1):\n",
    "        fact = fact * i\n",
    "        \n",
    "    return fact"
   ],
   "outputs": [],
   "metadata": {}
  },
  {
   "cell_type": "code",
   "execution_count": 21,
   "source": [
    "fact(6)"
   ],
   "outputs": [
    {
     "output_type": "stream",
     "name": "stdout",
     "text": [
      "2021-09-09 07:21:50.973387  called : inner function\n",
      "execution time for function fact  is : 3.474000550340861e-06s\n"
     ]
    },
    {
     "output_type": "execute_result",
     "data": {
      "text/plain": [
       "720"
      ]
     },
     "metadata": {},
     "execution_count": 21
    }
   ],
   "metadata": {}
  },
  {
   "cell_type": "markdown",
   "source": [
    "## memorization in decorator "
   ],
   "metadata": {}
  },
  {
   "cell_type": "code",
   "execution_count": 22,
   "source": [
    "# createing a function to calculate fabonacci using recurssion\n",
    "\n",
    "def fibo_fun(n):\n",
    "    print('calculating Fibonaccy of {}!'.format(n))\n",
    "    if n <2:\n",
    "        return 1\n",
    "    else:\n",
    "        return fibo_fun(n-1)+fibo_fun(n-2)\n",
    "    "
   ],
   "outputs": [],
   "metadata": {}
  },
  {
   "cell_type": "code",
   "execution_count": 23,
   "source": [
    "fibo_fun(10)"
   ],
   "outputs": [
    {
     "output_type": "stream",
     "name": "stdout",
     "text": [
      "calculating Fibonaccy of 10!\n",
      "calculating Fibonaccy of 9!\n",
      "calculating Fibonaccy of 8!\n",
      "calculating Fibonaccy of 7!\n",
      "calculating Fibonaccy of 6!\n",
      "calculating Fibonaccy of 5!\n",
      "calculating Fibonaccy of 4!\n",
      "calculating Fibonaccy of 3!\n",
      "calculating Fibonaccy of 2!\n",
      "calculating Fibonaccy of 1!\n",
      "calculating Fibonaccy of 0!\n",
      "calculating Fibonaccy of 1!\n",
      "calculating Fibonaccy of 2!\n",
      "calculating Fibonaccy of 1!\n",
      "calculating Fibonaccy of 0!\n",
      "calculating Fibonaccy of 3!\n",
      "calculating Fibonaccy of 2!\n",
      "calculating Fibonaccy of 1!\n",
      "calculating Fibonaccy of 0!\n",
      "calculating Fibonaccy of 1!\n",
      "calculating Fibonaccy of 4!\n",
      "calculating Fibonaccy of 3!\n",
      "calculating Fibonaccy of 2!\n",
      "calculating Fibonaccy of 1!\n",
      "calculating Fibonaccy of 0!\n",
      "calculating Fibonaccy of 1!\n",
      "calculating Fibonaccy of 2!\n",
      "calculating Fibonaccy of 1!\n",
      "calculating Fibonaccy of 0!\n",
      "calculating Fibonaccy of 5!\n",
      "calculating Fibonaccy of 4!\n",
      "calculating Fibonaccy of 3!\n",
      "calculating Fibonaccy of 2!\n",
      "calculating Fibonaccy of 1!\n",
      "calculating Fibonaccy of 0!\n",
      "calculating Fibonaccy of 1!\n",
      "calculating Fibonaccy of 2!\n",
      "calculating Fibonaccy of 1!\n",
      "calculating Fibonaccy of 0!\n",
      "calculating Fibonaccy of 3!\n",
      "calculating Fibonaccy of 2!\n",
      "calculating Fibonaccy of 1!\n",
      "calculating Fibonaccy of 0!\n",
      "calculating Fibonaccy of 1!\n",
      "calculating Fibonaccy of 6!\n",
      "calculating Fibonaccy of 5!\n",
      "calculating Fibonaccy of 4!\n",
      "calculating Fibonaccy of 3!\n",
      "calculating Fibonaccy of 2!\n",
      "calculating Fibonaccy of 1!\n",
      "calculating Fibonaccy of 0!\n",
      "calculating Fibonaccy of 1!\n",
      "calculating Fibonaccy of 2!\n",
      "calculating Fibonaccy of 1!\n",
      "calculating Fibonaccy of 0!\n",
      "calculating Fibonaccy of 3!\n",
      "calculating Fibonaccy of 2!\n",
      "calculating Fibonaccy of 1!\n",
      "calculating Fibonaccy of 0!\n",
      "calculating Fibonaccy of 1!\n",
      "calculating Fibonaccy of 4!\n",
      "calculating Fibonaccy of 3!\n",
      "calculating Fibonaccy of 2!\n",
      "calculating Fibonaccy of 1!\n",
      "calculating Fibonaccy of 0!\n",
      "calculating Fibonaccy of 1!\n",
      "calculating Fibonaccy of 2!\n",
      "calculating Fibonaccy of 1!\n",
      "calculating Fibonaccy of 0!\n",
      "calculating Fibonaccy of 7!\n",
      "calculating Fibonaccy of 6!\n",
      "calculating Fibonaccy of 5!\n",
      "calculating Fibonaccy of 4!\n",
      "calculating Fibonaccy of 3!\n",
      "calculating Fibonaccy of 2!\n",
      "calculating Fibonaccy of 1!\n",
      "calculating Fibonaccy of 0!\n",
      "calculating Fibonaccy of 1!\n",
      "calculating Fibonaccy of 2!\n",
      "calculating Fibonaccy of 1!\n",
      "calculating Fibonaccy of 0!\n",
      "calculating Fibonaccy of 3!\n",
      "calculating Fibonaccy of 2!\n",
      "calculating Fibonaccy of 1!\n",
      "calculating Fibonaccy of 0!\n",
      "calculating Fibonaccy of 1!\n",
      "calculating Fibonaccy of 4!\n",
      "calculating Fibonaccy of 3!\n",
      "calculating Fibonaccy of 2!\n",
      "calculating Fibonaccy of 1!\n",
      "calculating Fibonaccy of 0!\n",
      "calculating Fibonaccy of 1!\n",
      "calculating Fibonaccy of 2!\n",
      "calculating Fibonaccy of 1!\n",
      "calculating Fibonaccy of 0!\n",
      "calculating Fibonaccy of 5!\n",
      "calculating Fibonaccy of 4!\n",
      "calculating Fibonaccy of 3!\n",
      "calculating Fibonaccy of 2!\n",
      "calculating Fibonaccy of 1!\n",
      "calculating Fibonaccy of 0!\n",
      "calculating Fibonaccy of 1!\n",
      "calculating Fibonaccy of 2!\n",
      "calculating Fibonaccy of 1!\n",
      "calculating Fibonaccy of 0!\n",
      "calculating Fibonaccy of 3!\n",
      "calculating Fibonaccy of 2!\n",
      "calculating Fibonaccy of 1!\n",
      "calculating Fibonaccy of 0!\n",
      "calculating Fibonaccy of 1!\n",
      "calculating Fibonaccy of 8!\n",
      "calculating Fibonaccy of 7!\n",
      "calculating Fibonaccy of 6!\n",
      "calculating Fibonaccy of 5!\n",
      "calculating Fibonaccy of 4!\n",
      "calculating Fibonaccy of 3!\n",
      "calculating Fibonaccy of 2!\n",
      "calculating Fibonaccy of 1!\n",
      "calculating Fibonaccy of 0!\n",
      "calculating Fibonaccy of 1!\n",
      "calculating Fibonaccy of 2!\n",
      "calculating Fibonaccy of 1!\n",
      "calculating Fibonaccy of 0!\n",
      "calculating Fibonaccy of 3!\n",
      "calculating Fibonaccy of 2!\n",
      "calculating Fibonaccy of 1!\n",
      "calculating Fibonaccy of 0!\n",
      "calculating Fibonaccy of 1!\n",
      "calculating Fibonaccy of 4!\n",
      "calculating Fibonaccy of 3!\n",
      "calculating Fibonaccy of 2!\n",
      "calculating Fibonaccy of 1!\n",
      "calculating Fibonaccy of 0!\n",
      "calculating Fibonaccy of 1!\n",
      "calculating Fibonaccy of 2!\n",
      "calculating Fibonaccy of 1!\n",
      "calculating Fibonaccy of 0!\n",
      "calculating Fibonaccy of 5!\n",
      "calculating Fibonaccy of 4!\n",
      "calculating Fibonaccy of 3!\n",
      "calculating Fibonaccy of 2!\n",
      "calculating Fibonaccy of 1!\n",
      "calculating Fibonaccy of 0!\n",
      "calculating Fibonaccy of 1!\n",
      "calculating Fibonaccy of 2!\n",
      "calculating Fibonaccy of 1!\n",
      "calculating Fibonaccy of 0!\n",
      "calculating Fibonaccy of 3!\n",
      "calculating Fibonaccy of 2!\n",
      "calculating Fibonaccy of 1!\n",
      "calculating Fibonaccy of 0!\n",
      "calculating Fibonaccy of 1!\n",
      "calculating Fibonaccy of 6!\n",
      "calculating Fibonaccy of 5!\n",
      "calculating Fibonaccy of 4!\n",
      "calculating Fibonaccy of 3!\n",
      "calculating Fibonaccy of 2!\n",
      "calculating Fibonaccy of 1!\n",
      "calculating Fibonaccy of 0!\n",
      "calculating Fibonaccy of 1!\n",
      "calculating Fibonaccy of 2!\n",
      "calculating Fibonaccy of 1!\n",
      "calculating Fibonaccy of 0!\n",
      "calculating Fibonaccy of 3!\n",
      "calculating Fibonaccy of 2!\n",
      "calculating Fibonaccy of 1!\n",
      "calculating Fibonaccy of 0!\n",
      "calculating Fibonaccy of 1!\n",
      "calculating Fibonaccy of 4!\n",
      "calculating Fibonaccy of 3!\n",
      "calculating Fibonaccy of 2!\n",
      "calculating Fibonaccy of 1!\n",
      "calculating Fibonaccy of 0!\n",
      "calculating Fibonaccy of 1!\n",
      "calculating Fibonaccy of 2!\n",
      "calculating Fibonaccy of 1!\n",
      "calculating Fibonaccy of 0!\n"
     ]
    },
    {
     "output_type": "execute_result",
     "data": {
      "text/plain": [
       "89"
      ]
     },
     "metadata": {},
     "execution_count": 23
    }
   ],
   "metadata": {}
  },
  {
   "cell_type": "code",
   "execution_count": 24,
   "source": [
    "# using chache to store the previous result \n",
    "\n",
    "def fibo_fun(n,chacke = {1:1,2:1}):\n",
    "    if n not in chacke:\n",
    "        print('calculating Fibonaccy of {}!'.format(n))\n",
    "        chacke[n]=fibo_fun(n-1)+fibo_fun(n-2)\n",
    "    return chacke[n]\n",
    "    "
   ],
   "outputs": [],
   "metadata": {}
  },
  {
   "cell_type": "code",
   "execution_count": 25,
   "source": [
    "fibo_fun(10)"
   ],
   "outputs": [
    {
     "output_type": "stream",
     "name": "stdout",
     "text": [
      "calculating Fibonaccy of 10!\n",
      "calculating Fibonaccy of 9!\n",
      "calculating Fibonaccy of 8!\n",
      "calculating Fibonaccy of 7!\n",
      "calculating Fibonaccy of 6!\n",
      "calculating Fibonaccy of 5!\n",
      "calculating Fibonaccy of 4!\n",
      "calculating Fibonaccy of 3!\n"
     ]
    },
    {
     "output_type": "execute_result",
     "data": {
      "text/plain": [
       "55"
      ]
     },
     "metadata": {},
     "execution_count": 25
    }
   ],
   "metadata": {}
  },
  {
   "cell_type": "code",
   "execution_count": 26,
   "source": [
    "\n",
    "class Fib:\n",
    "    def __init__(self) -> None:\n",
    "        self.chache = {1:1,2:1}\n",
    "        \n",
    "    def fib(self,n):\n",
    "        if n not in self.chache:\n",
    "            print('calculating Fibonaccy of {}!'.format(n))\n",
    "            self.chache[n] = self.fib(n-1)+self.fib(n-2)\n",
    "        return self.chache[n]"
   ],
   "outputs": [],
   "metadata": {}
  },
  {
   "cell_type": "code",
   "execution_count": 27,
   "source": [
    "a = Fib()"
   ],
   "outputs": [],
   "metadata": {}
  },
  {
   "cell_type": "code",
   "execution_count": 28,
   "source": [
    "a.fib(10)"
   ],
   "outputs": [
    {
     "output_type": "stream",
     "name": "stdout",
     "text": [
      "calculating Fibonaccy of 10!\n",
      "calculating Fibonaccy of 9!\n",
      "calculating Fibonaccy of 8!\n",
      "calculating Fibonaccy of 7!\n",
      "calculating Fibonaccy of 6!\n",
      "calculating Fibonaccy of 5!\n",
      "calculating Fibonaccy of 4!\n",
      "calculating Fibonaccy of 3!\n"
     ]
    },
    {
     "output_type": "execute_result",
     "data": {
      "text/plain": [
       "55"
      ]
     },
     "metadata": {},
     "execution_count": 28
    }
   ],
   "metadata": {}
  },
  {
   "cell_type": "markdown",
   "source": [
    "## using closer to calculate fibonaccy "
   ],
   "metadata": {}
  },
  {
   "cell_type": "code",
   "execution_count": 29,
   "source": [
    "\n",
    "def Fib():\n",
    "    chache = {1:1,2:1}\n",
    "    def fibo_fun(n):\n",
    "        if n not in chache:\n",
    "            print('calculating Fibonaccy of {}!'.format(n))\n",
    "            chache[n]=fibo_fun(n-1)+fibo_fun(n-2)\n",
    "        return chache[n]\n",
    "    return fibo_fun\n"
   ],
   "outputs": [],
   "metadata": {}
  },
  {
   "cell_type": "code",
   "execution_count": 30,
   "source": [
    "fibo_fun = Fib()"
   ],
   "outputs": [],
   "metadata": {}
  },
  {
   "cell_type": "code",
   "execution_count": 31,
   "source": [
    "fibo_fun(10)"
   ],
   "outputs": [
    {
     "output_type": "stream",
     "name": "stdout",
     "text": [
      "calculating Fibonaccy of 10!\n",
      "calculating Fibonaccy of 9!\n",
      "calculating Fibonaccy of 8!\n",
      "calculating Fibonaccy of 7!\n",
      "calculating Fibonaccy of 6!\n",
      "calculating Fibonaccy of 5!\n",
      "calculating Fibonaccy of 4!\n",
      "calculating Fibonaccy of 3!\n"
     ]
    },
    {
     "output_type": "execute_result",
     "data": {
      "text/plain": [
       "55"
      ]
     },
     "metadata": {},
     "execution_count": 31
    }
   ],
   "metadata": {}
  },
  {
   "cell_type": "code",
   "execution_count": 32,
   "source": [
    "fibo_fun(16)"
   ],
   "outputs": [
    {
     "output_type": "stream",
     "name": "stdout",
     "text": [
      "calculating Fibonaccy of 16!\n",
      "calculating Fibonaccy of 15!\n",
      "calculating Fibonaccy of 14!\n",
      "calculating Fibonaccy of 13!\n",
      "calculating Fibonaccy of 12!\n",
      "calculating Fibonaccy of 11!\n"
     ]
    },
    {
     "output_type": "execute_result",
     "data": {
      "text/plain": [
       "987"
      ]
     },
     "metadata": {},
     "execution_count": 32
    }
   ],
   "metadata": {}
  },
  {
   "cell_type": "markdown",
   "source": [
    "## using decorator to calculate fibonaccy function"
   ],
   "metadata": {}
  },
  {
   "cell_type": "code",
   "execution_count": 33,
   "source": [
    "def Memorize(fn):\n",
    "    chache = dict()\n",
    "    def inner(n):\n",
    "        if n not in chache:\n",
    "            chache[n]=fn(n)\n",
    "        return chache[n]\n",
    "    return inner"
   ],
   "outputs": [],
   "metadata": {}
  },
  {
   "cell_type": "code",
   "execution_count": 34,
   "source": [
    "@Memorize\n",
    "def fin_calc(n):\n",
    "    print('calculating Fibonaccy of {}'.format(n))\n",
    "    if n <=2:\n",
    "        return 1\n",
    "    else:\n",
    "        return fin_calc(n-1)+fin_calc(n-2)"
   ],
   "outputs": [],
   "metadata": {}
  },
  {
   "cell_type": "code",
   "execution_count": 35,
   "source": [
    "fin_calc(10)"
   ],
   "outputs": [
    {
     "output_type": "stream",
     "name": "stdout",
     "text": [
      "calculating Fibonaccy of 10\n",
      "calculating Fibonaccy of 9\n",
      "calculating Fibonaccy of 8\n",
      "calculating Fibonaccy of 7\n",
      "calculating Fibonaccy of 6\n",
      "calculating Fibonaccy of 5\n",
      "calculating Fibonaccy of 4\n",
      "calculating Fibonaccy of 3\n",
      "calculating Fibonaccy of 2\n",
      "calculating Fibonaccy of 1\n"
     ]
    },
    {
     "output_type": "execute_result",
     "data": {
      "text/plain": [
       "55"
      ]
     },
     "metadata": {},
     "execution_count": 35
    }
   ],
   "metadata": {}
  },
  {
   "cell_type": "code",
   "execution_count": 36,
   "source": [
    "fin_calc(11)"
   ],
   "outputs": [
    {
     "output_type": "stream",
     "name": "stdout",
     "text": [
      "calculating Fibonaccy of 11\n"
     ]
    },
    {
     "output_type": "execute_result",
     "data": {
      "text/plain": [
       "89"
      ]
     },
     "metadata": {},
     "execution_count": 36
    }
   ],
   "metadata": {}
  },
  {
   "cell_type": "code",
   "execution_count": 37,
   "source": [
    "fin_calc(20)"
   ],
   "outputs": [
    {
     "output_type": "stream",
     "name": "stdout",
     "text": [
      "calculating Fibonaccy of 20\n",
      "calculating Fibonaccy of 19\n",
      "calculating Fibonaccy of 18\n",
      "calculating Fibonaccy of 17\n",
      "calculating Fibonaccy of 16\n",
      "calculating Fibonaccy of 15\n",
      "calculating Fibonaccy of 14\n",
      "calculating Fibonaccy of 13\n",
      "calculating Fibonaccy of 12\n"
     ]
    },
    {
     "output_type": "execute_result",
     "data": {
      "text/plain": [
       "6765"
      ]
     },
     "metadata": {},
     "execution_count": 37
    }
   ],
   "metadata": {}
  },
  {
   "cell_type": "code",
   "execution_count": 38,
   "source": [
    "\n",
    "# calculating factorial \n",
    "def fact(n):\n",
    "    print('calculating factorial of {}!'.format(n))\n",
    "    return 1 if n==1 else n*fact(n-1)"
   ],
   "outputs": [],
   "metadata": {}
  },
  {
   "cell_type": "code",
   "execution_count": 39,
   "source": [
    "fact(10)"
   ],
   "outputs": [
    {
     "output_type": "stream",
     "name": "stdout",
     "text": [
      "calculating factorial of 10!\n",
      "calculating factorial of 9!\n",
      "calculating factorial of 8!\n",
      "calculating factorial of 7!\n",
      "calculating factorial of 6!\n",
      "calculating factorial of 5!\n",
      "calculating factorial of 4!\n",
      "calculating factorial of 3!\n",
      "calculating factorial of 2!\n",
      "calculating factorial of 1!\n"
     ]
    },
    {
     "output_type": "execute_result",
     "data": {
      "text/plain": [
       "3628800"
      ]
     },
     "metadata": {},
     "execution_count": 39
    }
   ],
   "metadata": {}
  },
  {
   "cell_type": "code",
   "execution_count": 40,
   "source": [
    "fact(10)"
   ],
   "outputs": [
    {
     "output_type": "stream",
     "name": "stdout",
     "text": [
      "calculating factorial of 10!\n",
      "calculating factorial of 9!\n",
      "calculating factorial of 8!\n",
      "calculating factorial of 7!\n",
      "calculating factorial of 6!\n",
      "calculating factorial of 5!\n",
      "calculating factorial of 4!\n",
      "calculating factorial of 3!\n",
      "calculating factorial of 2!\n",
      "calculating factorial of 1!\n"
     ]
    },
    {
     "output_type": "execute_result",
     "data": {
      "text/plain": [
       "3628800"
      ]
     },
     "metadata": {},
     "execution_count": 40
    }
   ],
   "metadata": {}
  },
  {
   "cell_type": "code",
   "execution_count": 41,
   "source": [
    "\n",
    "@Memorize\n",
    "@timer\n",
    "def fact(n):\n",
    "    print('calculating factorial of {}!'.format(n))\n",
    "    return 1 if n==1 else n*fact(n-1)"
   ],
   "outputs": [],
   "metadata": {}
  },
  {
   "cell_type": "code",
   "execution_count": 42,
   "source": [
    "fact(10)"
   ],
   "outputs": [
    {
     "output_type": "stream",
     "name": "stdout",
     "text": [
      "calculating factorial of 10!\n",
      "calculating factorial of 9!\n",
      "calculating factorial of 8!\n",
      "calculating factorial of 7!\n",
      "calculating factorial of 6!\n",
      "calculating factorial of 5!\n",
      "calculating factorial of 4!\n",
      "calculating factorial of 3!\n",
      "calculating factorial of 2!\n",
      "calculating factorial of 1!\n",
      "execution time for function fact  is : 1.1434000043664128e-05s\n",
      "execution time for function fact  is : 4.276599793229252e-05s\n",
      "execution time for function fact  is : 6.821800343459472e-05s\n",
      "execution time for function fact  is : 9.340900578536093e-05s\n",
      "execution time for function fact  is : 0.0001181070038001053s\n",
      "execution time for function fact  is : 0.00014423499669646844s\n",
      "execution time for function fact  is : 0.00018010200437856838s\n",
      "execution time for function fact  is : 0.0004447819956112653s\n",
      "execution time for function fact  is : 0.0004744809994008392s\n",
      "execution time for function fact  is : 0.0005389110010582954s\n"
     ]
    },
    {
     "output_type": "execute_result",
     "data": {
      "text/plain": [
       "3628800"
      ]
     },
     "metadata": {},
     "execution_count": 42
    }
   ],
   "metadata": {}
  },
  {
   "cell_type": "code",
   "execution_count": 43,
   "source": [
    "fact(11)"
   ],
   "outputs": [
    {
     "output_type": "stream",
     "name": "stdout",
     "text": [
      "calculating factorial of 11!\n",
      "execution time for function fact  is : 7.484300294891e-05s\n"
     ]
    },
    {
     "output_type": "execute_result",
     "data": {
      "text/plain": [
       "39916800"
      ]
     },
     "metadata": {},
     "execution_count": 43
    }
   ],
   "metadata": {}
  },
  {
   "cell_type": "code",
   "execution_count": 44,
   "source": [
    "fact(20)"
   ],
   "outputs": [
    {
     "output_type": "stream",
     "name": "stdout",
     "text": [
      "calculating factorial of 20!\n",
      "calculating factorial of 19!\n",
      "calculating factorial of 18!\n",
      "calculating factorial of 17!\n",
      "calculating factorial of 16!\n",
      "calculating factorial of 15!\n",
      "calculating factorial of 14!\n",
      "calculating factorial of 13!\n",
      "calculating factorial of 12!\n",
      "execution time for function fact  is : 1.218199759023264e-05s\n",
      "execution time for function fact  is : 4.672600334743038e-05s\n",
      "execution time for function fact  is : 7.406600343529135e-05s\n",
      "execution time for function fact  is : 9.941100142896175e-05s\n",
      "execution time for function fact  is : 0.0001279420030186884s\n",
      "execution time for function fact  is : 0.00016925000090850517s\n",
      "execution time for function fact  is : 0.0004625529982149601s\n",
      "execution time for function fact  is : 0.0005473709970829077s\n",
      "execution time for function fact  is : 0.0006661619991064072s\n"
     ]
    },
    {
     "output_type": "execute_result",
     "data": {
      "text/plain": [
       "2432902008176640000"
      ]
     },
     "metadata": {},
     "execution_count": 44
    }
   ],
   "metadata": {}
  },
  {
   "cell_type": "code",
   "execution_count": 45,
   "source": [
    "from functools import lru_cache\n"
   ],
   "outputs": [],
   "metadata": {}
  },
  {
   "cell_type": "code",
   "execution_count": 46,
   "source": [
    "\n",
    "@lru_cache()\n",
    "def fact(n):\n",
    "    print('calculating factorial of {}!'.format(n))\n",
    "    return 1 if n==1 else n*fact(n-1)\n"
   ],
   "outputs": [],
   "metadata": {}
  },
  {
   "cell_type": "code",
   "execution_count": 47,
   "source": [
    "fact(10)"
   ],
   "outputs": [
    {
     "output_type": "stream",
     "name": "stdout",
     "text": [
      "calculating factorial of 10!\n",
      "calculating factorial of 9!\n",
      "calculating factorial of 8!\n",
      "calculating factorial of 7!\n",
      "calculating factorial of 6!\n",
      "calculating factorial of 5!\n",
      "calculating factorial of 4!\n",
      "calculating factorial of 3!\n",
      "calculating factorial of 2!\n",
      "calculating factorial of 1!\n"
     ]
    },
    {
     "output_type": "execute_result",
     "data": {
      "text/plain": [
       "3628800"
      ]
     },
     "metadata": {},
     "execution_count": 47
    }
   ],
   "metadata": {}
  },
  {
   "cell_type": "code",
   "execution_count": 48,
   "source": [
    "fact(11)"
   ],
   "outputs": [
    {
     "output_type": "stream",
     "name": "stdout",
     "text": [
      "calculating factorial of 11!\n"
     ]
    },
    {
     "output_type": "execute_result",
     "data": {
      "text/plain": [
       "39916800"
      ]
     },
     "metadata": {},
     "execution_count": 48
    }
   ],
   "metadata": {}
  },
  {
   "cell_type": "code",
   "execution_count": 49,
   "source": [
    "fact(20)"
   ],
   "outputs": [
    {
     "output_type": "stream",
     "name": "stdout",
     "text": [
      "calculating factorial of 20!\n",
      "calculating factorial of 19!\n",
      "calculating factorial of 18!\n",
      "calculating factorial of 17!\n",
      "calculating factorial of 16!\n",
      "calculating factorial of 15!\n",
      "calculating factorial of 14!\n",
      "calculating factorial of 13!\n",
      "calculating factorial of 12!\n"
     ]
    },
    {
     "output_type": "execute_result",
     "data": {
      "text/plain": [
       "2432902008176640000"
      ]
     },
     "metadata": {},
     "execution_count": 49
    }
   ],
   "metadata": {}
  },
  {
   "cell_type": "code",
   "execution_count": 50,
   "source": [
    "@lru_cache(8)\n",
    "def fact(n):\n",
    "    print('calculating factorial of {}!'.format(n))\n",
    "    return 1 if n==1 else n*fact(n-1)"
   ],
   "outputs": [],
   "metadata": {}
  },
  {
   "cell_type": "code",
   "execution_count": 51,
   "source": [
    "fact(10)"
   ],
   "outputs": [
    {
     "output_type": "stream",
     "name": "stdout",
     "text": [
      "calculating factorial of 10!\n",
      "calculating factorial of 9!\n",
      "calculating factorial of 8!\n",
      "calculating factorial of 7!\n",
      "calculating factorial of 6!\n",
      "calculating factorial of 5!\n",
      "calculating factorial of 4!\n",
      "calculating factorial of 3!\n",
      "calculating factorial of 2!\n",
      "calculating factorial of 1!\n"
     ]
    },
    {
     "output_type": "execute_result",
     "data": {
      "text/plain": [
       "3628800"
      ]
     },
     "metadata": {},
     "execution_count": 51
    }
   ],
   "metadata": {}
  },
  {
   "cell_type": "code",
   "execution_count": 52,
   "source": [
    "fact(1)"
   ],
   "outputs": [
    {
     "output_type": "stream",
     "name": "stdout",
     "text": [
      "calculating factorial of 1!\n"
     ]
    },
    {
     "output_type": "execute_result",
     "data": {
      "text/plain": [
       "1"
      ]
     },
     "metadata": {},
     "execution_count": 52
    }
   ],
   "metadata": {}
  },
  {
   "cell_type": "code",
   "execution_count": 53,
   "source": [
    "fact(6)"
   ],
   "outputs": [
    {
     "output_type": "execute_result",
     "data": {
      "text/plain": [
       "720"
      ]
     },
     "metadata": {},
     "execution_count": 53
    }
   ],
   "metadata": {}
  },
  {
   "cell_type": "markdown",
   "source": [
    "# Paramererized Decorator\n"
   ],
   "metadata": {}
  },
  {
   "cell_type": "code",
   "execution_count": 54,
   "source": [
    "#  its a normal time decorator\n",
    "def timer(fn):\n",
    "    from time import perf_counter\n",
    "    def inner(*arg,**kwrg):\n",
    "        diff_count = 0\n",
    "        diff_sum = 0\n",
    "        for i in range(10):\n",
    "            start = perf_counter()\n",
    "            result = fn(*arg,**kwrg)\n",
    "            end = perf_counter()\n",
    "            diff = end-start\n",
    "            diff_sum += diff\n",
    "            diff_count += 1\n",
    "        avg_diff = diff_sum/diff_count\n",
    "        print('execution time for function {}  is : {}s ({} rept)'.format(fn.__name__,str(avg_diff),10))\n",
    "        return result\n",
    "    return inner"
   ],
   "outputs": [],
   "metadata": {}
  },
  {
   "cell_type": "code",
   "execution_count": 55,
   "source": [
    "def fact(n):\n",
    "    # print('calculating factorial of {}!'.format(n))\n",
    "    return 1 if n==1 else n*fact(n-1)"
   ],
   "outputs": [],
   "metadata": {}
  },
  {
   "cell_type": "code",
   "execution_count": 56,
   "source": [
    "@timer\n",
    "def calculate_fact(n):\n",
    "    return fact(n)\n"
   ],
   "outputs": [],
   "metadata": {}
  },
  {
   "cell_type": "code",
   "execution_count": 57,
   "source": [
    "\n",
    "calculate_fact(10)"
   ],
   "outputs": [
    {
     "output_type": "stream",
     "name": "stdout",
     "text": [
      "execution time for function calculate_fact  is : 1.2190008419565857e-06s (10 rept)\n"
     ]
    },
    {
     "output_type": "execute_result",
     "data": {
      "text/plain": [
       "3628800"
      ]
     },
     "metadata": {},
     "execution_count": 57
    }
   ],
   "metadata": {}
  },
  {
   "cell_type": "code",
   "execution_count": 58,
   "source": [
    "def timer(n):\n",
    "    def dec(fn):\n",
    "        from time import perf_counter\n",
    "        def inner(*arg,**kwrg):\n",
    "            diff_count = 0\n",
    "            diff_sum = 0\n",
    "            for i in range(n):\n",
    "                start = perf_counter()\n",
    "                result = fn(*arg,**kwrg)\n",
    "                end = perf_counter()\n",
    "                diff = end-start\n",
    "                diff_sum += diff\n",
    "                diff_count += 1\n",
    "            avg_diff = diff_sum/diff_count\n",
    "            print('execution time for function {}  is : {}s ({} rept)'.format(fn.__name__,str(avg_diff),n))\n",
    "            return result\n",
    "        return inner\n",
    "    return dec"
   ],
   "outputs": [],
   "metadata": {}
  },
  {
   "cell_type": "code",
   "execution_count": 59,
   "source": [
    "@timer(10)\n",
    "def calculate_fact(n):\n",
    "    return fact(n)"
   ],
   "outputs": [],
   "metadata": {}
  },
  {
   "cell_type": "code",
   "execution_count": 60,
   "source": [
    "\n",
    "calculate_fact(10)"
   ],
   "outputs": [
    {
     "output_type": "stream",
     "name": "stdout",
     "text": [
      "execution time for function calculate_fact  is : 1.378901652060449e-06s (10 rept)\n"
     ]
    },
    {
     "output_type": "execute_result",
     "data": {
      "text/plain": [
       "3628800"
      ]
     },
     "metadata": {},
     "execution_count": 60
    }
   ],
   "metadata": {}
  },
  {
   "cell_type": "code",
   "execution_count": 61,
   "source": [
    "@timer(15)\n",
    "def calculate_fact(n):\n",
    "    return fact(n)"
   ],
   "outputs": [],
   "metadata": {}
  },
  {
   "cell_type": "code",
   "execution_count": 62,
   "source": [
    "\n",
    "calculate_fact(10)"
   ],
   "outputs": [
    {
     "output_type": "stream",
     "name": "stdout",
     "text": [
      "execution time for function calculate_fact  is : 1.7726008081808686e-06s (15 rept)\n"
     ]
    },
    {
     "output_type": "execute_result",
     "data": {
      "text/plain": [
       "3628800"
      ]
     },
     "metadata": {},
     "execution_count": 62
    }
   ],
   "metadata": {}
  },
  {
   "cell_type": "markdown",
   "source": [
    "# Class decorators\n"
   ],
   "metadata": {}
  },
  {
   "cell_type": "code",
   "execution_count": 63,
   "source": [
    "#first we are going to declear a parameterized decoator\n",
    "def dec(a,b):\n",
    "    def dec1(fn):\n",
    "        def inner(*arg,**kargs):\n",
    "            print('Decorator a= {},b={} arg = {}, kargs = {}'.format(a,b,arg,kargs))\n",
    "            return fn(*arg,**kargs)\n",
    "        return inner\n",
    "    return dec1"
   ],
   "outputs": [],
   "metadata": {}
  },
  {
   "cell_type": "code",
   "execution_count": 64,
   "source": [
    "@dec(10,20)\n",
    "def funcs(c):\n",
    "    print('c = {}'.format(c))"
   ],
   "outputs": [],
   "metadata": {}
  },
  {
   "cell_type": "code",
   "execution_count": 65,
   "source": [
    "funcs(10)"
   ],
   "outputs": [
    {
     "output_type": "stream",
     "name": "stdout",
     "text": [
      "Decorator a= 10,b=20 arg = (10,), kargs = {}\n",
      "c = 10\n"
     ]
    }
   ],
   "metadata": {}
  },
  {
   "cell_type": "code",
   "execution_count": 66,
   "source": [
    "#creating a class decorator , for that we arge going to use __call__ method to decleare an closer\n",
    "class class_dec:\n",
    "    def __init__(self,a,b) -> None:\n",
    "        self.a = a\n",
    "        self.b = b\n",
    "    def __call__(self,fn):\n",
    "        def inner(*arg,**kargs):\n",
    "            print('Decorator a= {},b={} arg = {}, kargs = {}'.format(self.a,self.b,arg,kargs))\n",
    "            return fn(*arg,**kargs)\n",
    "        return inner\n",
    "    "
   ],
   "outputs": [],
   "metadata": {}
  },
  {
   "cell_type": "code",
   "execution_count": 67,
   "source": [
    "@class_dec(10,20)\n",
    "def class_dec_funcs(c):\n",
    "    print('c = {}'.format(c))"
   ],
   "outputs": [],
   "metadata": {}
  },
  {
   "cell_type": "code",
   "execution_count": 68,
   "source": [
    "class_dec_funcs(15)"
   ],
   "outputs": [
    {
     "output_type": "stream",
     "name": "stdout",
     "text": [
      "Decorator a= 10,b=20 arg = (15,), kargs = {}\n",
      "c = 15\n"
     ]
    }
   ],
   "metadata": {}
  },
  {
   "cell_type": "markdown",
   "source": [
    "## monkey patch"
   ],
   "metadata": {}
  },
  {
   "cell_type": "code",
   "execution_count": 71,
   "source": [
    "from fractions import Fraction"
   ],
   "outputs": [],
   "metadata": {}
  },
  {
   "cell_type": "code",
   "execution_count": 75,
   "source": [
    "f = Fraction(9/3)"
   ],
   "outputs": [],
   "metadata": {}
  },
  {
   "cell_type": "code",
   "execution_count": 76,
   "source": [
    "f.denominator"
   ],
   "outputs": [
    {
     "output_type": "execute_result",
     "data": {
      "text/plain": [
       "1"
      ]
     },
     "metadata": {},
     "execution_count": 76
    }
   ],
   "metadata": {}
  },
  {
   "cell_type": "code",
   "execution_count": 77,
   "source": [
    "f.numerator"
   ],
   "outputs": [
    {
     "output_type": "execute_result",
     "data": {
      "text/plain": [
       "3"
      ]
     },
     "metadata": {},
     "execution_count": 77
    }
   ],
   "metadata": {}
  },
  {
   "cell_type": "code",
   "execution_count": 78,
   "source": [
    "Fraction.speak = 'I am speakinhg'"
   ],
   "outputs": [],
   "metadata": {}
  },
  {
   "cell_type": "code",
   "execution_count": 79,
   "source": [
    "f.speak"
   ],
   "outputs": [
    {
     "output_type": "execute_result",
     "data": {
      "text/plain": [
       "'I am speakinhg'"
      ]
     },
     "metadata": {},
     "execution_count": 79
    }
   ],
   "metadata": {}
  },
  {
   "cell_type": "code",
   "execution_count": 100,
   "source": [
    "Fraction.speak = lambda self,message: 'I am saying : {}'.format(message)"
   ],
   "outputs": [],
   "metadata": {}
  },
  {
   "cell_type": "code",
   "execution_count": 101,
   "source": [
    "f.speak('hii I am uday')"
   ],
   "outputs": [
    {
     "output_type": "execute_result",
     "data": {
      "text/plain": [
       "'I am saying : hii I am uday'"
      ]
     },
     "metadata": {},
     "execution_count": 101
    }
   ],
   "metadata": {}
  },
  {
   "cell_type": "code",
   "execution_count": 104,
   "source": [
    "Fraction.is_integer = lambda self: self.denominator ==1"
   ],
   "outputs": [],
   "metadata": {}
  },
  {
   "cell_type": "code",
   "execution_count": 105,
   "source": [
    "f.is_integer()"
   ],
   "outputs": [
    {
     "output_type": "execute_result",
     "data": {
      "text/plain": [
       "True"
      ]
     },
     "metadata": {},
     "execution_count": 105
    }
   ],
   "metadata": {}
  },
  {
   "cell_type": "markdown",
   "source": [
    "## decorate a class "
   ],
   "metadata": {}
  },
  {
   "cell_type": "code",
   "execution_count": 125,
   "source": [
    "def dec_class(cls):\n",
    "    cls.speak = lambda self, msg:'{0} says: {1}'.format(cls.__class__.__name__\n",
    "                                                        ,msg)\n",
    "    return cls"
   ],
   "outputs": [],
   "metadata": {}
  },
  {
   "cell_type": "code",
   "execution_count": 126,
   "source": [
    "Fraction = dec_class(Fraction)\n"
   ],
   "outputs": [],
   "metadata": {}
  },
  {
   "cell_type": "code",
   "execution_count": 127,
   "source": [
    "f.speak('hello this use class decorators')"
   ],
   "outputs": [
    {
     "output_type": "execute_result",
     "data": {
      "text/plain": [
       "'ABCMeta says: hello this use class decorators'"
      ]
     },
     "metadata": {},
     "execution_count": 127
    }
   ],
   "metadata": {}
  },
  {
   "cell_type": "code",
   "execution_count": 128,
   "source": [
    "class Person:\n",
    "    pass"
   ],
   "outputs": [],
   "metadata": {}
  },
  {
   "cell_type": "code",
   "execution_count": 129,
   "source": [
    "p = Person()"
   ],
   "outputs": [],
   "metadata": {}
  },
  {
   "cell_type": "code",
   "execution_count": 130,
   "source": [
    "Person = dec_class(Person)"
   ],
   "outputs": [],
   "metadata": {}
  },
  {
   "cell_type": "code",
   "execution_count": 132,
   "source": [
    "p.speak('hii')"
   ],
   "outputs": [
    {
     "output_type": "execute_result",
     "data": {
      "text/plain": [
       "'type says: hii'"
      ]
     },
     "metadata": {},
     "execution_count": 132
    }
   ],
   "metadata": {}
  },
  {
   "cell_type": "code",
   "execution_count": 133,
   "source": [
    "from datetime import datetime"
   ],
   "outputs": [],
   "metadata": {}
  },
  {
   "cell_type": "code",
   "execution_count": 137,
   "source": [
    "def info(self):\n",
    "    data = []\n",
    "    data.append('time : {}'.format(datetime.today()))\n",
    "    data.append('Address : {}'.format(hex(id(self))))\n",
    "    data.append('Class : {}'.format(self.__class__.__name__))\n",
    "    for k,v in vars(self).items():\n",
    "        data.append('{} : {}'.format(k,v))\n",
    "                    \n",
    "    return data\n",
    "    "
   ],
   "outputs": [],
   "metadata": {}
  },
  {
   "cell_type": "code",
   "execution_count": 138,
   "source": [
    "def deco_class(cls):\n",
    "    cls.debug= info\n",
    "    return cls\n",
    "\n",
    "    "
   ],
   "outputs": [],
   "metadata": {}
  },
  {
   "cell_type": "code",
   "execution_count": 139,
   "source": [
    "@deco_class\n",
    "class Person:\n",
    "    def __init__(self,name,age) -> None:\n",
    "        self.name = name\n",
    "        self.age = age\n",
    "        \n",
    "    def display(self):\n",
    "        print(self.name,self.age)\n",
    "        \n",
    "        "
   ],
   "outputs": [],
   "metadata": {}
  },
  {
   "cell_type": "code",
   "execution_count": 140,
   "source": [
    "P = Person('Uday',20)"
   ],
   "outputs": [],
   "metadata": {}
  },
  {
   "cell_type": "code",
   "execution_count": 141,
   "source": [
    "P.debug()"
   ],
   "outputs": [
    {
     "output_type": "execute_result",
     "data": {
      "text/plain": [
       "['time : 2021-09-09 08:10:28.268924',\n",
       " 'Address : 0x7fd4866d8400',\n",
       " 'Class : Person',\n",
       " 'name : Uday',\n",
       " 'age : 20']"
      ]
     },
     "metadata": {},
     "execution_count": 141
    }
   ],
   "metadata": {}
  },
  {
   "cell_type": "code",
   "execution_count": 171,
   "source": [
    "@deco_class\n",
    "class Automobile:\n",
    "    def __init__(self,name , model,top_speed) -> None:\n",
    "        self.name = name\n",
    "        self.model = model\n",
    "        self.top_speed = top_speed\n",
    "        self._limit = 0\n",
    "        \n",
    "    @property\n",
    "    def limit(self):\n",
    "        return self._limit\n",
    "    \n",
    "    @limit.setter\n",
    "    def limit(self,value):\n",
    "        if value > self.top_speed:\n",
    "            print('cannot have more then {} speed'.format(self.top_speed))\n",
    "        else:\n",
    "            self._limit = value\n",
    "            "
   ],
   "outputs": [],
   "metadata": {}
  },
  {
   "cell_type": "code",
   "execution_count": 172,
   "source": [
    "auto = Automobile('Tata','Safari',90)"
   ],
   "outputs": [],
   "metadata": {}
  },
  {
   "cell_type": "code",
   "execution_count": 173,
   "source": [
    "auto.debug()"
   ],
   "outputs": [
    {
     "output_type": "execute_result",
     "data": {
      "text/plain": [
       "['time : 2021-09-09 08:44:46.296982',\n",
       " 'Address : 0x7fd48662af70',\n",
       " 'Class : Automobile',\n",
       " 'name : Tata',\n",
       " 'model : Safari',\n",
       " 'top_speed : 90',\n",
       " '_limit : 0']"
      ]
     },
     "metadata": {},
     "execution_count": 173
    }
   ],
   "metadata": {}
  },
  {
   "cell_type": "code",
   "execution_count": 178,
   "source": [
    "auto.limit = 10\n"
   ],
   "outputs": [],
   "metadata": {}
  },
  {
   "cell_type": "code",
   "execution_count": 179,
   "source": [
    "auto.limit"
   ],
   "outputs": [
    {
     "output_type": "execute_result",
     "data": {
      "text/plain": [
       "10"
      ]
     },
     "metadata": {},
     "execution_count": 179
    }
   ],
   "metadata": {}
  },
  {
   "cell_type": "code",
   "execution_count": null,
   "source": [],
   "outputs": [],
   "metadata": {}
  }
 ],
 "metadata": {
  "language_info": {
   "name": "python",
   "version": "3.8.10",
   "mimetype": "text/x-python",
   "codemirror_mode": {
    "name": "ipython",
    "version": 3
   },
   "pygments_lexer": "ipython3",
   "nbconvert_exporter": "python",
   "file_extension": ".py"
  },
  "kernelspec": {
   "name": "python3",
   "display_name": "Python 3.8.10 64-bit"
  },
  "interpreter": {
   "hash": "31f2aee4e71d21fbe5cf8b01ff0e069b9275f58929596ceb00d14d90e3e16cd6"
  }
 },
 "nbformat": 4,
 "nbformat_minor": 2
}